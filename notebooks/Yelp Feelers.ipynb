{
 "cells": [
  {
   "cell_type": "code",
   "execution_count": 1,
   "metadata": {},
   "outputs": [
    {
     "name": "stderr",
     "output_type": "stream",
     "text": [
      "/Users/maximevacher-materno/anaconda3/lib/python3.7/site-packages/nltk/decorators.py:68: DeprecationWarning: `formatargspec` is deprecated since Python 3.5. Use `signature` and the `Signature` object directly\n",
      "  regargs, varargs, varkwargs, defaults, formatvalue=lambda value: \"\"\n",
      "/Users/maximevacher-materno/anaconda3/lib/python3.7/site-packages/nltk/lm/counter.py:15: DeprecationWarning: Using or importing the ABCs from 'collections' instead of from 'collections.abc' is deprecated, and in 3.8 it will stop working\n",
      "  from collections import Sequence, defaultdict\n",
      "/Users/maximevacher-materno/anaconda3/lib/python3.7/site-packages/google/protobuf/descriptor.py:47: DeprecationWarning: Using or importing the ABCs from 'collections' instead of from 'collections.abc' is deprecated, and in 3.8 it will stop working\n",
      "  from google.protobuf.pyext import _message\n"
     ]
    }
   ],
   "source": [
    "''' This notebook is better run on a GPU '''\n",
    "''' Imports and such '''\n",
    "''' The essentials '''\n",
    "import pandas as pd \n",
    "import numpy as np \n",
    "import seaborn as sns\n",
    "import matplotlib.pyplot as plt\n",
    "from collections import Counter\n",
    "\n",
    "''' Base stuff '''\n",
    "import os\n",
    "import re\n",
    "\n",
    "''' Gensim Stuff '''\n",
    "import gensim\n",
    "from gensim.utils import simple_preprocess\n",
    "from gensim.parsing.preprocessing import STOPWORDS\n",
    "from gensim import corpora \n",
    "from gensim.models.ldamulticore import LdaMulticore\n",
    "#from gensim.models import LdaMulticore\n",
    "from gensim.corpora import Dictionary\n",
    "import pyLDAvis.gensim\n",
    "\n",
    "''' Vectorizers '''\n",
    "from sklearn.feature_extraction.text import TfidfVectorizer\n",
    "from sklearn.feature_extraction.text import CountVectorizer\n",
    "from gensim.models import Word2Vec\n",
    "from nltk.stem import SnowballStemmer\n",
    "\n",
    "''' Pipeline '''\n",
    "from sklearn.pipeline import Pipeline\n",
    "from sklearn.model_selection import GridSearchCV, train_test_split\n",
    "from sklearn.decomposition import TruncatedSVD\n",
    "from sklearn.linear_model import SGDClassifier, SGDRegressor \n",
    "\n",
    "''' Ensemble Stuff '''\n",
    "from sklearn.ensemble import RandomForestClassifier\n",
    "\n",
    "''' KNN '''\n",
    "from sklearn.neighbors import NearestNeighbors\n",
    "\n",
    "''' PreProcessing '''\n",
    "from sklearn.preprocessing import StandardScaler, LabelEncoder, OneHotEncoder\n",
    "\n",
    "''' TensorFlow Stuff '''\n",
    "import tensorflow as tf\n",
    "from tensorflow.keras.layers import Dense, Dropout, LSTM, Embedding, Conv1D, MaxPooling1D, Activation\n",
    "from tensorflow.keras import Sequential\n",
    "from tensorflow.keras.utils import to_categorical, get_file\n",
    "from tensorflow.keras.preprocessing import sequence #one_hot, hashing_trick\n",
    "from tensorflow.keras.preprocessing.text import Tokenizer\n",
    "from tensorflow.keras.preprocessing.sequence import pad_sequences"
   ]
  },
  {
   "cell_type": "code",
   "execution_count": 2,
   "metadata": {},
   "outputs": [
    {
     "name": "stdout",
     "output_type": "stream",
     "text": [
      "(5261668, 9)\n"
     ]
    }
   ],
   "source": [
    "''' Ringing in the Data '''\n",
    "\n",
    "reviews_df = pd.read_csv('yelp_review.csv', engine='python', error_bad_lines=False)\n",
    "business_df = pd.read_csv('yelp_business.csv')\n",
    "#tips_df = pd.read_csv('yelp_tip.csv', engine='python', error_bad_lines=False)\n",
    "#attributes_df = pd.read_csv('yelp_business_attributes.csv')\n",
    "\n",
    "print(reviews_df.shape) #, business_df.shape, tips_df.shape, attributes_df.shape)\n",
    "''' Jesus, dem shape sizes '''\n",
    "reviews_df = reviews_df.drop(columns = {'review_id', 'date', 'useful', 'funny', 'cool'})\n",
    "business_df = business_df.drop(columns = {'neighborhood', 'address', 'postal_code', 'latitude', 'longitude', 'is_open', 'categories', 'city', 'state', 'review_count'})\n",
    "business_df = business_df.rename(columns={'stars' : 'rating'})"
   ]
  },
  {
   "cell_type": "code",
   "execution_count": 3,
   "metadata": {},
   "outputs": [
    {
     "name": "stdout",
     "output_type": "stream",
     "text": [
      "(5261668, 4)\n"
     ]
    },
    {
     "data": {
      "text/html": [
       "<div>\n",
       "<style scoped>\n",
       "    .dataframe tbody tr th:only-of-type {\n",
       "        vertical-align: middle;\n",
       "    }\n",
       "\n",
       "    .dataframe tbody tr th {\n",
       "        vertical-align: top;\n",
       "    }\n",
       "\n",
       "    .dataframe thead th {\n",
       "        text-align: right;\n",
       "    }\n",
       "</style>\n",
       "<table border=\"1\" class=\"dataframe\">\n",
       "  <thead>\n",
       "    <tr style=\"text-align: right;\">\n",
       "      <th></th>\n",
       "      <th>user_id</th>\n",
       "      <th>business_id</th>\n",
       "      <th>stars</th>\n",
       "      <th>text</th>\n",
       "    </tr>\n",
       "  </thead>\n",
       "  <tbody>\n",
       "    <tr>\n",
       "      <td>0</td>\n",
       "      <td>bv2nCi5Qv5vroFiqKGopiw</td>\n",
       "      <td>AEx2SYEUJmTxVVB18LlCwA</td>\n",
       "      <td>5</td>\n",
       "      <td>Super simple place but amazing nonetheless. It...</td>\n",
       "    </tr>\n",
       "    <tr>\n",
       "      <td>1</td>\n",
       "      <td>bv2nCi5Qv5vroFiqKGopiw</td>\n",
       "      <td>VR6GpWIda3SfvPC-lg9H3w</td>\n",
       "      <td>5</td>\n",
       "      <td>Small unassuming place that changes their menu...</td>\n",
       "    </tr>\n",
       "    <tr>\n",
       "      <td>2</td>\n",
       "      <td>bv2nCi5Qv5vroFiqKGopiw</td>\n",
       "      <td>CKC0-MOWMqoeWf6s-szl8g</td>\n",
       "      <td>5</td>\n",
       "      <td>Lester's is located in a beautiful neighborhoo...</td>\n",
       "    </tr>\n",
       "    <tr>\n",
       "      <td>3</td>\n",
       "      <td>bv2nCi5Qv5vroFiqKGopiw</td>\n",
       "      <td>ACFtxLv8pGrrxMm6EgjreA</td>\n",
       "      <td>4</td>\n",
       "      <td>Love coming here. Yes the place always needs t...</td>\n",
       "    </tr>\n",
       "    <tr>\n",
       "      <td>4</td>\n",
       "      <td>bv2nCi5Qv5vroFiqKGopiw</td>\n",
       "      <td>s2I_Ni76bjJNK9yG60iD-Q</td>\n",
       "      <td>4</td>\n",
       "      <td>Had their chocolate almond croissant and it wa...</td>\n",
       "    </tr>\n",
       "  </tbody>\n",
       "</table>\n",
       "</div>"
      ],
      "text/plain": [
       "                  user_id             business_id  stars  \\\n",
       "0  bv2nCi5Qv5vroFiqKGopiw  AEx2SYEUJmTxVVB18LlCwA      5   \n",
       "1  bv2nCi5Qv5vroFiqKGopiw  VR6GpWIda3SfvPC-lg9H3w      5   \n",
       "2  bv2nCi5Qv5vroFiqKGopiw  CKC0-MOWMqoeWf6s-szl8g      5   \n",
       "3  bv2nCi5Qv5vroFiqKGopiw  ACFtxLv8pGrrxMm6EgjreA      4   \n",
       "4  bv2nCi5Qv5vroFiqKGopiw  s2I_Ni76bjJNK9yG60iD-Q      4   \n",
       "\n",
       "                                                text  \n",
       "0  Super simple place but amazing nonetheless. It...  \n",
       "1  Small unassuming place that changes their menu...  \n",
       "2  Lester's is located in a beautiful neighborhoo...  \n",
       "3  Love coming here. Yes the place always needs t...  \n",
       "4  Had their chocolate almond croissant and it wa...  "
      ]
     },
     "execution_count": 3,
     "metadata": {},
     "output_type": "execute_result"
    }
   ],
   "source": [
    "print(reviews_df.shape)\n",
    "reviews_df.head()"
   ]
  },
  {
   "cell_type": "code",
   "execution_count": 4,
   "metadata": {},
   "outputs": [],
   "source": [
    "''' Merging the DataFrames '''\n",
    "reviews_df = pd.merge(reviews_df, business_df, how='inner')"
   ]
  },
  {
   "cell_type": "code",
   "execution_count": 5,
   "metadata": {},
   "outputs": [
    {
     "name": "stdout",
     "output_type": "stream",
     "text": [
      "(5261668, 6)\n"
     ]
    },
    {
     "data": {
      "text/html": [
       "<div>\n",
       "<style scoped>\n",
       "    .dataframe tbody tr th:only-of-type {\n",
       "        vertical-align: middle;\n",
       "    }\n",
       "\n",
       "    .dataframe tbody tr th {\n",
       "        vertical-align: top;\n",
       "    }\n",
       "\n",
       "    .dataframe thead th {\n",
       "        text-align: right;\n",
       "    }\n",
       "</style>\n",
       "<table border=\"1\" class=\"dataframe\">\n",
       "  <thead>\n",
       "    <tr style=\"text-align: right;\">\n",
       "      <th></th>\n",
       "      <th>user_id</th>\n",
       "      <th>business_id</th>\n",
       "      <th>stars</th>\n",
       "      <th>text</th>\n",
       "      <th>name</th>\n",
       "      <th>rating</th>\n",
       "    </tr>\n",
       "  </thead>\n",
       "  <tbody>\n",
       "    <tr>\n",
       "      <td>0</td>\n",
       "      <td>bv2nCi5Qv5vroFiqKGopiw</td>\n",
       "      <td>AEx2SYEUJmTxVVB18LlCwA</td>\n",
       "      <td>5</td>\n",
       "      <td>Super simple place but amazing nonetheless. It...</td>\n",
       "      <td>\"Wilensky's\"</td>\n",
       "      <td>4.0</td>\n",
       "    </tr>\n",
       "    <tr>\n",
       "      <td>1</td>\n",
       "      <td>xYciRtVZ1PW4IxSX4oJ1aw</td>\n",
       "      <td>AEx2SYEUJmTxVVB18LlCwA</td>\n",
       "      <td>5</td>\n",
       "      <td>*The shop was featured on Mind of a Chef with ...</td>\n",
       "      <td>\"Wilensky's\"</td>\n",
       "      <td>4.0</td>\n",
       "    </tr>\n",
       "    <tr>\n",
       "      <td>2</td>\n",
       "      <td>5Ymfsf9fAYz-Ds_p0xawVQ</td>\n",
       "      <td>AEx2SYEUJmTxVVB18LlCwA</td>\n",
       "      <td>5</td>\n",
       "      <td>As its name suggests, Wilensky's is a lunch co...</td>\n",
       "      <td>\"Wilensky's\"</td>\n",
       "      <td>4.0</td>\n",
       "    </tr>\n",
       "    <tr>\n",
       "      <td>3</td>\n",
       "      <td>DVOOF0Z627DyrZ4XKQbTgA</td>\n",
       "      <td>AEx2SYEUJmTxVVB18LlCwA</td>\n",
       "      <td>5</td>\n",
       "      <td>Stopped by for the Wilensky's Special, loved i...</td>\n",
       "      <td>\"Wilensky's\"</td>\n",
       "      <td>4.0</td>\n",
       "    </tr>\n",
       "    <tr>\n",
       "      <td>4</td>\n",
       "      <td>5JoKz3mU42Cp906KRXDwJw</td>\n",
       "      <td>AEx2SYEUJmTxVVB18LlCwA</td>\n",
       "      <td>4</td>\n",
       "      <td>I have to admit, I am a fan. Just entering the...</td>\n",
       "      <td>\"Wilensky's\"</td>\n",
       "      <td>4.0</td>\n",
       "    </tr>\n",
       "  </tbody>\n",
       "</table>\n",
       "</div>"
      ],
      "text/plain": [
       "                  user_id             business_id  stars  \\\n",
       "0  bv2nCi5Qv5vroFiqKGopiw  AEx2SYEUJmTxVVB18LlCwA      5   \n",
       "1  xYciRtVZ1PW4IxSX4oJ1aw  AEx2SYEUJmTxVVB18LlCwA      5   \n",
       "2  5Ymfsf9fAYz-Ds_p0xawVQ  AEx2SYEUJmTxVVB18LlCwA      5   \n",
       "3  DVOOF0Z627DyrZ4XKQbTgA  AEx2SYEUJmTxVVB18LlCwA      5   \n",
       "4  5JoKz3mU42Cp906KRXDwJw  AEx2SYEUJmTxVVB18LlCwA      4   \n",
       "\n",
       "                                                text          name  rating  \n",
       "0  Super simple place but amazing nonetheless. It...  \"Wilensky's\"     4.0  \n",
       "1  *The shop was featured on Mind of a Chef with ...  \"Wilensky's\"     4.0  \n",
       "2  As its name suggests, Wilensky's is a lunch co...  \"Wilensky's\"     4.0  \n",
       "3  Stopped by for the Wilensky's Special, loved i...  \"Wilensky's\"     4.0  \n",
       "4  I have to admit, I am a fan. Just entering the...  \"Wilensky's\"     4.0  "
      ]
     },
     "execution_count": 5,
     "metadata": {},
     "output_type": "execute_result"
    }
   ],
   "source": [
    "print(reviews_df.shape)\n",
    "reviews_df.head()"
   ]
  },
  {
   "cell_type": "code",
   "execution_count": 6,
   "metadata": {},
   "outputs": [],
   "source": [
    "''' Getting only the Taco places  '''\n",
    "\n",
    "mask = (reviews_df['text'].str.contains('taco'))\n",
    "reviews_df = reviews_df[mask]\n",
    "tacos_df = reviews_df"
   ]
  },
  {
   "cell_type": "code",
   "execution_count": 7,
   "metadata": {},
   "outputs": [
    {
     "name": "stdout",
     "output_type": "stream",
     "text": [
      "(121979, 6)\n"
     ]
    },
    {
     "data": {
      "text/plain": [
       "\" \\nOf those 5 million reviews(lol) roughly 122k deal with places that serve \\ntacos, so we'll start from there\\n\""
      ]
     },
     "execution_count": 7,
     "metadata": {},
     "output_type": "execute_result"
    }
   ],
   "source": [
    "print(reviews_df.shape)\n",
    "''' \n",
    "Of those 5 million reviews(lol) roughly 122k deal with places that serve \n",
    "tacos, so we'll start from there\n",
    "'''"
   ]
  },
  {
   "cell_type": "code",
   "execution_count": 8,
   "metadata": {},
   "outputs": [],
   "source": [
    "''' \n",
    "Taking smaples of the data so that it's easier to work with, when final \n",
    "model is complete, will comment out this section and run the full notebook\n",
    "'''\n",
    "reviews_df, X_test = train_test_split(reviews_df, train_size = .92, random_state=69)"
   ]
  },
  {
   "cell_type": "code",
   "execution_count": 9,
   "metadata": {},
   "outputs": [
    {
     "name": "stdout",
     "output_type": "stream",
     "text": [
      "(112220, 6)\n"
     ]
    },
    {
     "data": {
      "text/plain": [
       "' Niceeeee we can work with this  '"
      ]
     },
     "execution_count": 9,
     "metadata": {},
     "output_type": "execute_result"
    }
   ],
   "source": [
    "print(reviews_df.shape)\n",
    "''' Niceeeee we can work with this  '''"
   ]
  },
  {
   "cell_type": "code",
   "execution_count": 10,
   "metadata": {},
   "outputs": [],
   "source": [
    "''' Cleaning up the text and preparing for NLP '''\n",
    "STOPWORDS = set(STOPWORDS).union(set(['the', 'aa', 'aaa', 'aaaaaa' ])) # will update as I go further along\n",
    "\n",
    "\n",
    "def tokenize(text): \n",
    "    return [token for token in simple_preprocess(text) if token not in STOPWORDS and len(token) >=3]\n",
    "\n",
    "''' Also throwing in some regex cleaning just for good measure '''\n",
    "def clean(text):\n",
    "    text = re.sub(r\"[^A-Za-z0-9^,!.\\/'+-=]\", \" \", text)\n",
    "    text = re.sub(r\"what's\", \"what is \", text)\n",
    "    text = re.sub(r\"\\'s\", \" \", text)\n",
    "    text = re.sub(r\"\\'ve\", \" have \", text)\n",
    "    text = re.sub(r\"n't\", \" not \", text)\n",
    "    text = re.sub(r\"i'm\", \"i am \", text)\n",
    "    text = re.sub(r\"\\'re\", \" are \", text)\n",
    "    text = re.sub(r\"\\'d\", \" would \", text)\n",
    "    text = re.sub(r\"\\'ll\", \" will \", text)\n",
    "    text = re.sub(r\",\", \" \", text)\n",
    "    text = re.sub(r\"\\.\", \" \", text)\n",
    "    text = re.sub(r\"!\", \" ! \", text)\n",
    "    text = re.sub(r\"\\/\", \" \", text)\n",
    "    text = re.sub(r\"\\^\", \" ^ \", text)\n",
    "    text = re.sub(r\"\\+\", \" + \", text)\n",
    "    text = re.sub(r\"\\-\", \" - \", text)\n",
    "    text = re.sub(r\"\\=\", \" = \", text)\n",
    "    text = re.sub(r\"'\", \" \", text)\n",
    "    text = re.sub(r\"(\\d+)(k)\", r\"\\g<1>000\", text)\n",
    "    text = re.sub(r\":\", \" : \", text)\n",
    "    text = re.sub(r\" e g \", \" eg \", text)\n",
    "    text = re.sub(r\" b g \", \" bg \", text)\n",
    "    text = re.sub(r\" u s \", \" american \", text)\n",
    "    text = re.sub(r\"\\0s\", \"0\", text)\n",
    "    text = re.sub(r\" 9 11 \", \"911\", text)\n",
    "    text = re.sub(r\"e - mail\", \"email\", text)\n",
    "    text = re.sub(r\"j k\", \"jk\", text)\n",
    "    text = re.sub(r\"\\s{2,}\", \" \", text)\n",
    "    text = text.replace('\\n', '')\n",
    "    \n",
    "    text = text.split()\n",
    "    stemmer = SnowballStemmer('english')\n",
    "    stemmed_words = [stemmer.stem(word) for word in text]\n",
    "    text = \" \".join(stemmed_words)\n",
    "\n",
    "    return text"
   ]
  },
  {
   "cell_type": "code",
   "execution_count": 11,
   "metadata": {},
   "outputs": [
    {
     "name": "stderr",
     "output_type": "stream",
     "text": [
      "/Users/maximevacher-materno/anaconda3/lib/python3.7/site-packages/ipykernel_launcher.py:1: SettingWithCopyWarning: \n",
      "A value is trying to be set on a copy of a slice from a DataFrame.\n",
      "Try using .loc[row_indexer,col_indexer] = value instead\n",
      "\n",
      "See the caveats in the documentation: http://pandas.pydata.org/pandas-docs/stable/user_guide/indexing.html#returning-a-view-versus-a-copy\n",
      "  \"\"\"Entry point for launching an IPython kernel.\n",
      "/Users/maximevacher-materno/anaconda3/lib/python3.7/site-packages/ipykernel_launcher.py:2: SettingWithCopyWarning: \n",
      "A value is trying to be set on a copy of a slice from a DataFrame.\n",
      "Try using .loc[row_indexer,col_indexer] = value instead\n",
      "\n",
      "See the caveats in the documentation: http://pandas.pydata.org/pandas-docs/stable/user_guide/indexing.html#returning-a-view-versus-a-copy\n",
      "  \n"
     ]
    },
    {
     "data": {
      "text/plain": [
       "423810     [cosmo, best, restaurants, strip, excited, try...\n",
       "1101674    [ate, lunch, juan, server, tostada, salad, sho...\n",
       "2314731    [team, came, work, dinner, drinks, week, open,...\n",
       "87975      [location, lovely, atmosphere, delightful, ser...\n",
       "1066501    [stopped, visiting, rock, roll, hall, fame, wi...\n",
       "Name: tokens, dtype: object"
      ]
     },
     "execution_count": 11,
     "metadata": {},
     "output_type": "execute_result"
    }
   ],
   "source": [
    "reviews_df['tokens'] = reviews_df['text'].apply(tokenize, clean)\n",
    "X_test['tokens'] = X_test['text'].apply(tokenize, clean)\n",
    "tacos_df['tokens'] = tacos_df['text'].apply(tokenize, clean)\n",
    "reviews_df['tokens'].head()"
   ]
  },
  {
   "cell_type": "code",
   "execution_count": null,
   "metadata": {},
   "outputs": [],
   "source": []
  },
  {
   "cell_type": "code",
   "execution_count": 12,
   "metadata": {},
   "outputs": [],
   "source": [
    "''' Vectorizing the text column '''\n",
    "vect = TfidfVectorizer()\n",
    "text = X_test['tokens'].astype(str)\n",
    "vect.fit(text)\n",
    "dtm = vect.transform(text)"
   ]
  },
  {
   "cell_type": "code",
   "execution_count": 13,
   "metadata": {},
   "outputs": [
    {
     "data": {
      "text/plain": [
       "423810     [cosmo, best, restaurants, strip, excited, try...\n",
       "1101674    [ate, lunch, juan, server, tostada, salad, sho...\n",
       "2314731    [team, came, work, dinner, drinks, week, open,...\n",
       "87975      [location, lovely, atmosphere, delightful, ser...\n",
       "1066501    [stopped, visiting, rock, roll, hall, fame, wi...\n",
       "                                 ...                        \n",
       "1431524    [enjoy, going, carolina, area, definitely, ste...\n",
       "722865     [great, little, taco, spot, hidden, phoenix, p...\n",
       "320038     [visited, bustling, friday, night, hostess, ta...\n",
       "2147472    [couple, times, enjoy, andrew, server, night, ...\n",
       "2012844    [love, restaurants, converted, houses, ask, pa...\n",
       "Name: tokens, Length: 112220, dtype: object"
      ]
     },
     "execution_count": 13,
     "metadata": {},
     "output_type": "execute_result"
    }
   ],
   "source": [
    "reviews_df['tokens']"
   ]
  },
  {
   "cell_type": "code",
   "execution_count": 14,
   "metadata": {},
   "outputs": [],
   "source": [
    "# Checking out Feature names\n",
    "feature_names = vect.get_feature_names()\n",
    "#print(feature_names)"
   ]
  },
  {
   "cell_type": "code",
   "execution_count": 15,
   "metadata": {},
   "outputs": [
    {
     "data": {
      "text/html": [
       "<div>\n",
       "<style scoped>\n",
       "    .dataframe tbody tr th:only-of-type {\n",
       "        vertical-align: middle;\n",
       "    }\n",
       "\n",
       "    .dataframe tbody tr th {\n",
       "        vertical-align: top;\n",
       "    }\n",
       "\n",
       "    .dataframe thead th {\n",
       "        text-align: right;\n",
       "    }\n",
       "</style>\n",
       "<table border=\"1\" class=\"dataframe\">\n",
       "  <thead>\n",
       "    <tr style=\"text-align: right;\">\n",
       "      <th></th>\n",
       "      <th>aaaaaamazing</th>\n",
       "      <th>aaaaand</th>\n",
       "      <th>aaaand</th>\n",
       "      <th>aaah</th>\n",
       "      <th>aaannd</th>\n",
       "      <th>aah</th>\n",
       "      <th>aahhh</th>\n",
       "      <th>aand</th>\n",
       "      <th>aaron</th>\n",
       "      <th>aback</th>\n",
       "      <th>...</th>\n",
       "      <th>étaient</th>\n",
       "      <th>étais</th>\n",
       "      <th>était</th>\n",
       "      <th>étant</th>\n",
       "      <th>étroitesse</th>\n",
       "      <th>été</th>\n",
       "      <th>évidemment</th>\n",
       "      <th>être</th>\n",
       "      <th>ímuy</th>\n",
       "      <th>über</th>\n",
       "    </tr>\n",
       "  </thead>\n",
       "  <tbody>\n",
       "    <tr>\n",
       "      <td>0</td>\n",
       "      <td>0.0</td>\n",
       "      <td>0.0</td>\n",
       "      <td>0.0</td>\n",
       "      <td>0.0</td>\n",
       "      <td>0.0</td>\n",
       "      <td>0.0</td>\n",
       "      <td>0.0</td>\n",
       "      <td>0.0</td>\n",
       "      <td>0.0</td>\n",
       "      <td>0.0</td>\n",
       "      <td>...</td>\n",
       "      <td>0.0</td>\n",
       "      <td>0.0</td>\n",
       "      <td>0.0</td>\n",
       "      <td>0.0</td>\n",
       "      <td>0.0</td>\n",
       "      <td>0.0</td>\n",
       "      <td>0.0</td>\n",
       "      <td>0.0</td>\n",
       "      <td>0.0</td>\n",
       "      <td>0.0</td>\n",
       "    </tr>\n",
       "    <tr>\n",
       "      <td>1</td>\n",
       "      <td>0.0</td>\n",
       "      <td>0.0</td>\n",
       "      <td>0.0</td>\n",
       "      <td>0.0</td>\n",
       "      <td>0.0</td>\n",
       "      <td>0.0</td>\n",
       "      <td>0.0</td>\n",
       "      <td>0.0</td>\n",
       "      <td>0.0</td>\n",
       "      <td>0.0</td>\n",
       "      <td>...</td>\n",
       "      <td>0.0</td>\n",
       "      <td>0.0</td>\n",
       "      <td>0.0</td>\n",
       "      <td>0.0</td>\n",
       "      <td>0.0</td>\n",
       "      <td>0.0</td>\n",
       "      <td>0.0</td>\n",
       "      <td>0.0</td>\n",
       "      <td>0.0</td>\n",
       "      <td>0.0</td>\n",
       "    </tr>\n",
       "    <tr>\n",
       "      <td>2</td>\n",
       "      <td>0.0</td>\n",
       "      <td>0.0</td>\n",
       "      <td>0.0</td>\n",
       "      <td>0.0</td>\n",
       "      <td>0.0</td>\n",
       "      <td>0.0</td>\n",
       "      <td>0.0</td>\n",
       "      <td>0.0</td>\n",
       "      <td>0.0</td>\n",
       "      <td>0.0</td>\n",
       "      <td>...</td>\n",
       "      <td>0.0</td>\n",
       "      <td>0.0</td>\n",
       "      <td>0.0</td>\n",
       "      <td>0.0</td>\n",
       "      <td>0.0</td>\n",
       "      <td>0.0</td>\n",
       "      <td>0.0</td>\n",
       "      <td>0.0</td>\n",
       "      <td>0.0</td>\n",
       "      <td>0.0</td>\n",
       "    </tr>\n",
       "    <tr>\n",
       "      <td>3</td>\n",
       "      <td>0.0</td>\n",
       "      <td>0.0</td>\n",
       "      <td>0.0</td>\n",
       "      <td>0.0</td>\n",
       "      <td>0.0</td>\n",
       "      <td>0.0</td>\n",
       "      <td>0.0</td>\n",
       "      <td>0.0</td>\n",
       "      <td>0.0</td>\n",
       "      <td>0.0</td>\n",
       "      <td>...</td>\n",
       "      <td>0.0</td>\n",
       "      <td>0.0</td>\n",
       "      <td>0.0</td>\n",
       "      <td>0.0</td>\n",
       "      <td>0.0</td>\n",
       "      <td>0.0</td>\n",
       "      <td>0.0</td>\n",
       "      <td>0.0</td>\n",
       "      <td>0.0</td>\n",
       "      <td>0.0</td>\n",
       "    </tr>\n",
       "    <tr>\n",
       "      <td>4</td>\n",
       "      <td>0.0</td>\n",
       "      <td>0.0</td>\n",
       "      <td>0.0</td>\n",
       "      <td>0.0</td>\n",
       "      <td>0.0</td>\n",
       "      <td>0.0</td>\n",
       "      <td>0.0</td>\n",
       "      <td>0.0</td>\n",
       "      <td>0.0</td>\n",
       "      <td>0.0</td>\n",
       "      <td>...</td>\n",
       "      <td>0.0</td>\n",
       "      <td>0.0</td>\n",
       "      <td>0.0</td>\n",
       "      <td>0.0</td>\n",
       "      <td>0.0</td>\n",
       "      <td>0.0</td>\n",
       "      <td>0.0</td>\n",
       "      <td>0.0</td>\n",
       "      <td>0.0</td>\n",
       "      <td>0.0</td>\n",
       "    </tr>\n",
       "  </tbody>\n",
       "</table>\n",
       "<p>5 rows × 22445 columns</p>\n",
       "</div>"
      ],
      "text/plain": [
       "   aaaaaamazing  aaaaand  aaaand  aaah  aaannd  aah  aahhh  aand  aaron  \\\n",
       "0           0.0      0.0     0.0   0.0     0.0  0.0    0.0   0.0    0.0   \n",
       "1           0.0      0.0     0.0   0.0     0.0  0.0    0.0   0.0    0.0   \n",
       "2           0.0      0.0     0.0   0.0     0.0  0.0    0.0   0.0    0.0   \n",
       "3           0.0      0.0     0.0   0.0     0.0  0.0    0.0   0.0    0.0   \n",
       "4           0.0      0.0     0.0   0.0     0.0  0.0    0.0   0.0    0.0   \n",
       "\n",
       "   aback  ...  étaient  étais  était  étant  étroitesse  été  évidemment  \\\n",
       "0    0.0  ...      0.0    0.0    0.0    0.0         0.0  0.0         0.0   \n",
       "1    0.0  ...      0.0    0.0    0.0    0.0         0.0  0.0         0.0   \n",
       "2    0.0  ...      0.0    0.0    0.0    0.0         0.0  0.0         0.0   \n",
       "3    0.0  ...      0.0    0.0    0.0    0.0         0.0  0.0         0.0   \n",
       "4    0.0  ...      0.0    0.0    0.0    0.0         0.0  0.0         0.0   \n",
       "\n",
       "   être  ímuy  über  \n",
       "0   0.0   0.0   0.0  \n",
       "1   0.0   0.0   0.0  \n",
       "2   0.0   0.0   0.0  \n",
       "3   0.0   0.0   0.0  \n",
       "4   0.0   0.0   0.0  \n",
       "\n",
       "[5 rows x 22445 columns]"
      ]
     },
     "execution_count": 15,
     "metadata": {},
     "output_type": "execute_result"
    }
   ],
   "source": [
    "''' Converting spare matrix and putting it into a dataframe and using get_feature_names as the column headers '''\n",
    "dtm = pd.DataFrame(dtm.todense(), columns=vect.get_feature_names())\n",
    "dtm.head()\n",
    "\n"
   ]
  },
  {
   "cell_type": "code",
   "execution_count": 16,
   "metadata": {},
   "outputs": [
    {
     "data": {
      "text/plain": [
       "NearestNeighbors(algorithm='ball_tree', leaf_size=30, metric='minkowski',\n",
       "                 metric_params=None, n_jobs=None, n_neighbors=5, p=2,\n",
       "                 radius=1.0)"
      ]
     },
     "execution_count": 16,
     "metadata": {},
     "output_type": "execute_result"
    }
   ],
   "source": [
    "''' Doing KNN on a Fake review I make and finding the nearest 10 Neighbors '''\n",
    "nn  = NearestNeighbors(n_neighbors=5, algorithm='ball_tree')\n",
    "nn.fit(dtm)"
   ]
  },
  {
   "cell_type": "code",
   "execution_count": 17,
   "metadata": {},
   "outputs": [],
   "source": [
    "fake_ass_review = ['''\n",
    "Came here for Lunch with my great great great anny who aboslutely LOVES tacos along with her taco nacho monster plate.\n",
    "We actually hail from Los Angeles where the tacos are fresh so the tacos here in Vegas was alright but it could have \n",
    "been better. I personally claim myself as being a true honest to goodness taco Afficienado so when I first laid \n",
    "eyes on the tacos here i was pretty blown away by the presentation however once I actually started to dig in it became \n",
    "very apparent that it would NOT be living up to how good it's presentation was. \n",
    "\n",
    "Oh well, any day where you get to eat tacos is a good day in my book. \n",
    "Espeically when you get to eat tacos with you great great great GREAT anny. \n",
    "\n",
    "OH and the prices are higher than cheech and chong on a Joe rogan Podcast with Elon Musk.\n",
    "\n",
    "''']"
   ]
  },
  {
   "cell_type": "code",
   "execution_count": 18,
   "metadata": {},
   "outputs": [],
   "source": [
    "new = vect.transform(fake_ass_review)\n",
    "a = nn.kneighbors(new.todense())"
   ]
  },
  {
   "cell_type": "code",
   "execution_count": 19,
   "metadata": {},
   "outputs": [
    {
     "data": {
      "text/plain": [
       "(array([[1.23945952, 1.24225552, 1.26149741, 1.26359526, 1.2689409 ]]),\n",
       " array([[5313, 5492, 1633, 9327, 3766]]))"
      ]
     },
     "execution_count": 19,
     "metadata": {},
     "output_type": "execute_result"
    }
   ],
   "source": [
    "a[0:2]"
   ]
  },
  {
   "cell_type": "code",
   "execution_count": 20,
   "metadata": {},
   "outputs": [
    {
     "name": "stdout",
     "output_type": "stream",
     "text": [
      "The chips were kinda stale, but the tacos were yummy!   I would for sure give this another try if in the area!\n"
     ]
    },
    {
     "data": {
      "text/plain": [
       "\" \\nahahha nice, so the recommendations thing works and finds the nearest review,\\ntotally not neccessary for this project but could be fun stretch goal if we have time \\nto spare. The usefulness here is that if someone had a text review just like YOURS for \\nanother taco place, it's likely that those two people are very similar and thus could \\nserve as a good potential place for that other person to try out. Kinda like how spotify\\ndoes their song recommendations. Just we need to SQL Business ID and Business name and \\nboom, theres a list of recommendations. \\n\""
      ]
     },
     "execution_count": 20,
     "metadata": {},
     "output_type": "execute_result"
    }
   ],
   "source": [
    "print(reviews_df['text'].iloc[5313])\n",
    "\n",
    "''' \n",
    "ahahha nice, so the recommendations thing works and finds the nearest review,\n",
    "totally not neccessary for this project but could be fun stretch goal if we have time \n",
    "to spare. The usefulness here is that if someone had a text review just like YOURS for \n",
    "another taco place, it's likely that those two people are very similar and thus could \n",
    "serve as a good potential place for that other person to try out. Kinda like how spotify\n",
    "does their song recommendations. Just we need to SQL Business ID and Business name and \n",
    "boom, theres a list of recommendations. \n",
    "'''"
   ]
  },
  {
   "cell_type": "code",
   "execution_count": 21,
   "metadata": {},
   "outputs": [],
   "source": [
    "id2word = corpora.Dictionary(reviews_df['tokens'])"
   ]
  },
  {
   "cell_type": "code",
   "execution_count": 22,
   "metadata": {},
   "outputs": [],
   "source": [
    "''' Adding this to do some filtering out '''\n",
    "id2word.filter_extremes(no_below=.15, no_above=.85)"
   ]
  },
  {
   "cell_type": "code",
   "execution_count": 23,
   "metadata": {},
   "outputs": [],
   "source": [
    "corpus = [id2word.doc2bow(text) for text in reviews_df['tokens']]"
   ]
  },
  {
   "cell_type": "code",
   "execution_count": 24,
   "metadata": {},
   "outputs": [],
   "source": [
    "lda = LdaMulticore(corpus=corpus,\n",
    "                   id2word=id2word,\n",
    "                   iterations=5,\n",
    "                   workers=2,\n",
    "                   num_topics = 5,\n",
    "                   passes = 10\n",
    "                  )"
   ]
  },
  {
   "cell_type": "code",
   "execution_count": 25,
   "metadata": {},
   "outputs": [
    {
     "name": "stdout",
     "output_type": "stream",
     "text": [
      "----- Topic 0 -----\n",
      "taco salsa good chips chicken tacos ordered sauce rice beans\n",
      "\n",
      "\n",
      "----- Topic 1 -----\n",
      "good like food place pretty fries tacos little small think\n",
      "\n",
      "\n",
      "----- Topic 2 -----\n",
      "menu great delicious restaurant sweet salad happy patio dish dessert\n",
      "\n",
      "\n",
      "----- Topic 3 -----\n",
      "food order time tacos ordered got service came like said\n",
      "\n",
      "\n",
      "----- Topic 4 -----\n",
      "tacos great place food taco good best mexican service love\n",
      "\n",
      "\n"
     ]
    }
   ],
   "source": [
    "''' Printing out topics cleaned up Version '''\n",
    "\n",
    "words = [re.findall(r'\"([^\"]*)\"',t[1]) for t in lda.print_topics()] # Theres that regex wizardry lol\n",
    "topics = [' '.join(t[0:12]) for t in words]\n",
    "\n",
    "for id, t in enumerate(topics):\n",
    "    print(f\"----- Topic {id} -----\")\n",
    "    print(t)\n",
    "    print('\\n')"
   ]
  },
  {
   "cell_type": "code",
   "execution_count": 26,
   "metadata": {},
   "outputs": [
    {
     "name": "stderr",
     "output_type": "stream",
     "text": [
      "/Users/maximevacher-materno/anaconda3/lib/python3.7/site-packages/pyLDAvis/_prepare.py:257: FutureWarning: Sorting because non-concatenation axis is not aligned. A future version\n",
      "of pandas will change to not sort by default.\n",
      "\n",
      "To accept the future behavior, pass 'sort=False'.\n",
      "\n",
      "To retain the current behavior and silence the warning, pass 'sort=True'.\n",
      "\n",
      "  return pd.concat([default_term_info] + list(topic_dfs))\n"
     ]
    },
    {
     "data": {
      "text/html": [
       "\n",
       "<link rel=\"stylesheet\" type=\"text/css\" href=\"https://cdn.rawgit.com/bmabey/pyLDAvis/files/ldavis.v1.0.0.css\">\n",
       "\n",
       "\n",
       "<div id=\"ldavis_el841771126841232164866006697\"></div>\n",
       "<script type=\"text/javascript\">\n",
       "\n",
       "var ldavis_el841771126841232164866006697_data = {\"mdsDat\": {\"x\": [-0.16989088842877373, -0.017286877318492423, -0.0021636090466519895, 0.2228538025839093, -0.033512427789991195], \"y\": [-0.1437242421506863, 0.06137443755615165, 0.19659886755979808, -0.10438140452610747, -0.009867658439155956], \"topics\": [1, 2, 3, 4, 5], \"cluster\": [1, 1, 1, 1, 1], \"Freq\": [22.91763687133789, 22.277544021606445, 20.220203399658203, 17.410320281982422, 17.17428970336914]}, \"tinfo\": {\"Category\": [\"Default\", \"Default\", \"Default\", \"Default\", \"Default\", \"Default\", \"Default\", \"Default\", \"Default\", \"Default\", \"Default\", \"Default\", \"Default\", \"Default\", \"Default\", \"Default\", \"Default\", \"Default\", \"Default\", \"Default\", \"Default\", \"Default\", \"Default\", \"Default\", \"Default\", \"Default\", \"Default\", \"Default\", \"Default\", \"Default\", \"Topic1\", \"Topic1\", \"Topic1\", \"Topic1\", \"Topic1\", \"Topic1\", \"Topic1\", \"Topic1\", \"Topic1\", \"Topic1\", \"Topic1\", \"Topic1\", \"Topic1\", \"Topic1\", \"Topic1\", \"Topic1\", \"Topic1\", \"Topic1\", \"Topic1\", \"Topic1\", \"Topic1\", \"Topic1\", \"Topic1\", \"Topic1\", \"Topic1\", \"Topic1\", \"Topic1\", \"Topic1\", \"Topic1\", \"Topic1\", \"Topic1\", \"Topic1\", \"Topic1\", \"Topic1\", \"Topic1\", \"Topic1\", \"Topic1\", \"Topic1\", \"Topic1\", \"Topic1\", \"Topic1\", \"Topic1\", \"Topic1\", \"Topic1\", \"Topic1\", \"Topic1\", \"Topic1\", \"Topic1\", \"Topic1\", \"Topic1\", \"Topic1\", \"Topic1\", \"Topic1\", \"Topic1\", \"Topic1\", \"Topic1\", \"Topic1\", \"Topic1\", \"Topic1\", \"Topic1\", \"Topic1\", \"Topic1\", \"Topic1\", \"Topic1\", \"Topic1\", \"Topic1\", \"Topic1\", \"Topic1\", \"Topic1\", \"Topic1\", \"Topic1\", \"Topic1\", \"Topic1\", \"Topic1\", \"Topic1\", \"Topic1\", \"Topic1\", \"Topic1\", \"Topic1\", \"Topic1\", \"Topic1\", \"Topic1\", \"Topic1\", \"Topic1\", \"Topic1\", \"Topic1\", \"Topic2\", \"Topic2\", \"Topic2\", \"Topic2\", \"Topic2\", \"Topic2\", \"Topic2\", \"Topic2\", \"Topic2\", \"Topic2\", \"Topic2\", \"Topic2\", \"Topic2\", \"Topic2\", \"Topic2\", \"Topic2\", \"Topic2\", \"Topic2\", \"Topic2\", \"Topic2\", \"Topic2\", \"Topic2\", \"Topic2\", \"Topic2\", \"Topic2\", \"Topic2\", \"Topic2\", \"Topic2\", \"Topic2\", \"Topic2\", \"Topic2\", \"Topic2\", \"Topic2\", \"Topic2\", \"Topic2\", \"Topic2\", \"Topic2\", \"Topic2\", \"Topic2\", \"Topic2\", \"Topic2\", \"Topic2\", \"Topic2\", \"Topic2\", \"Topic2\", \"Topic2\", \"Topic2\", \"Topic2\", \"Topic2\", \"Topic2\", \"Topic2\", \"Topic2\", \"Topic2\", \"Topic2\", \"Topic2\", \"Topic2\", \"Topic2\", \"Topic2\", \"Topic2\", \"Topic2\", \"Topic2\", \"Topic2\", \"Topic2\", \"Topic2\", \"Topic2\", \"Topic2\", \"Topic2\", \"Topic2\", \"Topic2\", \"Topic2\", \"Topic2\", \"Topic2\", \"Topic2\", \"Topic2\", \"Topic2\", \"Topic2\", \"Topic2\", \"Topic2\", \"Topic2\", \"Topic2\", \"Topic2\", \"Topic2\", \"Topic3\", \"Topic3\", \"Topic3\", \"Topic3\", \"Topic3\", \"Topic3\", \"Topic3\", \"Topic3\", \"Topic3\", \"Topic3\", \"Topic3\", \"Topic3\", \"Topic3\", \"Topic3\", \"Topic3\", \"Topic3\", \"Topic3\", \"Topic3\", \"Topic3\", \"Topic3\", \"Topic3\", \"Topic3\", \"Topic3\", \"Topic3\", \"Topic3\", \"Topic3\", \"Topic3\", \"Topic3\", \"Topic3\", \"Topic3\", \"Topic3\", \"Topic3\", \"Topic3\", \"Topic3\", \"Topic3\", \"Topic3\", \"Topic3\", \"Topic3\", \"Topic3\", \"Topic3\", \"Topic3\", \"Topic3\", \"Topic3\", \"Topic3\", \"Topic3\", \"Topic3\", \"Topic3\", \"Topic3\", \"Topic3\", \"Topic3\", \"Topic3\", \"Topic3\", \"Topic3\", \"Topic3\", \"Topic3\", \"Topic3\", \"Topic3\", \"Topic3\", \"Topic3\", \"Topic3\", \"Topic3\", \"Topic3\", \"Topic3\", \"Topic3\", \"Topic3\", \"Topic3\", \"Topic3\", \"Topic3\", \"Topic3\", \"Topic3\", \"Topic3\", \"Topic3\", \"Topic3\", \"Topic4\", \"Topic4\", \"Topic4\", \"Topic4\", \"Topic4\", \"Topic4\", \"Topic4\", \"Topic4\", \"Topic4\", \"Topic4\", \"Topic4\", \"Topic4\", \"Topic4\", \"Topic4\", \"Topic4\", \"Topic4\", \"Topic4\", \"Topic4\", \"Topic4\", \"Topic4\", \"Topic4\", \"Topic4\", \"Topic4\", \"Topic4\", \"Topic4\", \"Topic4\", \"Topic4\", \"Topic4\", \"Topic4\", \"Topic4\", \"Topic4\", \"Topic4\", \"Topic4\", \"Topic4\", \"Topic4\", \"Topic4\", \"Topic4\", \"Topic4\", \"Topic4\", \"Topic4\", \"Topic4\", \"Topic4\", \"Topic4\", \"Topic4\", \"Topic4\", \"Topic4\", \"Topic4\", \"Topic4\", \"Topic4\", \"Topic4\", \"Topic4\", \"Topic4\", \"Topic4\", \"Topic4\", \"Topic4\", \"Topic4\", \"Topic4\", \"Topic4\", \"Topic4\", \"Topic4\", \"Topic4\", \"Topic4\", \"Topic4\", \"Topic4\", \"Topic4\", \"Topic4\", \"Topic4\", \"Topic4\", \"Topic4\", \"Topic4\", \"Topic4\", \"Topic4\", \"Topic4\", \"Topic4\", \"Topic4\", \"Topic4\", \"Topic4\", \"Topic4\", \"Topic4\", \"Topic4\", \"Topic4\", \"Topic4\", \"Topic4\", \"Topic4\", \"Topic4\", \"Topic4\", \"Topic4\", \"Topic4\", \"Topic5\", \"Topic5\", \"Topic5\", \"Topic5\", \"Topic5\", \"Topic5\", \"Topic5\", \"Topic5\", \"Topic5\", \"Topic5\", \"Topic5\", \"Topic5\", \"Topic5\", \"Topic5\", \"Topic5\", \"Topic5\", \"Topic5\", \"Topic5\", \"Topic5\", \"Topic5\", \"Topic5\", \"Topic5\", \"Topic5\", \"Topic5\", \"Topic5\", \"Topic5\", \"Topic5\", \"Topic5\", \"Topic5\", \"Topic5\", \"Topic5\", \"Topic5\", \"Topic5\", \"Topic5\", \"Topic5\", \"Topic5\", \"Topic5\", \"Topic5\", \"Topic5\", \"Topic5\", \"Topic5\", \"Topic5\", \"Topic5\", \"Topic5\", \"Topic5\", \"Topic5\", \"Topic5\", \"Topic5\", \"Topic5\", \"Topic5\", \"Topic5\", \"Topic5\", \"Topic5\", \"Topic5\", \"Topic5\", \"Topic5\", \"Topic5\", \"Topic5\", \"Topic5\", \"Topic5\", \"Topic5\", \"Topic5\", \"Topic5\", \"Topic5\", \"Topic5\", \"Topic5\", \"Topic5\", \"Topic5\", \"Topic5\", \"Topic5\", \"Topic5\", \"Topic5\", \"Topic5\", \"Topic5\", \"Topic5\", \"Topic5\", \"Topic5\", \"Topic5\", \"Topic5\", \"Topic5\", \"Topic5\", \"Topic5\"], \"Freq\": [141305.0, 57926.0, 89792.0, 31575.0, 72060.0, 25059.0, 99628.0, 71709.0, 16346.0, 31733.0, 16230.0, 19539.0, 15103.0, 22359.0, 32943.0, 21368.0, 36056.0, 26163.0, 13768.0, 26950.0, 18746.0, 11152.0, 20306.0, 15933.0, 15347.0, 53506.0, 9806.0, 16921.0, 10236.0, 9242.0, 9805.7314453125, 4011.5595703125, 3485.931884765625, 2061.04443359375, 1423.14990234375, 1089.4210205078125, 1149.6915283203125, 1059.246337890625, 984.4719848632812, 6506.72021484375, 935.985595703125, 803.8548583984375, 685.9959106445312, 602.437744140625, 547.4169921875, 706.1278686523438, 511.1842956542969, 509.56695556640625, 645.073486328125, 485.7457275390625, 464.9237060546875, 675.016845703125, 1782.308349609375, 416.1998291015625, 403.77130126953125, 394.4892272949219, 375.97021484375, 370.64471435546875, 374.25726318359375, 357.3025817871094, 9202.03515625, 3424.901123046875, 4087.7470703125, 2540.6220703125, 2385.725830078125, 9995.056640625, 1315.379150390625, 1943.363037109375, 994.0902709960938, 2108.5068359375, 1002.1983032226562, 1593.8994140625, 1531.7884521484375, 926.8724365234375, 819.7938842773438, 3612.22998046875, 2307.183349609375, 1331.03271484375, 3299.54638671875, 6747.2724609375, 11130.33203125, 1393.802490234375, 1174.9608154296875, 3352.527587890625, 5108.248046875, 3066.6044921875, 6547.92333984375, 3924.500244140625, 4042.691650390625, 18477.52734375, 10188.2880859375, 8505.5556640625, 4060.087646484375, 4005.959716796875, 13228.33203125, 18365.39453125, 8163.53125, 4002.375244140625, 9149.1865234375, 30558.84375, 13290.9560546875, 14703.3095703125, 8168.84326171875, 13285.55859375, 6643.4833984375, 6933.20068359375, 5451.05224609375, 5942.3310546875, 11812.2919921875, 15280.1005859375, 5564.365234375, 7406.51025390625, 10488.6494140625, 10461.740234375, 5544.92138671875, 5563.62255859375, 1833.69287109375, 1366.4622802734375, 1293.037109375, 1046.612060546875, 836.9007568359375, 981.9561157226562, 633.2010498046875, 543.2320556640625, 15078.853515625, 419.013916015625, 386.53741455078125, 374.1094055175781, 296.7583923339844, 283.8845520019531, 283.9883117675781, 265.5947570800781, 220.81431579589844, 216.49737548828125, 7330.896484375, 210.37289428710938, 250.6487274169922, 185.17088317871094, 179.58079528808594, 182.09336853027344, 165.82066345214844, 159.65643310546875, 152.4471435546875, 152.5269775390625, 141.792236328125, 138.4655303955078, 13670.3271484375, 1938.99609375, 789.9096069335938, 7478.21044921875, 724.9661254882812, 221.5478057861328, 271.3860168457031, 1194.9676513671875, 2442.023193359375, 511.7864685058594, 2868.866455078125, 19147.923828125, 9706.306640625, 1378.3787841796875, 775.28271484375, 15764.2890625, 45833.88671875, 14187.771484375, 21039.345703125, 1362.92041015625, 10704.5888671875, 1416.552001953125, 2399.93115234375, 4239.81787109375, 93191.0546875, 8731.7333984375, 9666.818359375, 4902.60400390625, 3789.246826171875, 2836.656494140625, 5038.7646484375, 44088.12890625, 18083.048828125, 5600.443359375, 20161.6875, 5339.224609375, 9424.4619140625, 6063.38232421875, 12943.4521484375, 42935.6015625, 4669.40625, 19359.3828125, 29603.64453125, 7157.34130859375, 6350.86865234375, 26793.689453125, 12433.6201171875, 9556.32421875, 11417.9892578125, 10808.2001953125, 6857.43115234375, 7226.2099609375, 4027.728515625, 16226.7646484375, 4308.39208984375, 2939.6748046875, 1687.040283203125, 1688.7183837890625, 1378.6602783203125, 16335.06640625, 1155.0797119140625, 2630.689208984375, 687.6317749023438, 2009.7235107421875, 7936.00927734375, 558.3884887695312, 509.1162414550781, 4712.21240234375, 3100.547607421875, 235.9898223876953, 238.24386596679688, 191.87960815429688, 190.36012268066406, 166.9125518798828, 158.641357421875, 411.8121643066406, 4348.349609375, 148.0410614013672, 145.90414428710938, 140.07260131835938, 204.86854553222656, 769.283203125, 2096.832275390625, 24275.818359375, 3256.997802734375, 354.416259765625, 449.2853088378906, 3378.372314453125, 7472.5087890625, 3235.860107421875, 3746.468017578125, 4152.708984375, 17673.517578125, 3608.52880859375, 27134.220703125, 4253.7138671875, 13382.97265625, 13753.587890625, 3814.2734375, 9660.630859375, 5123.88720703125, 5757.0244140625, 7443.82470703125, 15256.12890625, 22708.205078125, 8787.3837890625, 8837.822265625, 9965.142578125, 4600.34423828125, 10847.3037109375, 18673.001953125, 28578.787109375, 8135.228515625, 6524.24169921875, 24824.44921875, 12891.4794921875, 15962.2099609375, 7286.84423828125, 11295.796875, 20210.5625, 10035.38671875, 8441.4052734375, 7627.54296875, 8349.0166015625, 7739.4619140625, 2655.87060546875, 2487.878662109375, 793.1785888671875, 723.6866455078125, 685.5894165039062, 670.21435546875, 652.2998046875, 636.2962036132812, 621.180908203125, 609.02001953125, 781.5711669921875, 697.9755859375, 541.878173828125, 537.0623168945312, 523.1139526367188, 526.4693603515625, 495.9775390625, 492.9796142578125, 486.9248962402344, 483.0708923339844, 473.5707702636719, 441.3299255371094, 429.83831787109375, 1767.216064453125, 427.88128662109375, 418.1688232421875, 2240.5595703125, 390.06475830078125, 388.194580078125, 382.7523193359375, 2557.82275390625, 2066.967041015625, 1496.8870849609375, 592.7406616210938, 1112.2711181640625, 2252.2275390625, 588.9142456054688, 3806.4970703125, 753.9772338867188, 878.6396484375, 3416.43603515625, 581.3826293945312, 1151.64501953125, 800.1154174804688, 4719.78271484375, 2530.9814453125, 1518.52392578125, 1277.7701416015625, 1162.7362060546875, 1929.1156005859375, 1203.8824462890625, 1159.800048828125, 4913.185546875, 2668.479248046875, 1361.8583984375, 1610.494140625, 4765.2255859375, 2017.9705810546875, 13334.5029296875, 5483.84326171875, 2378.47119140625, 1869.3441162109375, 2307.783935546875, 3539.59716796875, 2641.02734375, 4074.18603515625, 2893.177490234375, 5283.951171875, 4246.7802734375, 3535.695068359375, 5095.4580078125, 4546.23876953125, 6647.04931640625, 6724.841796875, 7785.4189453125, 2911.08544921875, 4095.079345703125, 3693.82080078125, 3161.174560546875, 3432.629638671875, 4004.9462890625, 3631.8271484375, 3829.140625, 3102.482177734375, 3519.9306640625, 3868.3271484375, 2984.233642578125, 3033.77783203125, 3727.210693359375, 2754.09375, 3228.14306640625, 2240.602783203125, 2059.837158203125, 1497.4412841796875, 1349.52392578125, 946.5116577148438, 935.4698486328125, 904.9989013671875, 845.1822509765625, 702.5758666992188, 824.9476928710938, 618.4483642578125, 602.050048828125, 659.3975830078125, 557.234619140625, 543.6921997070312, 522.5564575195312, 504.5591125488281, 969.82568359375, 451.26470947265625, 1033.627197265625, 613.7564697265625, 417.4519958496094, 402.6487121582031, 401.7153625488281, 397.0986633300781, 347.38470458984375, 320.1297302246094, 3661.64794921875, 979.2736206054688, 1429.6656494140625, 695.5968017578125, 10803.7724609375, 3190.803466796875, 2238.93359375, 1290.151611328125, 1661.2081298828125, 787.4120483398438, 1567.1627197265625, 2724.647216796875, 2738.248291015625, 2799.47998046875, 4935.27783203125, 15328.546875, 7796.09912109375, 2193.806884765625, 1785.0477294921875, 1696.669189453125, 4642.13134765625, 3042.3828125, 2889.1962890625, 34205.13671875, 2879.056640625, 7919.31689453125, 7818.57275390625, 19753.259765625, 5788.15576171875, 3559.2314453125, 6778.720703125, 2811.5224609375, 4798.8271484375, 5148.70458984375, 19582.0234375, 8445.6943359375, 15425.5625, 6542.9306640625, 4520.04150390625, 4345.86181640625, 6709.75048828125, 7037.85986328125, 4510.060546875, 5275.630859375, 3901.9228515625, 6173.0556640625, 6187.33447265625, 5027.306640625, 8755.7392578125, 4594.70068359375, 4915.96142578125, 4510.48095703125], \"Term\": [\"tacos\", \"great\", \"good\", \"salsa\", \"place\", \"chips\", \"food\", \"taco\", \"rice\", \"mexican\", \"beans\", \"sauce\", \"asada\", \"love\", \"chicken\", \"pretty\", \"ordered\", \"best\", \"carne\", \"delicious\", \"amazing\", \"fries\", \"cheese\", \"beef\", \"flavor\", \"like\", \"minutes\", \"friendly\", \"took\", \"asked\", \"minutes\", \"manager\", \"waited\", \"horrible\", \"rude\", \"mins\", \"charged\", \"phone\", \"disgusting\", \"told\", \"management\", \"woman\", \"correct\", \"employee\", \"apologized\", \"returned\", \"receipt\", \"send\", \"hair\", \"upset\", \"handed\", \"confused\", \"lady\", \"spoke\", \"annoyed\", \"trash\", \"messed\", \"tells\", \"gentleman\", \"wtf\", \"asked\", \"walked\", \"waiting\", \"customers\", \"worst\", \"took\", \"min\", \"girl\", \"mistake\", \"hostess\", \"forever\", \"poor\", \"cashier\", \"attitude\", \"showed\", \"later\", \"terrible\", \"asking\", \"orders\", \"waitress\", \"said\", \"dirty\", \"window\", \"arrived\", \"left\", \"guy\", \"wanted\", \"water\", \"seated\", \"order\", \"table\", \"server\", \"finally\", \"waiter\", \"came\", \"time\", \"know\", \"brought\", \"went\", \"food\", \"got\", \"ordered\", \"people\", \"service\", \"going\", \"wait\", \"long\", \"bad\", \"like\", \"tacos\", \"experience\", \"restaurant\", \"taco\", \"place\", \"way\", \"night\", \"lengua\", \"gordo\", \"adobada\", \"tuesdays\", \"tortas\", \"diego\", \"cabeza\", \"menudo\", \"asada\", \"tijuana\", \"frescas\", \"sopes\", \"tripa\", \"tripas\", \"birria\", \"tripe\", \"gorditas\", \"vampiro\", \"pastor\", \"aguas\", \"palmas\", \"buche\", \"adobado\", \"addicted\", \"tucson\", \"charleston\", \"suadero\", \"defiantly\", \"micheladas\", \"lucha\", \"carne\", \"bomb\", \"legit\", \"authentic\", \"taqueria\", \"pepe\", \"jamaica\", \"san\", \"horchata\", \"agua\", \"shop\", \"love\", \"awesome\", \"hole\", \"inexpensive\", \"amazing\", \"great\", \"friendly\", \"best\", \"beat\", \"street\", \"gem\", \"mexico\", \"tuesday\", \"tacos\", \"recommend\", \"favorite\", \"burritos\", \"highly\", \"phoenix\", \"town\", \"place\", \"delicious\", \"fast\", \"mexican\", \"margaritas\", \"staff\", \"spot\", \"definitely\", \"food\", \"clean\", \"service\", \"taco\", \"super\", \"excellent\", \"good\", \"try\", \"fresh\", \"fish\", \"time\", \"happy\", \"come\", \"enchilada\", \"beans\", \"shredded\", \"pico\", \"refried\", \"mild\", \"tamale\", \"rice\", \"relleno\", \"flour\", \"tomatillo\", \"cabbage\", \"tortilla\", \"chunky\", \"pinto\", \"cilantro\", \"chile\", \"lard\", \"thicker\", \"masa\", \"sopapillas\", \"frito\", \"huli\", \"diced\", \"onions\", \"chilis\", \"hatch\", \"fideo\", \"charro\", \"fajita\", \"gallo\", \"chips\", \"combo\", \"spicier\", \"smothered\", \"bean\", \"green\", \"shell\", \"sour\", \"chipotle\", \"sauce\", \"chili\", \"salsa\", \"lettuce\", \"flavor\", \"beef\", \"queso\", \"corn\", \"bland\", \"red\", \"tortillas\", \"cheese\", \"chicken\", \"spicy\", \"guacamole\", \"burrito\", \"soft\", \"meat\", \"ordered\", \"taco\", \"hot\", \"tasted\", \"good\", \"fish\", \"like\", \"taste\", \"mexican\", \"tacos\", \"got\", \"fresh\", \"shrimp\", \"little\", \"came\", \"vegan\", \"chocolate\", \"apple\", \"pudding\", \"banana\", \"pour\", \"sprouts\", \"que\", \"wood\", \"kale\", \"craft\", \"cauliflower\", \"vanilla\", \"hummus\", \"ginger\", \"organic\", \"squash\", \"cookie\", \"seared\", \"martini\", \"culinary\", \"les\", \"pumpkin\", \"ahi\", \"intimate\", \"est\", \"cocktails\", \"bourbon\", \"brussel\", \"vodka\", \"wine\", \"cake\", \"coffee\", \"greens\", \"gluten\", \"beautiful\", \"caramel\", \"bread\", \"art\", \"pie\", \"tuna\", \"filet\", \"lovely\", \"creative\", \"dessert\", \"chef\", \"eggs\", \"fruit\", \"tapas\", \"duck\", \"butter\", \"smoked\", \"patio\", \"bacon\", \"sangria\", \"cocktail\", \"dish\", \"appetizers\", \"menu\", \"sweet\", \"unique\", \"salmon\", \"light\", \"dishes\", \"ice\", \"perfect\", \"dining\", \"salad\", \"beer\", \"enjoyed\", \"happy\", \"dinner\", \"restaurant\", \"delicious\", \"great\", \"fun\", \"night\", \"table\", \"loved\", \"experience\", \"bar\", \"drinks\", \"nice\", \"served\", \"cheese\", \"tacos\", \"drink\", \"meal\", \"buffet\", \"sushi\", \"wings\", \"station\", \"korean\", \"fusion\", \"chinese\", \"bulgogi\", \"prime\", \"kimchi\", \"legs\", \"buffets\", \"bang\", \"buns\", \"ramen\", \"steamed\", \"pho\", \"bao\", \"sum\", \"bacchanal\", \"casino\", \"chowder\", \"sports\", \"games\", \"banh\", \"wynn\", \"noodle\", \"stations\", \"kalbi\", \"wicked\", \"pizza\", \"noodles\", \"section\", \"tvs\", \"fries\", \"seafood\", \"burgers\", \"rolls\", \"asian\", \"buffalo\", \"dog\", \"crab\", \"expensive\", \"bbq\", \"burger\", \"pretty\", \"price\", \"pricey\", \"game\", \"roll\", \"decent\", \"strip\", \"lobster\", \"good\", \"average\", \"small\", \"think\", \"like\", \"lot\", \"high\", \"bit\", \"expect\", \"overall\", \"worth\", \"food\", \"little\", \"place\", \"better\", \"vegas\", \"probably\", \"bar\", \"nice\", \"big\", \"pork\", \"quality\", \"try\", \"fish\", \"eat\", \"tacos\", \"people\", \"time\", \"chicken\"], \"Total\": [141305.0, 57926.0, 89792.0, 31575.0, 72060.0, 25059.0, 99628.0, 71709.0, 16346.0, 31733.0, 16230.0, 19539.0, 15103.0, 22359.0, 32943.0, 21368.0, 36056.0, 26163.0, 13768.0, 26950.0, 18746.0, 11152.0, 20306.0, 15933.0, 15347.0, 53506.0, 9806.0, 16921.0, 10236.0, 9242.0, 9806.5537109375, 4012.374267578125, 3486.74853515625, 2061.87841796875, 1423.9583740234375, 1090.235595703125, 1150.553955078125, 1060.0582275390625, 985.2907104492188, 6512.1640625, 936.8013305664062, 804.67236328125, 686.827880859375, 603.2490234375, 548.2263793945312, 707.19384765625, 511.9952392578125, 510.3857421875, 646.1278686523438, 486.5613708496094, 465.7402648925781, 676.257080078125, 1785.695068359375, 417.0201110839844, 404.5819396972656, 395.30657958984375, 376.7822570800781, 371.4620056152344, 375.0863342285156, 358.12017822265625, 9242.107421875, 3448.5625, 4123.46435546875, 2553.890380859375, 2400.7509765625, 10236.9111328125, 1320.2659912109375, 1960.679931640625, 996.4158935546875, 2129.784912109375, 1005.3333740234375, 1606.5850830078125, 1543.7763671875, 930.0028076171875, 821.8666381835938, 3692.6962890625, 2360.484619140625, 1347.6361083984375, 3417.2333984375, 7218.01171875, 12713.9873046875, 1426.8255615234375, 1191.82080078125, 3757.590576171875, 6079.1044921875, 3477.69287109375, 8188.35302734375, 4619.16748046875, 4808.7861328125, 28558.783203125, 14684.7197265625, 11990.84765625, 5010.744140625, 5116.46435546875, 24306.24609375, 38153.53125, 13559.5224609375, 5124.56640625, 17197.341796875, 99628.8515625, 29700.271484375, 36056.86328125, 15031.216796875, 39847.1171875, 12693.6328125, 14560.5966796875, 9170.0673828125, 11241.5927734375, 53506.5390625, 141305.78125, 11602.8671875, 26260.81640625, 71709.875, 72060.640625, 14032.916015625, 15651.8720703125, 1834.5081787109375, 1367.277099609375, 1293.8505859375, 1047.435546875, 837.719482421875, 982.9970703125, 634.0133056640625, 544.052490234375, 15103.47265625, 419.8289489746094, 387.358154296875, 374.9305419921875, 297.57110595703125, 284.6959533691406, 284.8200378417969, 266.4113464355469, 221.63726806640625, 217.3147735595703, 7359.14501953125, 211.19586181640625, 251.70040893554688, 185.98094177246094, 180.3958740234375, 182.920166015625, 166.67782592773438, 160.5054473876953, 153.26202392578125, 153.3522491455078, 142.60891723632812, 139.2808380126953, 13768.203125, 1980.4490966796875, 801.2135009765625, 7763.09423828125, 735.4804077148438, 222.95025634765625, 273.728271484375, 1223.4638671875, 2578.754638671875, 523.763427734375, 3110.963134765625, 22359.279296875, 11196.9404296875, 1470.462158203125, 811.4755249023438, 18746.77734375, 57926.7265625, 16921.912109375, 26163.564453125, 1467.5963134765625, 13118.787109375, 1530.7852783203125, 2691.4501953125, 4985.3037109375, 141305.78125, 10885.9453125, 12229.1201171875, 5897.48193359375, 4468.345703125, 3262.78173828125, 6244.59814453125, 72060.640625, 26950.220703125, 7218.78173828125, 31733.580078125, 6905.4306640625, 13904.73828125, 8203.3564453125, 20899.11328125, 99628.8515625, 6028.92919921875, 39847.1171875, 71709.875, 10875.8681640625, 9416.4833984375, 89792.8828125, 27079.01171875, 21162.552734375, 32451.24609375, 38153.53125, 14020.1494140625, 19161.595703125, 4028.544189453125, 16230.240234375, 4309.34619140625, 2940.529296875, 1687.8521728515625, 1689.5379638671875, 1379.4757080078125, 16346.560546875, 1155.89404296875, 2632.800048828125, 688.44873046875, 2012.135986328125, 7946.033203125, 559.2045288085938, 509.9290771484375, 4720.77783203125, 3106.989501953125, 236.84368896484375, 239.18272399902344, 192.70323181152344, 191.2512969970703, 167.73818969726562, 159.45166015625, 414.0008239746094, 4372.39599609375, 148.8698272705078, 146.73898315429688, 140.8871612548828, 206.17539978027344, 774.2322387695312, 2110.64697265625, 25059.33203125, 3352.095947265625, 357.064697265625, 453.8681335449219, 3486.443359375, 7850.67529296875, 3345.736328125, 3892.525390625, 4366.20263671875, 19539.64453125, 3813.558349609375, 31575.3984375, 4620.8046875, 15347.9169921875, 15933.5556640625, 4168.63037109375, 11230.2109375, 5768.68408203125, 6568.54931640625, 8961.755859375, 20306.171875, 32943.8984375, 11374.744140625, 12491.703125, 14729.951171875, 5328.5126953125, 17061.232421875, 36056.86328125, 71709.875, 12356.1416015625, 9237.146484375, 89792.8828125, 32451.24609375, 53506.5390625, 12530.4267578125, 31733.580078125, 141305.78125, 29700.271484375, 21162.552734375, 16277.728515625, 24212.3125, 24306.24609375, 2657.416748046875, 2490.205810546875, 794.0170288085938, 724.4965209960938, 686.4050903320312, 671.0368041992188, 653.1097412109375, 637.1030883789062, 621.9994506835938, 609.8311157226562, 782.612548828125, 699.0055541992188, 542.6923217773438, 537.8735961914062, 523.9252319335938, 527.2861328125, 496.7909851074219, 493.7936096191406, 487.73779296875, 483.88360595703125, 474.38873291015625, 442.1301574707031, 430.6481628417969, 1770.58251953125, 428.69891357421875, 418.96905517578125, 2245.047607421875, 390.87554931640625, 389.00299072265625, 383.57305908203125, 2567.5205078125, 2082.1708984375, 1512.9932861328125, 594.2626953125, 1122.56494140625, 2291.55419921875, 591.6102905273438, 3922.4619140625, 759.9676513671875, 888.71337890625, 3627.880126953125, 584.828369140625, 1185.2794189453125, 817.5941772460938, 5328.806640625, 2792.79541015625, 1632.0902099609375, 1373.4278564453125, 1247.8485107421875, 2190.248291015625, 1299.6102294921875, 1248.0782470703125, 6468.71728515625, 3313.39794921875, 1553.214599609375, 1907.3673095703125, 7099.1865234375, 2538.937744140625, 27802.982421875, 9182.5791015625, 3308.003173828125, 2438.75830078125, 3266.806396484375, 6102.58056640625, 4029.939453125, 7792.31005859375, 4783.7646484375, 12233.5615234375, 9894.3466796875, 7301.69970703125, 14020.1494140625, 11893.6396484375, 26260.81640625, 26950.220703125, 57926.7265625, 5877.046875, 15651.8720703125, 14684.7197265625, 8669.7392578125, 11602.8671875, 20579.748046875, 14380.01953125, 23680.96484375, 8275.6806640625, 20306.171875, 141305.78125, 11239.01953125, 14214.556640625, 3728.016845703125, 2754.904541015625, 3229.189453125, 2241.4248046875, 2060.651123046875, 1498.2855224609375, 1350.33642578125, 947.3236083984375, 936.2901000976562, 905.8081665039062, 845.9880981445312, 703.3801879882812, 825.97265625, 619.25830078125, 602.8561401367188, 660.2981567382812, 558.043701171875, 544.4979248046875, 523.3698120117188, 505.36297607421875, 971.4202880859375, 452.0782165527344, 1035.5440673828125, 614.910888671875, 418.25848388671875, 403.4551696777344, 402.527099609375, 397.91180419921875, 348.19512939453125, 320.9404296875, 3678.362548828125, 981.9464721679688, 1443.7943115234375, 698.3807373046875, 11152.794921875, 3285.4169921875, 2297.34521484375, 1320.9058837890625, 1729.40234375, 800.134521484375, 1653.8712158203125, 2970.009033203125, 3016.998046875, 3103.87353515625, 5764.79345703125, 21368.1796875, 10674.068359375, 2533.661865234375, 2062.485595703125, 1942.97314453125, 6637.39697265625, 4014.096923828125, 3784.354736328125, 89792.8828125, 3902.130615234375, 15063.244140625, 14836.35546875, 53506.5390625, 10449.33203125, 5376.27294921875, 13749.2763671875, 3868.65625, 8964.5078125, 10416.3232421875, 99628.8515625, 24212.3125, 72060.640625, 17035.765625, 8996.21875, 8542.95703125, 20579.748046875, 23680.96484375, 9460.6220703125, 16393.19921875, 7604.2265625, 27079.01171875, 32451.24609375, 17639.982421875, 141305.78125, 15031.216796875, 38153.53125, 32943.8984375], \"loglift\": [30.0, 29.0, 28.0, 27.0, 26.0, 25.0, 24.0, 23.0, 22.0, 21.0, 20.0, 19.0, 18.0, 17.0, 16.0, 15.0, 14.0, 13.0, 12.0, 11.0, 10.0, 9.0, 8.0, 7.0, 6.0, 5.0, 4.0, 3.0, 2.0, 1.0, 1.4731999635696411, 1.473099946975708, 1.4730000495910645, 1.4729000329971313, 1.4726999998092651, 1.472499966621399, 1.472499966621399, 1.472499966621399, 1.4723999500274658, 1.4723999500274658, 1.4723999500274658, 1.4722000360488892, 1.472100019454956, 1.4718999862670898, 1.4717999696731567, 1.4717999696731567, 1.4716999530792236, 1.4716999530792236, 1.47160005569458, 1.47160005569458, 1.471500039100647, 1.4714000225067139, 1.4714000225067139, 1.4713000059127808, 1.4713000059127808, 1.4711999893188477, 1.4710999727249146, 1.4710999727249146, 1.4710999727249146, 1.4709999561309814, 1.4688999652862549, 1.4664000272750854, 1.4645999670028687, 1.4680999517440796, 1.4670000076293945, 1.4493999481201172, 1.469599962234497, 1.464400053024292, 1.470900058746338, 1.4631999731063843, 1.4701000452041626, 1.4652999639511108, 1.465499997138977, 1.4699000120162964, 1.4707000255584717, 1.451200008392334, 1.4503999948501587, 1.4608999490737915, 1.4381999969482422, 1.4057999849319458, 1.3401999473571777, 1.4498000144958496, 1.4589999914169312, 1.3592000007629395, 1.299299955368042, 1.347499966621399, 1.2496999502182007, 1.3102999925613403, 1.2997000217437744, 1.0378999710083008, 1.107699990272522, 1.1297999620437622, 1.2628999948501587, 1.228600025177002, 0.8648999929428101, 0.7421000003814697, 0.9659000039100647, 1.226099967956543, 0.842199981212616, 0.2915000021457672, 0.6692000031471252, 0.576200008392334, 0.8634999990463257, 0.3749000132083893, 0.8258000016212463, 0.7312999963760376, 0.9531000256538391, 0.8356999754905701, -0.03739999979734421, -0.7511000037193298, 0.7383999824523926, 0.20749999582767487, -0.44909998774528503, -0.45649999380111694, 0.544700026512146, 0.4388999938964844, 1.501099944114685, 1.5010000467300415, 1.5010000467300415, 1.5008000135421753, 1.500599980354309, 1.500499963760376, 1.5003000497817993, 1.500100016593933, 1.5, 1.4996000528335571, 1.499500036239624, 1.499400019645691, 1.498900055885315, 1.4987000226974487, 1.4987000226974487, 1.4984999895095825, 1.4979000091552734, 1.4977999925613403, 1.4976999759674072, 1.4976999759674072, 1.4974000453948975, 1.4972000122070312, 1.4970999956130981, 1.4970999956130981, 1.496399998664856, 1.4962999820709229, 1.4962999820709229, 1.4961999654769897, 1.4958000183105469, 1.4957000017166138, 1.4945000410079956, 1.4803999662399292, 1.4874000549316406, 1.4642000198364258, 1.4872000217437744, 1.495300054550171, 1.4930000305175781, 1.4780000448226929, 1.447100043296814, 1.4785000085830688, 1.4206000566482544, 1.346500039100647, 1.3587000370025635, 1.436900019645691, 1.4559999704360962, 1.3282999992370605, 1.2674000263214111, 1.3253999948501587, 1.2835999727249146, 1.4276000261306763, 1.298200011253357, 1.4240000247955322, 1.3869999647140503, 1.3395999670028687, 1.0852999687194824, 1.2811000347137451, 1.2664999961853027, 1.3167999982833862, 1.3366999626159668, 1.3616000413894653, 1.2869999408721924, 1.0103000402450562, 1.1025999784469604, 1.2477999925613403, 1.0479999780654907, 1.2444000244140625, 1.1126999855041504, 1.1993000507354736, 1.0225000381469727, 0.6597999930381775, 1.2460999488830566, 0.779699981212616, 0.6169000267982483, 1.0831999778747559, 1.107699990272522, 0.2922999858856201, 0.7232000231742859, 0.70660001039505, 0.4569999873638153, 0.2402999997138977, 0.7864000201225281, 0.5264000296592712, 1.5982999801635742, 1.5982999801635742, 1.5982999801635742, 1.5981999635696411, 1.5980000495910645, 1.5980000495910645, 1.5979000329971313, 1.5978000164031982, 1.5978000164031982, 1.5976999998092651, 1.5973000526428223, 1.5973000526428223, 1.5972000360488892, 1.597000002861023, 1.5968999862670898, 1.5966999530792236, 1.5964000225067139, 1.5949000120162964, 1.594599962234497, 1.5942000150680542, 1.5937999486923218, 1.5936000347137451, 1.593400001525879, 1.5931999683380127, 1.593000054359436, 1.592900037765503, 1.5928000211715698, 1.5927000045776367, 1.5921000242233276, 1.5921000242233276, 1.5918999910354614, 1.5666999816894531, 1.569700002670288, 1.590999960899353, 1.5882999897003174, 1.5670000314712524, 1.5491000413894653, 1.5650999546051025, 1.5601999759674072, 1.5484000444412231, 1.4981000423431396, 1.5432000160217285, 1.4469000101089478, 1.5156999826431274, 1.4615000486373901, 1.4514000415802002, 1.5096999406814575, 1.4479000568389893, 1.4800000190734863, 1.466599941253662, 1.4128999710083008, 1.3125, 1.2264000177383423, 1.340399980545044, 1.252500057220459, 1.2077000141143799, 1.4515000581741333, 1.1455999612808228, 0.940500020980835, 0.6784999966621399, 1.1805000305175781, 1.2508000135421753, 0.31279999017715454, 0.6753000020980835, 0.3889000117778778, 1.056399941444397, 0.565500020980835, -0.34619998931884766, 0.5134000182151794, 0.6794000267982483, 0.840499997138977, 0.5338000059127808, 0.45410001277923584, 1.747499942779541, 1.7472000122070312, 1.7470999956130981, 1.746999979019165, 1.746899962425232, 1.746899962425232, 1.746899962425232, 1.7467999458312988, 1.7467999458312988, 1.7467999458312988, 1.7467999458312988, 1.7466000318527222, 1.7466000318527222, 1.7466000318527222, 1.7466000318527222, 1.7466000318527222, 1.746500015258789, 1.746500015258789, 1.746399998664856, 1.746399998664856, 1.746399998664856, 1.7462999820709229, 1.7461999654769897, 1.7461999654769897, 1.7461999654769897, 1.7461999654769897, 1.7460999488830566, 1.746000051498413, 1.746000051498413, 1.746000051498413, 1.7443000078201294, 1.7408000230789185, 1.7374000549316406, 1.7454999685287476, 1.7388999462127686, 1.7308000326156616, 1.743499994277954, 1.7180999517440796, 1.7402000427246094, 1.7367000579833984, 1.688099980354309, 1.7422000169754028, 1.7193000316619873, 1.7265000343322754, 1.6267000436782837, 1.6497000455856323, 1.6759999990463257, 1.6758999824523926, 1.6775000095367432, 1.6211999654769897, 1.6715999841690063, 1.6747000217437744, 1.473099946975708, 1.531599998474121, 1.6166000366210938, 1.5788999795913696, 1.3494999408721924, 1.5184999704360962, 1.0132999420166016, 1.2325999736785889, 1.4182000160217285, 1.482200026512146, 1.4005999565124512, 1.2034000158309937, 1.3255000114440918, 1.0995999574661255, 1.2452000379562378, 0.9085999727249146, 0.9023000001907349, 1.0228999853134155, 0.7360000014305115, 0.7864000201225281, 0.3741999864578247, 0.35989999771118164, -0.2587999999523163, 1.0456000566482544, 0.4072999954223633, 0.36800000071525574, 0.7391999959945679, 0.5302000045776367, 0.11129999905824661, 0.3720000088214874, -0.0738999992609024, 0.7670000195503235, -0.004399999976158142, -1.850000023841858, 0.4221000075340271, 0.20360000431537628, 1.7615000009536743, 1.7615000009536743, 1.7613999843597412, 1.7613999843597412, 1.7613999843597412, 1.761199951171875, 1.761199951171875, 1.7609000205993652, 1.7609000205993652, 1.7609000205993652, 1.7608000040054321, 1.760599970817566, 1.7604999542236328, 1.7604000568389893, 1.7604000568389893, 1.7604000568389893, 1.7603000402450562, 1.7603000402450562, 1.760200023651123, 1.760200023651123, 1.76010000705719, 1.7599999904632568, 1.7598999738693237, 1.7598999738693237, 1.7597999572753906, 1.7597999572753906, 1.7596999406814575, 1.7596999406814575, 1.7594000101089478, 1.7591999769210815, 1.757200002670288, 1.7589999437332153, 1.7518999576568604, 1.7577999830245972, 1.7300000190734863, 1.7324999570846558, 1.7359999418258667, 1.7381999492645264, 1.721500039100647, 1.7457000017166138, 1.707900047302246, 1.6755000352859497, 1.6648000478744507, 1.6584999561309814, 1.6064000129699707, 1.4296000003814697, 1.44760000705719, 1.6176999807357788, 1.617300033569336, 1.6261999607086182, 1.4041999578475952, 1.4845999479293823, 1.4918999671936035, 0.7965999841690063, 1.4577000141143799, 1.1188000440597534, 1.1211999654769897, 0.7652999758720398, 1.1710000038146973, 1.3493000268936157, 1.0546000003814697, 1.4426000118255615, 1.1368999481201172, 1.0571000576019287, 0.13490000367164612, 0.7085999846458435, 0.22030000388622284, 0.8047999739646912, 1.0735000371932983, 1.0858999490737915, 0.640999972820282, 0.5483999848365784, 1.020900011062622, 0.628000020980835, 1.094499945640564, 0.2831999957561493, 0.10450000315904617, 0.5065000057220459, -1.0195000171661377, 0.5764999985694885, -0.2874000072479248, -0.22660000622272491], \"logprob\": [30.0, 29.0, 28.0, 27.0, 26.0, 25.0, 24.0, 23.0, 22.0, 21.0, 20.0, 19.0, 18.0, 17.0, 16.0, 15.0, 14.0, 13.0, 12.0, 11.0, 10.0, 9.0, 8.0, 7.0, 6.0, 5.0, 4.0, 3.0, 2.0, 1.0, -5.015500068664551, -5.909299850463867, -6.049699783325195, -6.575200080871582, -6.9456000328063965, -7.212800025939941, -7.158899784088135, -7.240900039672852, -7.3140997886657715, -5.425600051879883, -7.36460018157959, -7.5167999267578125, -7.675300121307373, -7.805200099945068, -7.901000022888184, -7.646399974822998, -7.9695000648498535, -7.972599983215332, -7.736800193786621, -8.020500183105469, -8.064299583435059, -7.691500186920166, -6.7204999923706055, -8.175000190734863, -8.205300331115723, -8.228599548339844, -8.276700019836426, -8.291000366210938, -8.281299591064453, -8.32759952545166, -5.078999996185303, -6.067399978637695, -5.890399932861328, -6.366000175476074, -6.428899765014648, -4.996300220489502, -7.0243000984191895, -6.633999824523926, -7.3043999671936035, -6.552499771118164, -7.296199798583984, -6.832300186157227, -6.872000217437744, -7.3744001388549805, -7.497099876403809, -6.014100074768066, -6.462399959564209, -7.012499809265137, -6.104700088500977, -5.3892998695373535, -4.888800144195557, -6.966400146484375, -7.137199878692627, -6.088699817657471, -5.667600154876709, -6.1778998374938965, -5.419300079345703, -5.93120002746582, -5.901500225067139, -4.381899833679199, -4.977200031280518, -5.157700061798096, -5.897200107574463, -5.910699844360352, -4.716100215911865, -4.388000011444092, -5.198800086975098, -5.911600112915039, -5.084799766540527, -3.8787999153137207, -4.711400032043457, -4.610400199890137, -5.1981000900268555, -4.7118000984191895, -5.404799938201904, -5.362100124359131, -5.60260009765625, -5.516300201416016, -4.8292999267578125, -4.571899890899658, -5.582099914550781, -5.29610013961792, -4.9481000900268555, -4.950699806213379, -5.585599899291992, -5.582200050354004, -6.66379976272583, -6.957900047302246, -7.0131001472473145, -7.224599838256836, -7.448200225830078, -7.288300037384033, -7.727099895477295, -7.880300045013428, -4.55679988861084, -8.140000343322754, -8.220600128173828, -8.253299713134766, -8.48490047454834, -8.52929973602295, -8.528900146484375, -8.59589958190918, -8.780500411987305, -8.800299644470215, -5.2779998779296875, -8.829000473022461, -8.653800010681152, -8.956600189208984, -8.987199783325195, -8.973299980163574, -9.067000389099121, -9.1048002243042, -9.151000022888184, -9.150500297546387, -9.22350025177002, -9.247200012207031, -4.654900074005127, -6.607900142669678, -7.505899906158447, -5.2581000328063965, -7.591700077056885, -8.777199745178223, -8.574299812316895, -7.0920000076293945, -6.377299785614014, -7.940000057220459, -6.21619987487793, -4.31790018081665, -4.997300148010254, -6.94920015335083, -7.524600028991699, -4.512400150299072, -3.4451000690460205, -4.617700099945068, -4.223700046539307, -6.9604997634887695, -4.899400234222412, -6.921899795532227, -6.394700050354004, -5.8256001472473145, -2.7355000972747803, -5.103099822998047, -5.001399993896484, -5.680300235748291, -5.937900066375732, -6.227499961853027, -5.6529998779296875, -3.4839000701904297, -4.375100135803223, -5.547299861907959, -4.266300201416016, -5.59499979019165, -5.026800155639648, -5.467800140380859, -4.709499835968018, -3.5104000568389893, -5.729100227355957, -4.3069000244140625, -3.882200002670288, -5.302000045776367, -5.421500205993652, -3.9818999767303467, -4.74970006942749, -5.012899875640869, -4.83489990234375, -4.889800071716309, -5.344799995422363, -5.292399883270264, -5.78000020980835, -4.386600017547607, -5.712699890136719, -6.094900131225586, -6.650199890136719, -6.649199962615967, -6.852099895477295, -4.379899978637695, -7.0289998054504395, -6.205999851226807, -7.547699928283691, -6.475200176239014, -5.101799964904785, -7.755899906158447, -7.848299980163574, -5.6230998039245605, -6.041600227355957, -8.617199897766113, -8.60770034790039, -8.82409954071045, -8.832099914550781, -8.963500022888184, -9.014300346374512, -8.060400009155273, -5.703400135040283, -9.083499908447266, -9.097999572753906, -9.138799667358398, -8.758600234985352, -7.435500144958496, -6.432799816131592, -3.9837000370025635, -5.992400169372559, -8.21049976348877, -7.973299980163574, -5.9558000564575195, -5.1620001792907715, -5.998899936676025, -5.852399826049805, -5.749499797821045, -4.30109977722168, -5.889900207519531, -3.8724000453948975, -5.725399971008301, -4.57919979095459, -4.5518999099731445, -5.834499835968018, -4.905200004577637, -5.539299964904785, -5.422800064086914, -5.165800094604492, -4.448200225830078, -4.05049991607666, -4.999899864196777, -4.994200229644775, -4.874100208282471, -5.64709997177124, -4.789299964904785, -4.246099948883057, -3.8206000328063965, -5.077000141143799, -5.297699928283691, -3.961400032043457, -4.616600036621094, -4.4029998779296875, -5.187099933624268, -4.748799800872803, -4.166999816894531, -4.867099761962891, -5.04010009765625, -5.14139986038208, -5.05109977722168, -5.1269001960754395, -6.046800136566162, -6.112199783325195, -7.255300045013428, -7.3470001220703125, -7.401100158691406, -7.423799991607666, -7.450799942016602, -7.4756999015808105, -7.49970006942749, -7.519499778747559, -7.269999980926514, -7.383200168609619, -7.636300086975098, -7.645199775695801, -7.671599864959717, -7.665200233459473, -7.724800109863281, -7.730899810791016, -7.743199825286865, -7.751200199127197, -7.770999908447266, -7.841599941253662, -7.8678998947143555, -6.45419979095459, -7.872499942779541, -7.895500183105469, -6.216899871826172, -7.965000152587891, -7.969799995422363, -7.984000205993652, -6.084400177001953, -6.297500133514404, -6.620200157165527, -7.546599864959717, -6.917200088500977, -6.211699962615967, -7.553100109100342, -5.6869001388549805, -7.306000232696533, -7.1529998779296875, -5.795000076293945, -7.565899848937988, -6.882400035858154, -7.246600151062012, -5.471799850463867, -6.09499979019165, -6.605899810791016, -6.778500080108643, -6.872799873352051, -6.366499900817871, -6.8379998207092285, -6.87529993057251, -5.431700229644775, -6.042099952697754, -6.714700222015381, -6.547100067138672, -5.462299823760986, -6.321499824523926, -4.433199882507324, -5.321800231933594, -6.157100200653076, -6.3979997634887695, -6.187300205230713, -5.7596001625061035, -6.0524001121521, -5.618899822235107, -5.96120023727417, -5.35890007019043, -5.577400207519531, -5.760700225830078, -5.395199775695801, -5.509300231933594, -5.12939977645874, -5.117800235748291, -4.97130012512207, -5.955100059509277, -5.613800048828125, -5.716899871826172, -5.872700214385986, -5.790299892425537, -5.636099815368652, -5.73390007019043, -5.681000232696533, -5.89139986038208, -5.765200138092041, -5.67080020904541, -5.930300235748291, -5.91379976272583, -5.694300174713135, -5.9969000816345215, -5.8379998207092285, -6.203199863433838, -6.287300109863281, -6.606200218200684, -6.71019983291626, -7.064899921417236, -7.076700210571289, -7.109799861907959, -7.178100109100342, -7.3628997802734375, -7.202400207519531, -7.490499973297119, -7.517399787902832, -7.426400184631348, -7.594699859619141, -7.61929988861084, -7.658999919891357, -7.693999767303467, -7.040599822998047, -7.805600166320801, -6.976900100708008, -7.4980998039245605, -7.883500099182129, -7.919600009918213, -7.921999931335449, -7.933499813079834, -8.067299842834473, -8.14900016784668, -5.711999893188477, -7.030900001525879, -6.652500152587891, -7.372900009155273, -4.630099773406982, -5.849699974060059, -6.20389986038208, -6.755199909210205, -6.502399921417236, -7.249000072479248, -6.560699939727783, -6.007599830627441, -6.002600193023682, -5.980500221252441, -5.41349983215332, -4.280200004577637, -4.956299781799316, -6.224299907684326, -6.430500030517578, -6.481299877166748, -5.474800109863281, -5.897299766540527, -5.948999881744385, -3.47760009765625, -5.952499866485596, -4.9405999183654785, -4.953400135040283, -4.026599884033203, -5.2540998458862305, -5.7403998374938965, -5.096199989318848, -5.976200103759766, -5.4415998458862305, -5.371200084686279, -4.035299777984619, -4.876299858093262, -4.273900032043457, -5.1315999031066895, -5.501399993896484, -5.5406999588012695, -5.106400012969971, -5.058599948883057, -5.503600120544434, -5.346799850463867, -5.648499965667725, -5.189799785614014, -5.187399864196777, -5.395100116729736, -4.840199947357178, -5.485000133514404, -5.417500019073486, -5.503499984741211]}, \"token.table\": {\"Topic\": [2, 2, 2, 2, 3, 4, 2, 4, 5, 1, 2, 3, 4, 5, 1, 1, 1, 2, 3, 4, 5, 4, 1, 3, 4, 5, 2, 4, 2, 3, 4, 5, 1, 3, 1, 3, 1, 4, 2, 3, 1, 2, 3, 5, 1, 2, 3, 4, 5, 5, 2, 3, 4, 5, 1, 2, 3, 5, 4, 5, 5, 5, 1, 2, 3, 4, 5, 3, 4, 5, 1, 2, 3, 4, 1, 2, 3, 2, 4, 5, 1, 2, 3, 4, 5, 1, 2, 3, 4, 5, 1, 2, 3, 4, 5, 1, 2, 3, 4, 5, 1, 2, 3, 4, 5, 1, 2, 3, 4, 5, 2, 1, 2, 3, 4, 5, 1, 3, 5, 2, 5, 4, 1, 3, 4, 5, 1, 2, 3, 4, 4, 2, 4, 5, 5, 5, 5, 5, 1, 4, 5, 4, 5, 1, 2, 3, 5, 1, 2, 3, 3, 4, 5, 3, 4, 2, 4, 5, 1, 2, 3, 4, 5, 3, 4, 2, 3, 1, 2, 1, 5, 4, 1, 2, 2, 3, 1, 2, 3, 4, 5, 1, 2, 3, 4, 5, 1, 2, 3, 4, 5, 2, 3, 1, 2, 3, 4, 5, 3, 5, 1, 2, 3, 4, 5, 1, 2, 3, 4, 5, 5, 3, 2, 3, 4, 1, 2, 3, 4, 5, 1, 2, 3, 4, 5, 2, 4, 5, 1, 4, 5, 1, 2, 3, 5, 1, 2, 3, 4, 5, 1, 5, 4, 1, 2, 3, 4, 1, 4, 5, 4, 2, 4, 5, 4, 1, 2, 5, 1, 2, 3, 4, 5, 2, 1, 2, 3, 4, 5, 1, 2, 3, 4, 5, 1, 3, 4, 5, 3, 4, 2, 1, 2, 3, 4, 5, 1, 2, 3, 4, 5, 1, 4, 5, 1, 1, 3, 4, 5, 1, 2, 3, 4, 5, 1, 2, 4, 5, 1, 2, 3, 4, 5, 1, 2, 3, 4, 5, 4, 5, 1, 2, 3, 4, 5, 3, 4, 5, 1, 3, 1, 2, 3, 4, 5, 4, 2, 3, 4, 5, 1, 2, 3, 4, 5, 1, 2, 3, 5, 1, 2, 3, 4, 5, 1, 3, 1, 2, 3, 5, 2, 3, 4, 5, 3, 3, 4, 5, 1, 2, 3, 4, 5, 1, 2, 3, 4, 5, 1, 2, 3, 4, 5, 2, 3, 1, 2, 3, 4, 5, 1, 2, 2, 1, 2, 3, 4, 5, 1, 2, 3, 4, 5, 1, 2, 3, 4, 5, 3, 2, 3, 4, 5, 1, 2, 3, 4, 5, 5, 2, 3, 4, 1, 2, 4, 5, 5, 2, 4, 1, 4, 1, 3, 4, 5, 1, 4, 1, 2, 3, 4, 5, 1, 2, 3, 4, 5, 2, 2, 1, 2, 3, 4, 5, 1, 2, 3, 4, 5, 2, 3, 4, 5, 4, 5, 1, 2, 3, 4, 1, 2, 3, 4, 5, 1, 1, 1, 2, 3, 4, 5, 3, 1, 2, 3, 4, 5, 2, 4, 5, 1, 2, 3, 4, 5, 2, 3, 1, 1, 4, 1, 2, 3, 4, 5, 3, 4, 1, 3, 4, 5, 2, 3, 4, 5, 4, 2, 3, 5, 4, 5, 1, 2, 3, 4, 5, 5, 1, 3, 3, 1, 3, 4, 5, 1, 3, 4, 5, 2, 5, 5, 2, 4, 1, 3, 4, 5, 1, 2, 3, 4, 5, 1, 2, 3, 4, 5, 1, 2, 3, 4, 5, 4, 5, 1, 2, 3, 4, 5, 1, 2, 3, 4, 5, 1, 2, 3, 4, 5, 1, 2, 3, 4, 5, 1, 2, 3, 4, 2, 1, 1, 1, 2, 3, 4, 4, 3, 1, 2, 3, 4, 5, 1, 2, 3, 4, 5, 1, 2, 3, 4, 5, 2, 1, 1, 2, 3, 4, 5, 2, 3, 4, 2, 3, 1, 5, 1, 1, 1, 3, 1, 2, 3, 4, 5, 1, 2, 3, 4, 5, 5, 4, 5, 1, 2, 3, 4, 1, 2, 3, 4, 5, 1, 2, 3, 4, 5, 1, 2, 3, 4, 5, 4, 1, 2, 3, 4, 5, 2, 2, 3, 1, 2, 3, 4, 5, 1, 2, 3, 4, 5, 1, 2, 2, 3, 4, 5, 5, 1, 2, 3, 4, 1, 3, 4, 5, 3, 4, 5, 1, 2, 3, 4, 5, 1, 3, 5, 1, 2, 3, 4, 5, 4, 1, 2, 3, 4, 5, 1, 2, 3, 4, 5, 2, 3, 4, 5, 5, 1, 2, 3, 4, 5, 4, 4, 1, 2, 3, 4, 5, 4, 1, 2, 3, 4, 5, 1, 1, 2, 3, 4, 5, 1, 2, 3, 4, 5, 3, 3, 1, 2, 3, 4, 5, 1, 1, 3, 5, 4, 5, 4, 5, 1, 1, 2, 3, 4, 5, 1, 2, 3, 4, 5, 3, 4, 5, 1, 2, 3, 2, 4, 5, 1, 2, 3, 4, 1, 2, 3, 4, 5, 2, 3, 4, 5, 4, 1, 3, 4, 5, 1, 4, 5, 1, 1, 2, 3, 4, 5, 1, 2, 3, 4, 5, 1, 2, 3, 4, 5, 1, 3, 4, 5, 1, 2, 4, 5, 1, 4, 3, 1, 2, 3, 4, 5, 1, 2, 3, 4, 5, 2, 3, 4, 5, 3, 4, 1, 2, 3, 4, 5, 3, 2, 1, 3, 4, 2, 3, 2, 3, 4, 5, 1, 4, 5, 1, 2, 3, 4, 5, 4, 4, 1, 2, 3, 4, 5, 5, 5, 5, 1, 2, 3, 4, 5, 1, 2, 4, 5, 2, 5, 1, 2, 3, 4, 5, 5, 1, 2, 3, 4, 5, 1, 2, 3, 4, 5, 1, 2, 3, 4, 5, 1, 2, 3, 4, 5, 3, 4, 5, 2, 3, 4, 1, 2, 3, 4, 5, 1, 2, 3, 4, 5, 1, 1, 3, 5, 3, 1, 2, 3, 4, 5, 2, 1, 2, 3, 4, 5, 1, 3, 4, 3, 1, 3, 4, 5, 2, 1, 2, 3, 4, 1, 2, 3, 4, 1, 2, 3, 4, 5, 1, 2, 2, 2, 1, 2, 3, 4, 5, 2, 1, 2, 3, 4, 5, 2, 4, 5, 4, 5, 2, 3, 4, 5, 1, 2, 4, 2, 4, 1, 2, 4, 5, 4, 1, 2, 3, 4, 5, 1, 1, 2, 3, 4, 5, 1, 4, 5, 1, 3, 4, 5, 1, 3, 4, 5, 1, 2, 3, 4, 5, 1, 3, 4, 5, 1, 2, 3, 4, 5, 1, 2, 3, 4, 5, 5, 1, 3, 4, 5, 1, 4, 5, 5, 1, 4, 1, 3, 1, 2, 3, 4, 5, 1, 5], \"Freq\": [0.9949695467948914, 0.9993426203727722, 0.9978055357933044, 0.9775405526161194, 0.0171833299100399, 0.005727776791900396, 0.9943376779556274, 0.9979766607284546, 0.0016943576047196984, 5.334250090527348e-05, 0.8408911824226379, 0.0009601650526747108, 0.1423177868127823, 0.015736037865281105, 0.9985616207122803, 0.9977629780769348, 0.07128965854644775, 0.0003938655136153102, 0.004726386163383722, 0.7948206067085266, 0.12879401445388794, 0.9987191557884216, 0.8923271298408508, 0.03193535655736923, 0.07558034360408783, 0.0002661279868334532, 0.006579227279871702, 0.9921475052833557, 0.998379647731781, 0.0015890385257080197, 0.03931994363665581, 0.9604474306106567, 0.9956603646278381, 0.0042198169976472855, 0.9876553416252136, 0.011872640810906887, 0.9967711567878723, 0.0032257966231554747, 0.963275671005249, 0.036583349108695984, 0.03920934721827507, 0.0010250810300931334, 0.22167377173900604, 0.7378020286560059, 0.0018755123019218445, 0.8668439388275146, 0.0009824112057685852, 0.07555635273456573, 0.054747097194194794, 0.9992817640304565, 0.0003018049756065011, 0.03168952465057373, 0.8052156567573547, 0.16267287731170654, 0.5285727977752686, 0.013432260602712631, 0.1565614491701126, 0.30138078331947327, 0.9994098544120789, 0.9988223910331726, 0.9969911575317383, 0.999085545539856, 0.18479332327842712, 0.2773114740848541, 0.01724996790289879, 0.19460879266262054, 0.32604870200157166, 0.0077322740107774734, 0.09020986407995224, 0.9017764329910278, 0.0008604757604189217, 0.017496339976787567, 0.9688957333564758, 0.01233348622918129, 0.00012322676775511354, 6.161338387755677e-05, 0.9998003840446472, 0.9287295341491699, 0.0047697038389742374, 0.06609447300434113, 0.003491080366075039, 0.010473241098225117, 0.00043638504575937986, 0.9827391505241394, 0.002618310274556279, 0.0023221434094011784, 0.04556421935558319, 0.8632097244262695, 0.009476855397224426, 0.07945495843887329, 0.053565941751003265, 0.1235048696398735, 0.0013138815993443131, 0.4292350113391876, 0.39234524965286255, 0.0027901397552341223, 0.8041335344314575, 0.03864152356982231, 0.054388612508773804, 0.10006281733512878, 0.19658641517162323, 0.18560950458049774, 0.23292173445224762, 0.0008218004368245602, 0.38407430052757263, 0.10274165868759155, 0.11436880379915237, 0.24554410576820374, 0.060672543942928314, 0.4767128527164459, 0.9971208572387695, 0.029674289748072624, 0.0323653407394886, 0.3347085118293762, 0.11018761992454529, 0.4930441379547119, 0.09915605932474136, 0.8882441520690918, 0.01248118281364441, 0.9790708422660828, 0.02070237509906292, 0.9977600574493408, 0.0002549419295974076, 0.004843896720558405, 0.9703089594841003, 0.024474425241351128, 0.7809441089630127, 0.00039027692400850356, 0.16996559500694275, 0.04858947545289993, 0.9974216222763062, 0.9947255849838257, 0.014997478574514389, 0.9835845828056335, 0.9997272491455078, 0.9994595050811768, 0.9996584057807922, 0.9979680776596069, 0.0005204002372920513, 0.14328353106975555, 0.8560584187507629, 0.025246532633900642, 0.9746031761169434, 0.024507887661457062, 0.29891476035118103, 0.6765127778053284, 6.788889004383236e-05, 0.0015260750660672784, 0.8313717842102051, 0.16702044010162354, 0.04385930299758911, 0.9264315962791443, 0.03000899776816368, 0.9989384412765503, 0.0009939685696735978, 0.9984017610549927, 0.9927139282226562, 0.0072040194645524025, 0.5442222356796265, 0.010449988767504692, 0.3183955252170563, 0.05340190976858139, 0.0734790563583374, 0.0033806038554757833, 0.9955878257751465, 0.9928674101829529, 0.007045218721032143, 0.9923717379570007, 0.007125384174287319, 0.0010294205276295543, 0.9985378980636597, 0.998561441898346, 0.9995185136795044, 0.9968509078025818, 0.004850239027291536, 0.994299054145813, 0.018467292189598083, 0.0012311527971178293, 0.7512986660003662, 0.17334631085395813, 0.05564810708165169, 0.08808378875255585, 0.0003580641932785511, 0.0003580641932785511, 0.9062604308128357, 0.005012898705899715, 0.03985563665628433, 0.11841342598199844, 0.6892930269241333, 0.015511218458414078, 0.13689939677715302, 0.0019311298383399844, 0.9980722665786743, 0.00026222228188998997, 0.004720001015812159, 0.9463602304458618, 0.0456266775727272, 0.002884445246309042, 0.9941571354866028, 0.9997508525848389, 0.02656770870089531, 0.02084190957248211, 0.9511697888374329, 0.0009161278721876442, 0.0006870959186926484, 0.01919444650411606, 0.012051398865878582, 0.9687408804893494, 0.9991142153739929, 0.0008031464531086385, 0.9976149797439575, 0.9978460073471069, 0.00127097696531564, 0.9981405735015869, 0.00063548848265782, 0.11395058035850525, 0.7744327187538147, 0.03516378998756409, 0.0031514717265963554, 0.07314731925725937, 0.003145697293803096, 0.00996137410402298, 0.0026214143726974726, 0.8440954089164734, 0.13998351991176605, 0.00044542484101839364, 0.998197078704834, 0.0013362745521590114, 0.005948473233729601, 0.9894293546676636, 0.003965648822486401, 0.01193283312022686, 0.015811003744602203, 0.971630871295929, 0.0005966416210867465, 0.2734636664390564, 0.37710845470428467, 0.10886358469724655, 0.03402639552950859, 0.20655900239944458, 0.9981411099433899, 0.001478727557696402, 0.9983928203582764, 8.904551941668615e-05, 0.10373803228139877, 0.860268771648407, 0.035885345190763474, 0.9987946152687073, 0.08249133080244064, 0.9175056219100952, 0.9992173314094543, 0.0012231006985530257, 0.9784805774688721, 0.01956961117684841, 0.9991805553436279, 0.9949526786804199, 0.0043071541003882885, 0.0003915594716090709, 0.06312716007232666, 0.007533073425292969, 0.22990940511226654, 0.00015066147898323834, 0.6993705630302429, 0.9977030158042908, 0.004162855911999941, 0.619308590888977, 0.09722900390625, 0.10421495139598846, 0.17507919669151306, 3.71054484276101e-05, 0.6709778308868408, 0.07346878945827484, 0.24953413009643555, 0.0059739770367741585, 0.0007506370893679559, 0.0005629778024740517, 0.8857517838478088, 0.11297088116407394, 0.995167076587677, 0.00483090803027153, 0.9989857077598572, 0.234752357006073, 0.026757169514894485, 0.04410752281546593, 0.604753851890564, 0.08946928381919861, 0.1677367091178894, 0.08315368741750717, 0.11434683203697205, 0.3822211027145386, 0.2525719702243805, 0.976993978023529, 0.0007008565007708967, 0.022427408024668694, 0.9986900091171265, 0.004930142313241959, 0.2531276047229767, 0.6712036728858948, 0.07071232795715332, 0.0003277302021160722, 0.005735278595238924, 0.08357120305299759, 0.5800824761390686, 0.3303520381450653, 0.03204602748155594, 0.01572069153189659, 0.004837135784327984, 0.9474740028381348, 0.468368262052536, 0.11575742810964584, 0.037369806319475174, 0.26550358533859253, 0.1129102036356926, 0.357649028301239, 0.17545178532600403, 0.010431140661239624, 0.2525726854801178, 0.20396356284618378, 0.8807220458984375, 0.11916457116603851, 0.29081660509109497, 0.2735263407230377, 0.14200694859027863, 0.008673477917909622, 0.28497761487960815, 0.0006127112428657711, 0.9307083487510681, 0.06862365454435349, 0.9979295134544373, 0.999864935874939, 0.009723762981593609, 0.13079147040843964, 0.296369343996048, 0.4842708110809326, 0.07888574153184891, 0.997687041759491, 0.6744555830955505, 0.047894738614559174, 0.2743062376976013, 0.0032920995727181435, 0.1470794975757599, 0.04032408073544502, 0.06074460595846176, 0.025073304772377014, 0.7268673777580261, 0.03447135165333748, 0.0023201871663331985, 0.055353034287691116, 0.9075246453285217, 0.47953665256500244, 0.13100209832191467, 0.029216917231678963, 0.2958751320838928, 0.06438063830137253, 0.005166408605873585, 0.9932420253753662, 0.1145622655749321, 0.7757541537284851, 0.048346105962991714, 0.0613676942884922, 0.7904902100563049, 0.01798984780907631, 0.1655883640050888, 0.025921734049916267, 0.9937030076980591, 0.0034198067151010036, 0.993453860282898, 0.0017099033575505018, 0.8102588653564453, 0.10437571257352829, 0.050890643149614334, 0.02714167721569538, 0.007184561807662249, 0.03152421489357948, 0.3518508970737457, 0.39724206924438477, 0.028720006346702576, 0.19065523147583008, 0.00195466261357069, 0.052384957671165466, 0.8719750046730042, 0.03264286741614342, 0.04104791581630707, 0.0003798237594310194, 0.9993162751197815, 0.30672842264175415, 0.4309594929218292, 0.05875808000564575, 0.007006002590060234, 0.19654949009418488, 0.9966843128204346, 0.001989389769732952, 0.9990754127502441, 4.725327744381502e-05, 0.4515523314476013, 0.3988649249076843, 0.11435293406248093, 0.03515643998980522, 0.01837853714823723, 0.8384395241737366, 0.020505957305431366, 0.09071078896522522, 0.03202947601675987, 0.0008069726172834635, 0.02994764968752861, 0.00017932725313585252, 0.00035865450627170503, 0.9687258005142212, 0.9955991506576538, 0.0007281052530743182, 0.021843157708644867, 0.9305185079574585, 0.047326840460300446, 0.0032329161185771227, 0.3158048689365387, 0.00017015347839333117, 0.4953168034553528, 0.18546730279922485, 0.9991419911384583, 0.0028427301440387964, 0.9935342073440552, 0.0033165186177939177, 0.08290967345237732, 0.016000112518668175, 0.03587903827428818, 0.8654605746269226, 0.9985186457633972, 0.9256687164306641, 0.07447157800197601, 0.997103750705719, 0.9982340335845947, 0.9909827709197998, 0.0020401086658239365, 0.004590244498103857, 0.0015300814993679523, 0.008908170275390148, 0.9905885457992554, 0.5233332514762878, 0.24847102165222168, 0.046007316559553146, 0.01465301588177681, 0.16756431758403778, 0.03842175379395485, 0.29839780926704407, 0.2764584422111511, 0.005779968108981848, 0.38093218207359314, 0.9971247315406799, 0.9990659356117249, 0.44750434160232544, 0.07393871992826462, 0.33787569403648376, 0.009427523240447044, 0.13124458491802216, 0.004937272053211927, 0.7912409901618958, 0.012981917709112167, 0.13439391553401947, 0.05643336474895477, 0.023819606751203537, 0.951892614364624, 0.023946983739733696, 0.00025475514121353626, 0.9978752136230469, 0.0016827575163915753, 0.01689121127128601, 0.2554495632648468, 0.7075096368789673, 0.020173389464616776, 0.8819065093994141, 0.05290864035487175, 0.002587922615930438, 0.0005750939017161727, 0.061822596937417984, 0.9982544183731079, 0.9984105825424194, 0.08922871947288513, 0.48908179998397827, 0.007203917484730482, 0.3634055554866791, 0.0509980283677578, 0.9949639439582825, 0.10285936295986176, 0.017298229038715363, 0.12220361828804016, 0.0956052616238594, 0.6619827747344971, 0.8479648232460022, 0.14792947471141815, 0.004028336610645056, 0.02380204014480114, 0.9371203184127808, 0.005440466571599245, 0.0006800583214499056, 0.032642800360918045, 0.9469687342643738, 0.05273863673210144, 0.9995739459991455, 0.9902408123016357, 0.009860150516033173, 0.06369302421808243, 0.07032939791679382, 0.6583770513534546, 0.008821523748338223, 0.1986866146326065, 0.9971674084663391, 0.9983758330345154, 0.1109197810292244, 0.08982764929533005, 0.6553448438644409, 0.14392276108264923, 0.9550503492355347, 0.0024646460078656673, 0.0012323230039328337, 0.04066666215658188, 0.9983696937561035, 0.9900329113006592, 0.007306516170501709, 0.9965676665306091, 0.9986371397972107, 0.9991077780723572, 0.6020861268043518, 0.14108166098594666, 0.07234767824411392, 0.037169449031353, 0.14727658033370972, 0.9996840357780457, 0.9979307651519775, 0.0011200120206922293, 0.9964377880096436, 0.978147029876709, 0.006499316077679396, 0.013540241867303848, 0.001624829019419849, 0.8402553200721741, 0.07353056967258453, 0.052310336381196976, 0.03388657048344612, 0.9860043525695801, 0.012481067329645157, 0.9988320469856262, 0.9997230172157288, 0.9974438548088074, 0.07249819487333298, 0.9206188917160034, 0.001731300144456327, 0.004977487958967686, 0.0012244373792782426, 0.0012244373792782426, 0.2880488932132721, 0.7065004110336304, 0.0033672028221189976, 0.22075806558132172, 0.08270017057657242, 0.29831868410110474, 0.029043179005384445, 0.36916983127593994, 0.0509658046066761, 0.18709489703178406, 0.34482455253601074, 0.06827104836702347, 0.34883078932762146, 0.23650002479553223, 0.7634062170982361, 0.5944340229034424, 0.1591046154499054, 0.005343472119420767, 0.01832047663629055, 0.22279007732868195, 0.11283017694950104, 0.13130025565624237, 0.17206841707229614, 0.029858367517590523, 0.553911030292511, 0.0021020355634391308, 0.8563782572746277, 0.00979459099471569, 0.105727918446064, 0.025984738022089005, 0.0005767185939475894, 0.5017451643943787, 0.11718922108411789, 0.3646014928817749, 0.01591743342578411, 0.0008436829084530473, 0.008436828851699829, 0.019404707476496696, 0.9719226956367493, 0.9908038973808289, 0.9991446137428284, 0.9999067187309265, 0.0338863730430603, 0.7731596231460571, 0.19071945548057556, 0.002172203501686454, 0.9981739521026611, 0.9963507056236267, 0.24024668335914612, 0.05416982248425484, 0.40240439772605896, 0.21344317495822906, 0.08969677984714508, 0.06330140680074692, 0.15602624416351318, 0.6357688307762146, 0.0005861241370439529, 0.14436237514019012, 0.10898111760616302, 0.15239372849464417, 0.10757838934659958, 0.47962480783462524, 0.15145857632160187, 0.9980654716491699, 0.9979238510131836, 0.0024264517705887556, 0.6353521943092346, 0.3559636175632477, 3.1512361601926386e-05, 0.0062394472770392895, 0.8917126059532166, 0.1073770597577095, 0.0007430938421748579, 0.9957301616668701, 0.9996815919876099, 0.9960114359855652, 0.0030296924524009228, 0.9988666772842407, 0.9999435544013977, 0.9975754022598267, 0.00200719409622252, 0.0716187059879303, 0.23246519267559052, 0.23698358237743378, 0.16169103980064392, 0.2972007393836975, 0.35548463463783264, 0.15895861387252808, 0.011244661174714565, 0.2616300582885742, 0.21269021928310394, 0.9986905455589294, 0.0020367708057165146, 0.9969993829727173, 0.00022870756220072508, 0.0038880284409970045, 0.9944204688072205, 0.0016009529354050756, 0.6470163464546204, 0.12945228815078735, 0.16436274349689484, 0.011555113829672337, 0.047656092792749405, 0.40777257084846497, 0.00748817203566432, 0.5178764462471008, 0.036386970430612564, 0.030451899394392967, 0.965693473815918, 0.002341075101867318, 0.02545919083058834, 0.003218978177756071, 0.0035116125363856554, 0.9975608587265015, 0.04930555075407028, 0.029449470341205597, 0.3224940001964569, 0.06347253173589706, 0.5353333353996277, 0.9972172975540161, 0.9961755275726318, 0.0038047898560762405, 0.05874425917863846, 0.14639687538146973, 0.0018550818786025047, 0.7595013976097107, 0.033391471952199936, 0.5434689521789551, 0.13259072601795197, 0.004856559447944164, 0.013372170738875866, 0.30569714307785034, 0.0044853053987026215, 0.9957377910614014, 0.3925665020942688, 0.08174726366996765, 0.5228231549263, 0.002951627830043435, 0.9981297254562378, 0.0036778433714061975, 0.8695034384727478, 0.0009194608428515494, 0.1259661316871643, 0.9990017414093018, 0.9998199939727783, 0.9890702962875366, 0.010126999579370022, 0.9981780052185059, 0.004349761642515659, 0.9955517053604126, 0.1451832801103592, 0.6118180155754089, 0.0237438902258873, 0.005190073046833277, 0.21406970918178558, 0.9921665787696838, 0.0024897530674934387, 0.0049795061349868774, 6.100090467953123e-05, 0.12926091253757477, 0.3994339406490326, 0.14939121901988983, 0.3218407928943634, 0.9984549283981323, 0.0518060028553009, 0.028874710202217102, 0.20160819590091705, 0.0004211870254948735, 0.7173750996589661, 0.02107912302017212, 0.18877525627613068, 0.05948996916413307, 0.0003747399605344981, 0.7303681969642639, 0.07972650229930878, 0.050914451479911804, 0.0035521709360182285, 0.8659403324127197, 0.9986221194267273, 0.17745612561702728, 0.08275823295116425, 0.21713793277740479, 0.013929602690041065, 0.5087231397628784, 0.9993146657943726, 0.9984949231147766, 0.09573623538017273, 0.27642521262168884, 0.10428410768508911, 0.01052046474069357, 0.5131356716156006, 0.9982686042785645, 0.004078078083693981, 0.08036212623119354, 0.9149287939071655, 0.0004797738802153617, 0.9985798597335815, 0.998056173324585, 0.012676896527409554, 0.8021352291107178, 0.010655941441655159, 0.08322657644748688, 0.09140226244926453, 0.002283609239384532, 0.0015224061207845807, 0.8764492273330688, 0.11905216425657272, 0.0007612030603922904, 0.9994950890541077, 0.9992265105247498, 0.28205519914627075, 0.22958159446716309, 0.15056653320789337, 0.2531147599220276, 0.08468891680240631, 0.9983118772506714, 0.0001835248403949663, 0.99929279088974, 0.0004893995937891304, 0.12661008536815643, 0.8734037280082703, 0.02271168678998947, 0.9766024947166443, 0.9993269443511963, 0.8754137754440308, 0.0003146141243632883, 0.11215993762016296, 0.002044991822913289, 0.010067651979625225, 0.05215161666274071, 0.002452270360663533, 0.30514416098594666, 0.43192654848098755, 0.20844297111034393, 0.00041004474041983485, 0.7663736343383789, 0.23290540277957916, 0.001330149476416409, 0.13928565382957458, 0.8593398928642273, 0.97673499584198, 0.010625569149851799, 0.012260272167623043, 0.00836973823606968, 0.025109214708209038, 0.09013564884662628, 0.8768910765647888, 0.0010747381020337343, 0.00030706802499480546, 0.9045200347900391, 0.050205621868371964, 0.04391072690486908, 0.0021306276321411133, 0.009740011766552925, 0.016740644350647926, 0.9712617993354797, 0.9984872937202454, 0.8407527208328247, 0.04678935557603836, 0.09461846947669983, 0.01788393035531044, 0.005540955346077681, 0.004155716393142939, 0.9904457926750183, 0.999244213104248, 0.1204734742641449, 0.0009666878613643348, 0.49011075496673584, 0.37483322620391846, 0.013533630408346653, 0.7093743681907654, 0.01884770765900612, 0.028688548132777214, 0.24210131168365479, 0.0010841601761057973, 0.3334243595600128, 0.4858318865299225, 0.043114788830280304, 0.06286527216434479, 0.07476074248552322, 0.004184429999440908, 0.9672011137008667, 0.018829936161637306, 0.009863299317657948, 0.057217005640268326, 0.9222224354743958, 0.010929090902209282, 0.009643316268920898, 0.9977287650108337, 0.001216742442920804, 0.9996876120567322, 0.011242355220019817, 0.29721590876579285, 0.46861574053764343, 0.06720839440822601, 0.15573425590991974, 0.045474931597709656, 0.0973229929804802, 0.24642765522003174, 0.08504144102334976, 0.5257167816162109, 0.0016024636570364237, 0.04166405275464058, 0.9294289350509644, 0.02724188193678856, 0.9892741441726685, 0.008813132531940937, 0.023083364591002464, 0.002252035541459918, 0.8632802963256836, 0.06662271916866302, 0.04485304281115532, 0.9934573173522949, 0.9975181221961975, 0.034168049693107605, 0.962357223033905, 0.003082831623032689, 0.005601225886493921, 0.9914169907569885, 0.0757819265127182, 0.7725008726119995, 0.04571531340479851, 0.1059364452958107, 0.997553825378418, 0.0009656759211793542, 0.9985089302062988, 0.0028037303127348423, 0.739087700843811, 0.0013409145176410675, 0.16517628729343414, 0.091547891497612, 0.9983008503913879, 0.9984078407287598, 0.23574697971343994, 0.6777545809745789, 0.0006472613895311952, 0.0712706670165062, 0.014455503784120083, 0.9998104572296143, 0.9977084994316101, 0.9980340003967285, 0.04939480870962143, 0.816005289554596, 0.04238196834921837, 0.023249100893735886, 0.06898503750562668, 0.0004982440732419491, 0.23915715515613556, 0.0024912203662097454, 0.7578292489051819, 0.991765558719635, 0.9992933869361877, 0.040732380002737045, 0.6580623984336853, 0.11502529680728912, 0.08036140352487564, 0.10573868453502655, 0.9996716380119324, 0.00021780373936053365, 0.007405326701700687, 0.2868475019931793, 0.597217857837677, 0.10835735499858856, 0.693782389163971, 0.0007490779389627278, 0.043378423899412155, 0.251554012298584, 0.010487091727554798, 0.14626994729042053, 0.4128301739692688, 0.39853647351264954, 0.0018825859297066927, 0.04049651324748993, 0.10813428461551666, 0.6594988703727722, 0.14303024113178253, 0.027373259887099266, 0.061964910477399826, 0.9996551275253296, 0.9320041537284851, 0.06811724603176117, 0.9857502579689026, 0.006798277609050274, 0.006798277609050274, 0.03862597793340683, 0.08730748295783997, 0.5815444588661194, 0.02673492394387722, 0.2657531201839447, 0.15296931564807892, 0.0008660683524794877, 0.7062787413597107, 0.005737702827900648, 0.13413232564926147, 0.9987562298774719, 0.9773416519165039, 0.021605731919407845, 0.0008472836343571544, 0.9950551390647888, 0.20288001000881195, 0.038756147027015686, 0.20045353472232819, 0.030937517061829567, 0.5270162224769592, 0.9980255365371704, 0.48134469985961914, 0.2832765281200409, 0.06389971822500229, 0.04261728748679161, 0.12884783744812012, 0.9992070198059082, 0.0003071175597142428, 0.00046067635412327945, 0.9993482232093811, 0.9763687252998352, 0.016020458191633224, 0.006349571514874697, 0.0011722285998985171, 0.9991411566734314, 0.0007550937589257956, 0.00012584896467160434, 0.9987373352050781, 0.0003775468794628978, 0.004017069935798645, 0.16514620184898376, 0.8306407928466797, 0.0002231705584563315, 0.05188484489917755, 0.8069374561309814, 0.0014412456657737494, 0.09143903106451035, 0.048361800611019135, 0.9966947436332703, 0.9980807900428772, 0.9975554347038269, 0.9984560012817383, 0.04239445552229881, 0.4591748118400574, 0.17404623329639435, 0.09642153978347778, 0.22796252369880676, 0.9959332942962646, 0.14161624014377594, 0.8504998087882996, 0.006619456224143505, 0.0006017687264829874, 0.0008023583213798702, 0.9995841979980469, 0.9415966868400574, 0.0581606850028038, 0.002863767324015498, 0.9965910315513611, 0.22974584996700287, 0.010882697999477386, 0.7188626527786255, 0.04050781950354576, 0.9988462328910828, 0.9939498901367188, 0.9987242817878723, 0.0003763053100556135, 0.9994668960571289, 0.0004446312377694994, 0.49454110860824585, 0.0025566297117620707, 0.5024333000183105, 0.9985060095787048, 0.4761480689048767, 0.3441479802131653, 0.0019229981116950512, 0.03516339510679245, 0.14264525473117828, 0.999785304069519, 0.7829625606536865, 0.00019544747192412615, 0.06957929581403732, 0.14541292190551758, 0.0019544747192412615, 0.9913994073867798, 0.0012125726789236069, 0.007517950143665075, 0.9347449541091919, 0.03200327232480049, 0.0304793082177639, 0.002632303861901164, 0.9931674599647522, 0.0023198071867227554, 0.004059662576764822, 0.00028997589834034443, 0.7996724247932434, 0.00036637403536587954, 0.11406445503234863, 0.02247094176709652, 0.06338270753622055, 0.8497202396392822, 0.06776113063097, 0.06862708181142807, 0.013855310156941414, 0.39514240622520447, 0.13568098843097687, 0.16945871710777283, 0.06947950273752213, 0.23024438321590424, 0.5320008397102356, 0.13891682028770447, 0.14269647002220154, 0.049251798540353775, 0.13711421191692352, 0.997069776058197, 0.9858864545822144, 0.0008390523144043982, 0.010907679796218872, 0.0016781046288087964, 0.0011684424243867397, 0.9962919354438782, 0.0023368848487734795, 0.9996316432952881, 0.9991644024848938, 0.998393177986145, 0.9938556551933289, 0.005831508431583643, 0.04080134630203247, 0.4316302239894867, 0.024864818900823593, 0.008448278531432152, 0.4943203032016754, 0.996872067451477, 0.9988718032836914], \"Term\": [\"addicted\", \"adobada\", \"adobado\", \"agua\", \"agua\", \"agua\", \"aguas\", \"ahi\", \"ahi\", \"amazing\", \"amazing\", \"amazing\", \"amazing\", \"amazing\", \"annoyed\", \"apologized\", \"appetizers\", \"appetizers\", \"appetizers\", \"appetizers\", \"appetizers\", \"apple\", \"arrived\", \"arrived\", \"arrived\", \"arrived\", \"art\", \"art\", \"asada\", \"asada\", \"asian\", \"asian\", \"asked\", \"asked\", \"asking\", \"asking\", \"attitude\", \"attitude\", \"authentic\", \"authentic\", \"average\", \"average\", \"average\", \"average\", \"awesome\", \"awesome\", \"awesome\", \"awesome\", \"awesome\", \"bacchanal\", \"bacon\", \"bacon\", \"bacon\", \"bacon\", \"bad\", \"bad\", \"bad\", \"bad\", \"banana\", \"bang\", \"banh\", \"bao\", \"bar\", \"bar\", \"bar\", \"bar\", \"bar\", \"bbq\", \"bbq\", \"bbq\", \"bean\", \"bean\", \"bean\", \"bean\", \"beans\", \"beans\", \"beans\", \"beat\", \"beat\", \"beat\", \"beautiful\", \"beautiful\", \"beautiful\", \"beautiful\", \"beautiful\", \"beef\", \"beef\", \"beef\", \"beef\", \"beef\", \"beer\", \"beer\", \"beer\", \"beer\", \"beer\", \"best\", \"best\", \"best\", \"best\", \"best\", \"better\", \"better\", \"better\", \"better\", \"better\", \"big\", \"big\", \"big\", \"big\", \"big\", \"birria\", \"bit\", \"bit\", \"bit\", \"bit\", \"bit\", \"bland\", \"bland\", \"bland\", \"bomb\", \"bomb\", \"bourbon\", \"bread\", \"bread\", \"bread\", \"bread\", \"brought\", \"brought\", \"brought\", \"brought\", \"brussel\", \"buche\", \"buffalo\", \"buffalo\", \"buffet\", \"buffets\", \"bulgogi\", \"buns\", \"burger\", \"burger\", \"burger\", \"burgers\", \"burgers\", \"burrito\", \"burrito\", \"burrito\", \"burrito\", \"burritos\", \"burritos\", \"burritos\", \"butter\", \"butter\", \"butter\", \"cabbage\", \"cabbage\", \"cabeza\", \"cake\", \"cake\", \"came\", \"came\", \"came\", \"came\", \"came\", \"caramel\", \"caramel\", \"carne\", \"carne\", \"cashier\", \"cashier\", \"casino\", \"casino\", \"cauliflower\", \"charged\", \"charleston\", \"charro\", \"charro\", \"cheese\", \"cheese\", \"cheese\", \"cheese\", \"cheese\", \"chef\", \"chef\", \"chef\", \"chef\", \"chef\", \"chicken\", \"chicken\", \"chicken\", \"chicken\", \"chicken\", \"chile\", \"chile\", \"chili\", \"chili\", \"chili\", \"chili\", \"chili\", \"chilis\", \"chinese\", \"chipotle\", \"chipotle\", \"chipotle\", \"chipotle\", \"chipotle\", \"chips\", \"chips\", \"chips\", \"chocolate\", \"chocolate\", \"chowder\", \"chunky\", \"cilantro\", \"cilantro\", \"cilantro\", \"clean\", \"clean\", \"clean\", \"clean\", \"clean\", \"cocktail\", \"cocktail\", \"cocktail\", \"cocktail\", \"cocktail\", \"cocktails\", \"cocktails\", \"cocktails\", \"coffee\", \"coffee\", \"coffee\", \"combo\", \"combo\", \"combo\", \"combo\", \"come\", \"come\", \"come\", \"come\", \"come\", \"confused\", \"confused\", \"cookie\", \"corn\", \"corn\", \"corn\", \"corn\", \"correct\", \"crab\", \"crab\", \"craft\", \"creative\", \"creative\", \"creative\", \"culinary\", \"customers\", \"customers\", \"customers\", \"decent\", \"decent\", \"decent\", \"decent\", \"decent\", \"defiantly\", \"definitely\", \"definitely\", \"definitely\", \"definitely\", \"definitely\", \"delicious\", \"delicious\", \"delicious\", \"delicious\", \"delicious\", \"dessert\", \"dessert\", \"dessert\", \"dessert\", \"diced\", \"diced\", \"diego\", \"dining\", \"dining\", \"dining\", \"dining\", \"dining\", \"dinner\", \"dinner\", \"dinner\", \"dinner\", \"dinner\", \"dirty\", \"dirty\", \"dirty\", \"disgusting\", \"dish\", \"dish\", \"dish\", \"dish\", \"dishes\", \"dishes\", \"dishes\", \"dishes\", \"dishes\", \"dog\", \"dog\", \"dog\", \"dog\", \"drink\", \"drink\", \"drink\", \"drink\", \"drink\", \"drinks\", \"drinks\", \"drinks\", \"drinks\", \"drinks\", \"duck\", \"duck\", \"eat\", \"eat\", \"eat\", \"eat\", \"eat\", \"eggs\", \"eggs\", \"eggs\", \"employee\", \"enchilada\", \"enjoyed\", \"enjoyed\", \"enjoyed\", \"enjoyed\", \"enjoyed\", \"est\", \"excellent\", \"excellent\", \"excellent\", \"excellent\", \"expect\", \"expect\", \"expect\", \"expect\", \"expect\", \"expensive\", \"expensive\", \"expensive\", \"expensive\", \"experience\", \"experience\", \"experience\", \"experience\", \"experience\", \"fajita\", \"fajita\", \"fast\", \"fast\", \"fast\", \"fast\", \"favorite\", \"favorite\", \"favorite\", \"favorite\", \"fideo\", \"filet\", \"filet\", \"filet\", \"finally\", \"finally\", \"finally\", \"finally\", \"finally\", \"fish\", \"fish\", \"fish\", \"fish\", \"fish\", \"flavor\", \"flavor\", \"flavor\", \"flavor\", \"flavor\", \"flour\", \"flour\", \"food\", \"food\", \"food\", \"food\", \"food\", \"forever\", \"forever\", \"frescas\", \"fresh\", \"fresh\", \"fresh\", \"fresh\", \"fresh\", \"friendly\", \"friendly\", \"friendly\", \"friendly\", \"friendly\", \"fries\", \"fries\", \"fries\", \"fries\", \"fries\", \"frito\", \"fruit\", \"fruit\", \"fruit\", \"fruit\", \"fun\", \"fun\", \"fun\", \"fun\", \"fun\", \"fusion\", \"gallo\", \"gallo\", \"gallo\", \"game\", \"game\", \"game\", \"game\", \"games\", \"gem\", \"gem\", \"gentleman\", \"ginger\", \"girl\", \"girl\", \"girl\", \"girl\", \"gluten\", \"gluten\", \"going\", \"going\", \"going\", \"going\", \"going\", \"good\", \"good\", \"good\", \"good\", \"good\", \"gorditas\", \"gordo\", \"got\", \"got\", \"got\", \"got\", \"got\", \"great\", \"great\", \"great\", \"great\", \"great\", \"green\", \"green\", \"green\", \"green\", \"greens\", \"greens\", \"guacamole\", \"guacamole\", \"guacamole\", \"guacamole\", \"guy\", \"guy\", \"guy\", \"guy\", \"guy\", \"hair\", \"handed\", \"happy\", \"happy\", \"happy\", \"happy\", \"happy\", \"hatch\", \"high\", \"high\", \"high\", \"high\", \"high\", \"highly\", \"highly\", \"highly\", \"hole\", \"hole\", \"hole\", \"hole\", \"hole\", \"horchata\", \"horchata\", \"horrible\", \"hostess\", \"hostess\", \"hot\", \"hot\", \"hot\", \"hot\", \"hot\", \"huli\", \"hummus\", \"ice\", \"ice\", \"ice\", \"ice\", \"inexpensive\", \"inexpensive\", \"inexpensive\", \"inexpensive\", \"intimate\", \"jamaica\", \"jamaica\", \"kalbi\", \"kale\", \"kimchi\", \"know\", \"know\", \"know\", \"know\", \"know\", \"korean\", \"lady\", \"lady\", \"lard\", \"later\", \"later\", \"later\", \"later\", \"left\", \"left\", \"left\", \"left\", \"legit\", \"legit\", \"legs\", \"lengua\", \"les\", \"lettuce\", \"lettuce\", \"lettuce\", \"lettuce\", \"light\", \"light\", \"light\", \"light\", \"light\", \"like\", \"like\", \"like\", \"like\", \"like\", \"little\", \"little\", \"little\", \"little\", \"little\", \"lobster\", \"lobster\", \"long\", \"long\", \"long\", \"long\", \"long\", \"lot\", \"lot\", \"lot\", \"lot\", \"lot\", \"love\", \"love\", \"love\", \"love\", \"love\", \"loved\", \"loved\", \"loved\", \"loved\", \"loved\", \"lovely\", \"lovely\", \"lovely\", \"lovely\", \"lucha\", \"management\", \"manager\", \"margaritas\", \"margaritas\", \"margaritas\", \"margaritas\", \"martini\", \"masa\", \"meal\", \"meal\", \"meal\", \"meal\", \"meal\", \"meat\", \"meat\", \"meat\", \"meat\", \"meat\", \"menu\", \"menu\", \"menu\", \"menu\", \"menu\", \"menudo\", \"messed\", \"mexican\", \"mexican\", \"mexican\", \"mexican\", \"mexican\", \"mexico\", \"mexico\", \"mexico\", \"micheladas\", \"mild\", \"min\", \"min\", \"mins\", \"minutes\", \"mistake\", \"mistake\", \"nice\", \"nice\", \"nice\", \"nice\", \"nice\", \"night\", \"night\", \"night\", \"night\", \"night\", \"noodle\", \"noodles\", \"noodles\", \"onions\", \"onions\", \"onions\", \"onions\", \"order\", \"order\", \"order\", \"order\", \"order\", \"ordered\", \"ordered\", \"ordered\", \"ordered\", \"ordered\", \"orders\", \"orders\", \"orders\", \"orders\", \"orders\", \"organic\", \"overall\", \"overall\", \"overall\", \"overall\", \"overall\", \"palmas\", \"pastor\", \"pastor\", \"patio\", \"patio\", \"patio\", \"patio\", \"patio\", \"people\", \"people\", \"people\", \"people\", \"people\", \"pepe\", \"pepe\", \"perfect\", \"perfect\", \"perfect\", \"perfect\", \"pho\", \"phoenix\", \"phoenix\", \"phoenix\", \"phoenix\", \"phone\", \"pico\", \"pie\", \"pie\", \"pinto\", \"pizza\", \"pizza\", \"place\", \"place\", \"place\", \"place\", \"place\", \"poor\", \"poor\", \"poor\", \"pork\", \"pork\", \"pork\", \"pork\", \"pork\", \"pour\", \"pretty\", \"pretty\", \"pretty\", \"pretty\", \"pretty\", \"price\", \"price\", \"price\", \"price\", \"price\", \"pricey\", \"pricey\", \"pricey\", \"pricey\", \"prime\", \"probably\", \"probably\", \"probably\", \"probably\", \"probably\", \"pudding\", \"pumpkin\", \"quality\", \"quality\", \"quality\", \"quality\", \"quality\", \"que\", \"queso\", \"queso\", \"queso\", \"queso\", \"ramen\", \"receipt\", \"recommend\", \"recommend\", \"recommend\", \"recommend\", \"recommend\", \"red\", \"red\", \"red\", \"red\", \"red\", \"refried\", \"relleno\", \"restaurant\", \"restaurant\", \"restaurant\", \"restaurant\", \"restaurant\", \"returned\", \"rice\", \"rice\", \"rice\", \"roll\", \"roll\", \"rolls\", \"rolls\", \"rude\", \"said\", \"said\", \"said\", \"said\", \"said\", \"salad\", \"salad\", \"salad\", \"salad\", \"salad\", \"salmon\", \"salmon\", \"salmon\", \"salsa\", \"salsa\", \"salsa\", \"san\", \"san\", \"san\", \"sangria\", \"sangria\", \"sangria\", \"sangria\", \"sauce\", \"sauce\", \"sauce\", \"sauce\", \"sauce\", \"seafood\", \"seafood\", \"seafood\", \"seafood\", \"seared\", \"seated\", \"seated\", \"seated\", \"seated\", \"section\", \"section\", \"section\", \"send\", \"served\", \"served\", \"served\", \"served\", \"served\", \"server\", \"server\", \"server\", \"server\", \"server\", \"service\", \"service\", \"service\", \"service\", \"service\", \"shell\", \"shell\", \"shell\", \"shell\", \"shop\", \"shop\", \"shop\", \"shop\", \"showed\", \"showed\", \"shredded\", \"shrimp\", \"shrimp\", \"shrimp\", \"shrimp\", \"shrimp\", \"small\", \"small\", \"small\", \"small\", \"small\", \"smoked\", \"smoked\", \"smoked\", \"smoked\", \"smothered\", \"smothered\", \"soft\", \"soft\", \"soft\", \"soft\", \"soft\", \"sopapillas\", \"sopes\", \"sour\", \"sour\", \"sour\", \"spicier\", \"spicier\", \"spicy\", \"spicy\", \"spicy\", \"spicy\", \"spoke\", \"sports\", \"sports\", \"spot\", \"spot\", \"spot\", \"spot\", \"spot\", \"sprouts\", \"squash\", \"staff\", \"staff\", \"staff\", \"staff\", \"staff\", \"station\", \"stations\", \"steamed\", \"street\", \"street\", \"street\", \"street\", \"street\", \"strip\", \"strip\", \"strip\", \"strip\", \"suadero\", \"sum\", \"super\", \"super\", \"super\", \"super\", \"super\", \"sushi\", \"sweet\", \"sweet\", \"sweet\", \"sweet\", \"sweet\", \"table\", \"table\", \"table\", \"table\", \"table\", \"taco\", \"taco\", \"taco\", \"taco\", \"taco\", \"tacos\", \"tacos\", \"tacos\", \"tacos\", \"tacos\", \"tamale\", \"tapas\", \"tapas\", \"taqueria\", \"taqueria\", \"taqueria\", \"taste\", \"taste\", \"taste\", \"taste\", \"taste\", \"tasted\", \"tasted\", \"tasted\", \"tasted\", \"tasted\", \"tells\", \"terrible\", \"terrible\", \"terrible\", \"thicker\", \"think\", \"think\", \"think\", \"think\", \"think\", \"tijuana\", \"time\", \"time\", \"time\", \"time\", \"time\", \"told\", \"told\", \"told\", \"tomatillo\", \"took\", \"took\", \"took\", \"took\", \"tortas\", \"tortilla\", \"tortilla\", \"tortilla\", \"tortilla\", \"tortillas\", \"tortillas\", \"tortillas\", \"tortillas\", \"town\", \"town\", \"town\", \"town\", \"town\", \"trash\", \"tripa\", \"tripas\", \"tripe\", \"try\", \"try\", \"try\", \"try\", \"try\", \"tucson\", \"tuesday\", \"tuesday\", \"tuesday\", \"tuesday\", \"tuesday\", \"tuesdays\", \"tuna\", \"tuna\", \"tvs\", \"tvs\", \"unique\", \"unique\", \"unique\", \"unique\", \"upset\", \"vampiro\", \"vanilla\", \"vegan\", \"vegan\", \"vegas\", \"vegas\", \"vegas\", \"vegas\", \"vodka\", \"wait\", \"wait\", \"wait\", \"wait\", \"wait\", \"waited\", \"waiter\", \"waiter\", \"waiter\", \"waiter\", \"waiter\", \"waiting\", \"waiting\", \"waiting\", \"waitress\", \"waitress\", \"waitress\", \"waitress\", \"walked\", \"walked\", \"walked\", \"walked\", \"wanted\", \"wanted\", \"wanted\", \"wanted\", \"wanted\", \"water\", \"water\", \"water\", \"water\", \"way\", \"way\", \"way\", \"way\", \"way\", \"went\", \"went\", \"went\", \"went\", \"went\", \"wicked\", \"window\", \"window\", \"window\", \"window\", \"wine\", \"wine\", \"wine\", \"wings\", \"woman\", \"wood\", \"worst\", \"worst\", \"worth\", \"worth\", \"worth\", \"worth\", \"worth\", \"wtf\", \"wynn\"]}, \"R\": 30, \"lambda.step\": 0.01, \"plot.opts\": {\"xlab\": \"PC1\", \"ylab\": \"PC2\"}, \"topic.order\": [4, 5, 1, 3, 2]};\n",
       "\n",
       "function LDAvis_load_lib(url, callback){\n",
       "  var s = document.createElement('script');\n",
       "  s.src = url;\n",
       "  s.async = true;\n",
       "  s.onreadystatechange = s.onload = callback;\n",
       "  s.onerror = function(){console.warn(\"failed to load library \" + url);};\n",
       "  document.getElementsByTagName(\"head\")[0].appendChild(s);\n",
       "}\n",
       "\n",
       "if(typeof(LDAvis) !== \"undefined\"){\n",
       "   // already loaded: just create the visualization\n",
       "   !function(LDAvis){\n",
       "       new LDAvis(\"#\" + \"ldavis_el841771126841232164866006697\", ldavis_el841771126841232164866006697_data);\n",
       "   }(LDAvis);\n",
       "}else if(typeof define === \"function\" && define.amd){\n",
       "   // require.js is available: use it to load d3/LDAvis\n",
       "   require.config({paths: {d3: \"https://cdnjs.cloudflare.com/ajax/libs/d3/3.5.5/d3.min\"}});\n",
       "   require([\"d3\"], function(d3){\n",
       "      window.d3 = d3;\n",
       "      LDAvis_load_lib(\"https://cdn.rawgit.com/bmabey/pyLDAvis/files/ldavis.v1.0.0.js\", function(){\n",
       "        new LDAvis(\"#\" + \"ldavis_el841771126841232164866006697\", ldavis_el841771126841232164866006697_data);\n",
       "      });\n",
       "    });\n",
       "}else{\n",
       "    // require.js not available: dynamically load d3 & LDAvis\n",
       "    LDAvis_load_lib(\"https://cdnjs.cloudflare.com/ajax/libs/d3/3.5.5/d3.min.js\", function(){\n",
       "         LDAvis_load_lib(\"https://cdn.rawgit.com/bmabey/pyLDAvis/files/ldavis.v1.0.0.js\", function(){\n",
       "                 new LDAvis(\"#\" + \"ldavis_el841771126841232164866006697\", ldavis_el841771126841232164866006697_data);\n",
       "            })\n",
       "         });\n",
       "}\n",
       "</script>"
      ],
      "text/plain": [
       "PreparedData(topic_coordinates=              x         y  topics  cluster       Freq\n",
       "topic                                                \n",
       "3     -0.169891 -0.143724       1        1  22.917637\n",
       "4     -0.017287  0.061374       2        1  22.277544\n",
       "0     -0.002164  0.196599       3        1  20.220203\n",
       "2      0.222854 -0.104381       4        1  17.410320\n",
       "1     -0.033512 -0.009868       5        1  17.174290, topic_info=    Category           Freq     Term          Total  loglift  logprob\n",
       "59   Default  141305.000000    tacos  141305.000000  30.0000  30.0000\n",
       "300  Default   57926.000000    great   57926.000000  29.0000  29.0000\n",
       "28   Default   89792.000000     good   89792.000000  28.0000  28.0000\n",
       "270  Default   31575.000000    salsa   31575.000000  27.0000  27.0000\n",
       "82   Default   72060.000000    place   72060.000000  26.0000  26.0000\n",
       "..       ...            ...      ...            ...      ...      ...\n",
       "542   Topic5    5027.306641      eat   17639.982422   0.5065  -5.3951\n",
       "59    Topic5    8755.739258    tacos  141305.781250  -1.0195  -4.8402\n",
       "173   Topic5    4594.700684   people   15031.216797   0.5765  -5.4850\n",
       "145   Topic5    4915.961426     time   38153.531250  -0.2874  -5.4175\n",
       "730   Topic5    4510.480957  chicken   32943.898438  -0.2266  -5.5035\n",
       "\n",
       "[441 rows x 6 columns], token_table=      Topic      Freq      Term\n",
       "term                           \n",
       "1044      2  0.994970  addicted\n",
       "1875      2  0.999343   adobada\n",
       "9076      2  0.997806   adobado\n",
       "3451      2  0.977541      agua\n",
       "3451      3  0.017183      agua\n",
       "...     ...       ...       ...\n",
       "394       3  0.024865     worth\n",
       "394       4  0.008448     worth\n",
       "394       5  0.494320     worth\n",
       "5182      1  0.996872       wtf\n",
       "6048      5  0.998872      wynn\n",
       "\n",
       "[1076 rows x 3 columns], R=30, lambda_step=0.01, plot_opts={'xlab': 'PC1', 'ylab': 'PC2'}, topic_order=[4, 5, 1, 3, 2])"
      ]
     },
     "execution_count": 26,
     "metadata": {},
     "output_type": "execute_result"
    }
   ],
   "source": [
    "''' This is very useful for finding words that arent useful to the overall analysis '''\n",
    "pyLDAvis.enable_notebook()\n",
    "pyLDAvis.gensim.prepare(lda, corpus, id2word)"
   ]
  },
  {
   "cell_type": "code",
   "execution_count": 27,
   "metadata": {},
   "outputs": [
    {
     "data": {
      "text/plain": [
       "<matplotlib.axes._subplots.AxesSubplot at 0x1ac3e32850>"
      ]
     },
     "execution_count": 27,
     "metadata": {},
     "output_type": "execute_result"
    },
    {
     "data": {
      "image/png": "[encoded data removed]",
      "text/plain": [
       "<Figure size 432x288 with 1 Axes>"
      ]
     },
     "metadata": {
      "needs_background": "light"
     },
     "output_type": "display_data"
    }
   ],
   "source": [
    "''' Visualizing the distribution of Ratings '''\n",
    "sns.distplot(reviews_df['stars'])"
   ]
  },
  {
   "cell_type": "code",
   "execution_count": 28,
   "metadata": {},
   "outputs": [
    {
     "data": {
      "image/png": "[encoded data removed]",
      "text/plain": [
       "<Figure size 432x288 with 1 Axes>"
      ]
     },
     "metadata": {
      "needs_background": "light"
     },
     "output_type": "display_data"
    }
   ],
   "source": [
    "''' Visualizing the most used diction in the data  '''\n",
    "\n",
    "def count(docs):\n",
    "\n",
    "        word_counts = Counter()\n",
    "        appears_in = Counter()\n",
    "        \n",
    "        total_docs = len(docs)\n",
    "\n",
    "        for doc in docs:\n",
    "            word_counts.update(doc)\n",
    "            appears_in.update(set(doc))\n",
    "\n",
    "        temp = zip(word_counts.keys(), word_counts.values())\n",
    "        \n",
    "        wc = pd.DataFrame(temp, columns = ['word', 'count'])\n",
    "\n",
    "        wc['rank'] = wc['count'].rank(method='first', ascending=False)\n",
    "        total = wc['count'].sum()\n",
    "\n",
    "        wc['pct_total'] = wc['count'].apply(lambda x: x / total)\n",
    "        \n",
    "        wc = wc.sort_values(by='rank')\n",
    "        wc['cul_pct_total'] = wc['pct_total'].cumsum()\n",
    "\n",
    "        t2 = zip(appears_in.keys(), appears_in.values())\n",
    "        ac = pd.DataFrame(t2, columns=['word', 'appears_in'])\n",
    "        wc = ac.merge(wc, on='word')\n",
    "\n",
    "        wc['appears_in_pct'] = wc['appears_in'].apply(lambda x: x / total_docs)\n",
    "        \n",
    "        return wc.sort_values(by='rank')\n",
    "    \n",
    "    \n",
    "wc = count(reviews_df['tokens'])\n",
    "\n",
    "sns.barplot(x='count', y='word', data = (wc[wc['count'] > 13000]))\n",
    "fig_size = plt.rcParams[\"figure.figsize\"]\n",
    "fig_size[0] = 13\n",
    "fig_size[1] = 13"
   ]
  },
  {
   "cell_type": "code",
   "execution_count": 29,
   "metadata": {},
   "outputs": [
    {
     "name": "stdout",
     "output_type": "stream",
     "text": [
      "Fitting 5 folds for each of 2 candidates, totalling 10 fits\n"
     ]
    },
    {
     "name": "stderr",
     "output_type": "stream",
     "text": [
      "[Parallel(n_jobs=-1)]: Using backend LokyBackend with 8 concurrent workers.\n",
      "[Parallel(n_jobs=-1)]: Done   6 out of  10 | elapsed:   43.8s remaining:   29.2s\n",
      "[Parallel(n_jobs=-1)]: Done  10 out of  10 | elapsed:  1.0min finished\n"
     ]
    },
    {
     "name": "stdout",
     "output_type": "stream",
     "text": [
      "{'clf__n_iter_no_change': 50} 0.644226867642398\n"
     ]
    }
   ],
   "source": [
    "vect = TfidfVectorizer(stop_words='english')\n",
    "scaler = StandardScaler(with_mean=False, with_std=False)\n",
    "sgdc = SGDRegressor(alpha=0.0001, \n",
    "                    average=False, \n",
    "                    early_stopping=False,\n",
    "                    epsilon=0.1,\n",
    "                    eta0=0.01, \n",
    "                    fit_intercept=True, \n",
    "                    l1_ratio=0.15,\n",
    "                    learning_rate='adaptive', \n",
    "                    loss='squared_loss', \n",
    "                    max_iter=1000,\n",
    "                    n_iter_no_change=42, \n",
    "                    penalty='l2', \n",
    "                    power_t=0.25, \n",
    "                    random_state=69,\n",
    "                    shuffle=True, \n",
    "                    tol=0.001, \n",
    "                    validation_fraction=0.1, \n",
    "                    verbose=0,\n",
    "                    warm_start=False)\n",
    "\n",
    "pipe = Pipeline([('vect', vect), \n",
    "                 ('scaler', scaler),\n",
    "                 ('clf', sgdc)])\n",
    "# Fit Pipeline\n",
    "pipe.fit(reviews_df['tokens'].astype(str), reviews_df['stars'])\n",
    "\n",
    "# Declaring some parameters to fine tune\n",
    "parameters = {\n",
    "    #'clf__alpha' : (.0001),\n",
    "    #'clf__max_iter' : (1000),\n",
    "    'clf__n_iter_no_change' : (45, 50),\n",
    "    #'clf__learning_rate' : ('constant', 'optimal', 'invscaling', 'adaptive'),\n",
    "    #'clf__tol' : (.001, .002, .01, .1),\n",
    "    #'clf__loss' : ('squared_loss', 'huber', 'epsilon_insensitive', 'squared_epsilon_insensitive'),\n",
    "    #'clf__penalty' : ('none', 'l2', 'l1', 'elasticnet')\n",
    "    \n",
    "\n",
    "}\n",
    "\n",
    "# Instantiating grid Search\n",
    "grid_search = GridSearchCV(pipe,parameters, cv=5, n_jobs=-1, verbose=1)\n",
    "\n",
    "# Fitting to find the.... best fits\n",
    "grid_search.fit(reviews_df['tokens'].astype(str), reviews_df['stars'])\n",
    "\n",
    "# Printing out the best params along with the best accuracy score via grid search\n",
    "print(grid_search.best_params_, grid_search.best_score_)"
   ]
  },
  {
   "cell_type": "code",
   "execution_count": 30,
   "metadata": {},
   "outputs": [],
   "source": [
    "y_pred = grid_search.predict(tacos_df['tokens'].astype(str))"
   ]
  },
  {
   "cell_type": "code",
   "execution_count": 31,
   "metadata": {},
   "outputs": [
    {
     "name": "stdout",
     "output_type": "stream",
     "text": [
      "3.799389986360605\n"
     ]
    },
    {
     "data": {
      "text/plain": [
       "'I liked the food here, not a busy place. I ordered a beef burrito, 2 pulled pork hard tacos and a chicken quesadilla. I had ordered the beef in the past and wanted to try something different - preferred the beef to the chicken for sure. The tacos were surprisingly good - I was used to eating tacos at a mexican place in downtown Portchester NY - this reminded me of those days. The pork was very nice and tender. The burrito on the other hand had too much filling - I could not finish all of it. Will be going back.'"
      ]
     },
     "execution_count": 31,
     "metadata": {},
     "output_type": "execute_result"
    }
   ],
   "source": [
    "''' Sampling to be sure it worked '''\n",
    "print(y_pred[420])\n",
    "tacos_df['text'].iloc[420]"
   ]
  },
  {
   "cell_type": "code",
   "execution_count": 32,
   "metadata": {},
   "outputs": [],
   "source": [
    "tacos_df['modified_rating'] = y_pred\n",
    "spare = tacos_df"
   ]
  },
  {
   "cell_type": "code",
   "execution_count": 33,
   "metadata": {},
   "outputs": [],
   "source": [
    "tacos_df = spare"
   ]
  },
  {
   "cell_type": "code",
   "execution_count": 34,
   "metadata": {},
   "outputs": [
    {
     "name": "stdout",
     "output_type": "stream",
     "text": [
      "(121979, 8)\n"
     ]
    },
    {
     "data": {
      "text/html": [
       "<div>\n",
       "<style scoped>\n",
       "    .dataframe tbody tr th:only-of-type {\n",
       "        vertical-align: middle;\n",
       "    }\n",
       "\n",
       "    .dataframe tbody tr th {\n",
       "        vertical-align: top;\n",
       "    }\n",
       "\n",
       "    .dataframe thead th {\n",
       "        text-align: right;\n",
       "    }\n",
       "</style>\n",
       "<table border=\"1\" class=\"dataframe\">\n",
       "  <thead>\n",
       "    <tr style=\"text-align: right;\">\n",
       "      <th></th>\n",
       "      <th>user_id</th>\n",
       "      <th>business_id</th>\n",
       "      <th>stars</th>\n",
       "      <th>text</th>\n",
       "      <th>name</th>\n",
       "      <th>rating</th>\n",
       "      <th>tokens</th>\n",
       "      <th>modified_rating</th>\n",
       "    </tr>\n",
       "  </thead>\n",
       "  <tbody>\n",
       "    <tr>\n",
       "      <td>88</td>\n",
       "      <td>i1XAHltBpZC5zP5skcwVGw</td>\n",
       "      <td>VR6GpWIda3SfvPC-lg9H3w</td>\n",
       "      <td>4</td>\n",
       "      <td>A local friend introduced me to this jewel res...</td>\n",
       "      <td>\"Tuck Shop\"</td>\n",
       "      <td>4.5</td>\n",
       "      <td>[local, friend, introduced, jewel, restaurant,...</td>\n",
       "      <td>4.523351</td>\n",
       "    </tr>\n",
       "    <tr>\n",
       "      <td>94</td>\n",
       "      <td>kzXh1wIcCekofvPH5PGBgw</td>\n",
       "      <td>VR6GpWIda3SfvPC-lg9H3w</td>\n",
       "      <td>4</td>\n",
       "      <td>I've been coming here for a couple of years no...</td>\n",
       "      <td>\"Tuck Shop\"</td>\n",
       "      <td>4.5</td>\n",
       "      <td>[coming, couple, years, disappointed, service,...</td>\n",
       "      <td>4.435206</td>\n",
       "    </tr>\n",
       "    <tr>\n",
       "      <td>102</td>\n",
       "      <td>zzgb9L3NBT9V8BGw_DcVYw</td>\n",
       "      <td>VR6GpWIda3SfvPC-lg9H3w</td>\n",
       "      <td>5</td>\n",
       "      <td>Getting an RSVP at one of Montreal's best rest...</td>\n",
       "      <td>\"Tuck Shop\"</td>\n",
       "      <td>4.5</td>\n",
       "      <td>[getting, rsvp, montreal, best, restaurants, d...</td>\n",
       "      <td>4.739487</td>\n",
       "    </tr>\n",
       "    <tr>\n",
       "      <td>108</td>\n",
       "      <td>D8nma4ZaqHmSc8uLDbyBdw</td>\n",
       "      <td>VR6GpWIda3SfvPC-lg9H3w</td>\n",
       "      <td>5</td>\n",
       "      <td>Our first time at Tuck Shop, what a place what...</td>\n",
       "      <td>\"Tuck Shop\"</td>\n",
       "      <td>4.5</td>\n",
       "      <td>[time, tuck, shop, place, service, zucchini, b...</td>\n",
       "      <td>4.607139</td>\n",
       "    </tr>\n",
       "    <tr>\n",
       "      <td>127</td>\n",
       "      <td>93vyTaJgzQRQO4Zs9Cg_pw</td>\n",
       "      <td>VR6GpWIda3SfvPC-lg9H3w</td>\n",
       "      <td>5</td>\n",
       "      <td>I'm not sure if you use the word tuck-shop in ...</td>\n",
       "      <td>\"Tuck Shop\"</td>\n",
       "      <td>4.5</td>\n",
       "      <td>[sure, use, word, tuck, shop, canada, means, r...</td>\n",
       "      <td>4.112799</td>\n",
       "    </tr>\n",
       "  </tbody>\n",
       "</table>\n",
       "</div>"
      ],
      "text/plain": [
       "                    user_id             business_id  stars  \\\n",
       "88   i1XAHltBpZC5zP5skcwVGw  VR6GpWIda3SfvPC-lg9H3w      4   \n",
       "94   kzXh1wIcCekofvPH5PGBgw  VR6GpWIda3SfvPC-lg9H3w      4   \n",
       "102  zzgb9L3NBT9V8BGw_DcVYw  VR6GpWIda3SfvPC-lg9H3w      5   \n",
       "108  D8nma4ZaqHmSc8uLDbyBdw  VR6GpWIda3SfvPC-lg9H3w      5   \n",
       "127  93vyTaJgzQRQO4Zs9Cg_pw  VR6GpWIda3SfvPC-lg9H3w      5   \n",
       "\n",
       "                                                  text         name  rating  \\\n",
       "88   A local friend introduced me to this jewel res...  \"Tuck Shop\"     4.5   \n",
       "94   I've been coming here for a couple of years no...  \"Tuck Shop\"     4.5   \n",
       "102  Getting an RSVP at one of Montreal's best rest...  \"Tuck Shop\"     4.5   \n",
       "108  Our first time at Tuck Shop, what a place what...  \"Tuck Shop\"     4.5   \n",
       "127  I'm not sure if you use the word tuck-shop in ...  \"Tuck Shop\"     4.5   \n",
       "\n",
       "                                                tokens  modified_rating  \n",
       "88   [local, friend, introduced, jewel, restaurant,...         4.523351  \n",
       "94   [coming, couple, years, disappointed, service,...         4.435206  \n",
       "102  [getting, rsvp, montreal, best, restaurants, d...         4.739487  \n",
       "108  [time, tuck, shop, place, service, zucchini, b...         4.607139  \n",
       "127  [sure, use, word, tuck, shop, canada, means, r...         4.112799  "
      ]
     },
     "execution_count": 34,
     "metadata": {},
     "output_type": "execute_result"
    }
   ],
   "source": [
    "print(tacos_df.shape)\n",
    "tacos_df.head()"
   ]
  },
  {
   "cell_type": "code",
   "execution_count": 35,
   "metadata": {},
   "outputs": [],
   "source": [
    "''' Renaming the columns to prepare for export '''\n",
    "tacos_df = tacos_df.rename(columns = {'text' : 'original_text_review', \n",
    "                                      'stars' : 'original_yelp_user_rating', \n",
    "                                      'rating' : 'yelp_store_rating',\n",
    "                                      'name' : 'business_name',\n",
    "                                      'modified_rating': 'adjusted_sentiment_rating',\n",
    "                                      'tokens' : 'tokenized_review'})"
   ]
  },
  {
   "cell_type": "code",
   "execution_count": 36,
   "metadata": {},
   "outputs": [],
   "source": [
    "''' Reordering Columns to more succinct format '''\n",
    "tacos_df = tacos_df[['business_id', 'business_name', 'yelp_store_rating', \n",
    "                     'user_id', 'original_yelp_user_rating', \n",
    "                     'adjusted_sentiment_rating', 'original_text_review', \n",
    "                     'tokenized_review']]"
   ]
  },
  {
   "cell_type": "code",
   "execution_count": 37,
   "metadata": {},
   "outputs": [],
   "source": [
    "''' Removing outliers Greater than 5 '''\n",
    "mask = (tacos_df['adjusted_sentiment_rating'] < 5)\n",
    "tacos_df = tacos_df[mask]"
   ]
  },
  {
   "cell_type": "code",
   "execution_count": 38,
   "metadata": {},
   "outputs": [],
   "source": [
    "''' Removing the outliers Less than 0 '''\n",
    "mask = (tacos_df['adjusted_sentiment_rating'] > 0)\n",
    "tacos_df = tacos_df[mask]"
   ]
  },
  {
   "cell_type": "code",
   "execution_count": 39,
   "metadata": {},
   "outputs": [
    {
     "data": {
      "text/plain": [
       "(114253, 8)"
      ]
     },
     "execution_count": 39,
     "metadata": {},
     "output_type": "execute_result"
    }
   ],
   "source": [
    "tacos_df.shape"
   ]
  },
  {
   "cell_type": "code",
   "execution_count": 40,
   "metadata": {},
   "outputs": [
    {
     "data": {
      "text/html": [
       "<div>\n",
       "<style scoped>\n",
       "    .dataframe tbody tr th:only-of-type {\n",
       "        vertical-align: middle;\n",
       "    }\n",
       "\n",
       "    .dataframe tbody tr th {\n",
       "        vertical-align: top;\n",
       "    }\n",
       "\n",
       "    .dataframe thead th {\n",
       "        text-align: right;\n",
       "    }\n",
       "</style>\n",
       "<table border=\"1\" class=\"dataframe\">\n",
       "  <thead>\n",
       "    <tr style=\"text-align: right;\">\n",
       "      <th></th>\n",
       "      <th>business_id</th>\n",
       "      <th>business_name</th>\n",
       "      <th>yelp_store_rating</th>\n",
       "      <th>user_id</th>\n",
       "      <th>original_yelp_user_rating</th>\n",
       "      <th>adjusted_sentiment_rating</th>\n",
       "      <th>original_text_review</th>\n",
       "      <th>tokenized_review</th>\n",
       "    </tr>\n",
       "  </thead>\n",
       "  <tbody>\n",
       "    <tr>\n",
       "      <td>88</td>\n",
       "      <td>VR6GpWIda3SfvPC-lg9H3w</td>\n",
       "      <td>\"Tuck Shop\"</td>\n",
       "      <td>4.5</td>\n",
       "      <td>i1XAHltBpZC5zP5skcwVGw</td>\n",
       "      <td>4</td>\n",
       "      <td>4.523351</td>\n",
       "      <td>A local friend introduced me to this jewel res...</td>\n",
       "      <td>[local, friend, introduced, jewel, restaurant,...</td>\n",
       "    </tr>\n",
       "    <tr>\n",
       "      <td>94</td>\n",
       "      <td>VR6GpWIda3SfvPC-lg9H3w</td>\n",
       "      <td>\"Tuck Shop\"</td>\n",
       "      <td>4.5</td>\n",
       "      <td>kzXh1wIcCekofvPH5PGBgw</td>\n",
       "      <td>4</td>\n",
       "      <td>4.435206</td>\n",
       "      <td>I've been coming here for a couple of years no...</td>\n",
       "      <td>[coming, couple, years, disappointed, service,...</td>\n",
       "    </tr>\n",
       "    <tr>\n",
       "      <td>102</td>\n",
       "      <td>VR6GpWIda3SfvPC-lg9H3w</td>\n",
       "      <td>\"Tuck Shop\"</td>\n",
       "      <td>4.5</td>\n",
       "      <td>zzgb9L3NBT9V8BGw_DcVYw</td>\n",
       "      <td>5</td>\n",
       "      <td>4.739487</td>\n",
       "      <td>Getting an RSVP at one of Montreal's best rest...</td>\n",
       "      <td>[getting, rsvp, montreal, best, restaurants, d...</td>\n",
       "    </tr>\n",
       "    <tr>\n",
       "      <td>108</td>\n",
       "      <td>VR6GpWIda3SfvPC-lg9H3w</td>\n",
       "      <td>\"Tuck Shop\"</td>\n",
       "      <td>4.5</td>\n",
       "      <td>D8nma4ZaqHmSc8uLDbyBdw</td>\n",
       "      <td>5</td>\n",
       "      <td>4.607139</td>\n",
       "      <td>Our first time at Tuck Shop, what a place what...</td>\n",
       "      <td>[time, tuck, shop, place, service, zucchini, b...</td>\n",
       "    </tr>\n",
       "    <tr>\n",
       "      <td>127</td>\n",
       "      <td>VR6GpWIda3SfvPC-lg9H3w</td>\n",
       "      <td>\"Tuck Shop\"</td>\n",
       "      <td>4.5</td>\n",
       "      <td>93vyTaJgzQRQO4Zs9Cg_pw</td>\n",
       "      <td>5</td>\n",
       "      <td>4.112799</td>\n",
       "      <td>I'm not sure if you use the word tuck-shop in ...</td>\n",
       "      <td>[sure, use, word, tuck, shop, canada, means, r...</td>\n",
       "    </tr>\n",
       "  </tbody>\n",
       "</table>\n",
       "</div>"
      ],
      "text/plain": [
       "                business_id business_name  yelp_store_rating  \\\n",
       "88   VR6GpWIda3SfvPC-lg9H3w   \"Tuck Shop\"                4.5   \n",
       "94   VR6GpWIda3SfvPC-lg9H3w   \"Tuck Shop\"                4.5   \n",
       "102  VR6GpWIda3SfvPC-lg9H3w   \"Tuck Shop\"                4.5   \n",
       "108  VR6GpWIda3SfvPC-lg9H3w   \"Tuck Shop\"                4.5   \n",
       "127  VR6GpWIda3SfvPC-lg9H3w   \"Tuck Shop\"                4.5   \n",
       "\n",
       "                    user_id  original_yelp_user_rating  \\\n",
       "88   i1XAHltBpZC5zP5skcwVGw                          4   \n",
       "94   kzXh1wIcCekofvPH5PGBgw                          4   \n",
       "102  zzgb9L3NBT9V8BGw_DcVYw                          5   \n",
       "108  D8nma4ZaqHmSc8uLDbyBdw                          5   \n",
       "127  93vyTaJgzQRQO4Zs9Cg_pw                          5   \n",
       "\n",
       "     adjusted_sentiment_rating  \\\n",
       "88                    4.523351   \n",
       "94                    4.435206   \n",
       "102                   4.739487   \n",
       "108                   4.607139   \n",
       "127                   4.112799   \n",
       "\n",
       "                                  original_text_review  \\\n",
       "88   A local friend introduced me to this jewel res...   \n",
       "94   I've been coming here for a couple of years no...   \n",
       "102  Getting an RSVP at one of Montreal's best rest...   \n",
       "108  Our first time at Tuck Shop, what a place what...   \n",
       "127  I'm not sure if you use the word tuck-shop in ...   \n",
       "\n",
       "                                      tokenized_review  \n",
       "88   [local, friend, introduced, jewel, restaurant,...  \n",
       "94   [coming, couple, years, disappointed, service,...  \n",
       "102  [getting, rsvp, montreal, best, restaurants, d...  \n",
       "108  [time, tuck, shop, place, service, zucchini, b...  \n",
       "127  [sure, use, word, tuck, shop, canada, means, r...  "
      ]
     },
     "execution_count": 40,
     "metadata": {},
     "output_type": "execute_result"
    }
   ],
   "source": [
    "tacos_df.head()"
   ]
  },
  {
   "cell_type": "code",
   "execution_count": 41,
   "metadata": {},
   "outputs": [],
   "source": [
    "''' Getting the adjusted store reviews '''\n",
    "a = tacos_df.groupby('business_id')['adjusted_sentiment_rating'].mean()"
   ]
  },
  {
   "cell_type": "code",
   "execution_count": 42,
   "metadata": {},
   "outputs": [],
   "source": [
    "b = pd.DataFrame(a)"
   ]
  },
  {
   "cell_type": "code",
   "execution_count": 43,
   "metadata": {},
   "outputs": [
    {
     "name": "stdout",
     "output_type": "stream",
     "text": [
      "(10563, 1)\n"
     ]
    },
    {
     "data": {
      "text/html": [
       "<div>\n",
       "<style scoped>\n",
       "    .dataframe tbody tr th:only-of-type {\n",
       "        vertical-align: middle;\n",
       "    }\n",
       "\n",
       "    .dataframe tbody tr th {\n",
       "        vertical-align: top;\n",
       "    }\n",
       "\n",
       "    .dataframe thead th {\n",
       "        text-align: right;\n",
       "    }\n",
       "</style>\n",
       "<table border=\"1\" class=\"dataframe\">\n",
       "  <thead>\n",
       "    <tr style=\"text-align: right;\">\n",
       "      <th></th>\n",
       "      <th>adjusted_store_rating</th>\n",
       "    </tr>\n",
       "    <tr>\n",
       "      <th>business_id</th>\n",
       "      <th></th>\n",
       "    </tr>\n",
       "  </thead>\n",
       "  <tbody>\n",
       "    <tr>\n",
       "      <td>--FBCX-N37CMYDfs790Bnw</td>\n",
       "      <td>4.535591</td>\n",
       "    </tr>\n",
       "    <tr>\n",
       "      <td>--GM_ORV2cYS-h38DSaCLw</td>\n",
       "      <td>3.899200</td>\n",
       "    </tr>\n",
       "    <tr>\n",
       "      <td>--cZ6Hhc9F7VkKXxHMVZSQ</td>\n",
       "      <td>4.414962</td>\n",
       "    </tr>\n",
       "    <tr>\n",
       "      <td>-01XupAWZEXbdNbxNg5mEg</td>\n",
       "      <td>3.537123</td>\n",
       "    </tr>\n",
       "    <tr>\n",
       "      <td>-092wE7j5HZOogMLAh40zA</td>\n",
       "      <td>3.163127</td>\n",
       "    </tr>\n",
       "  </tbody>\n",
       "</table>\n",
       "</div>"
      ],
      "text/plain": [
       "                        adjusted_store_rating\n",
       "business_id                                  \n",
       "--FBCX-N37CMYDfs790Bnw               4.535591\n",
       "--GM_ORV2cYS-h38DSaCLw               3.899200\n",
       "--cZ6Hhc9F7VkKXxHMVZSQ               4.414962\n",
       "-01XupAWZEXbdNbxNg5mEg               3.537123\n",
       "-092wE7j5HZOogMLAh40zA               3.163127"
      ]
     },
     "execution_count": 43,
     "metadata": {},
     "output_type": "execute_result"
    }
   ],
   "source": [
    "b = b.rename(columns = {'adjusted_sentiment_rating' : 'adjusted_store_rating'}) \n",
    "print(b.shape)\n",
    "b.head()"
   ]
  },
  {
   "cell_type": "code",
   "execution_count": 44,
   "metadata": {},
   "outputs": [],
   "source": [
    "''' Merging the new dataframe on '''\n",
    "c = pd.merge(b, tacos_df, how='outer', left_index=True, right_on='business_id')"
   ]
  },
  {
   "cell_type": "code",
   "execution_count": 45,
   "metadata": {},
   "outputs": [
    {
     "data": {
      "text/html": [
       "<div>\n",
       "<style scoped>\n",
       "    .dataframe tbody tr th:only-of-type {\n",
       "        vertical-align: middle;\n",
       "    }\n",
       "\n",
       "    .dataframe tbody tr th {\n",
       "        vertical-align: top;\n",
       "    }\n",
       "\n",
       "    .dataframe thead th {\n",
       "        text-align: right;\n",
       "    }\n",
       "</style>\n",
       "<table border=\"1\" class=\"dataframe\">\n",
       "  <thead>\n",
       "    <tr style=\"text-align: right;\">\n",
       "      <th></th>\n",
       "      <th>adjusted_store_rating</th>\n",
       "      <th>business_id</th>\n",
       "      <th>business_name</th>\n",
       "      <th>yelp_store_rating</th>\n",
       "      <th>user_id</th>\n",
       "      <th>original_yelp_user_rating</th>\n",
       "      <th>adjusted_sentiment_rating</th>\n",
       "      <th>original_text_review</th>\n",
       "      <th>tokenized_review</th>\n",
       "    </tr>\n",
       "  </thead>\n",
       "  <tbody>\n",
       "    <tr>\n",
       "      <td>3784439</td>\n",
       "      <td>4.535591</td>\n",
       "      <td>--FBCX-N37CMYDfs790Bnw</td>\n",
       "      <td>\"The Bar At Bermuda &amp; St. Rose\"</td>\n",
       "      <td>3.5</td>\n",
       "      <td>-FcEjpQyBbE7b0BU19lErQ</td>\n",
       "      <td>5</td>\n",
       "      <td>4.535591</td>\n",
       "      <td>We've been coming here for years. The staff is...</td>\n",
       "      <td>[coming, years, staff, great, recently, added,...</td>\n",
       "    </tr>\n",
       "    <tr>\n",
       "      <td>4737409</td>\n",
       "      <td>3.899200</td>\n",
       "      <td>--GM_ORV2cYS-h38DSaCLw</td>\n",
       "      <td>\"Mm Mm Pizza\"</td>\n",
       "      <td>4.0</td>\n",
       "      <td>ZjHDoLXzLcj023N1a7WTww</td>\n",
       "      <td>4</td>\n",
       "      <td>3.899200</td>\n",
       "      <td>Ordered several pizzas for a work party..chees...</td>\n",
       "      <td>[ordered, pizzas, work, party, cheeseburger, b...</td>\n",
       "    </tr>\n",
       "    <tr>\n",
       "      <td>907246</td>\n",
       "      <td>4.414962</td>\n",
       "      <td>--cZ6Hhc9F7VkKXxHMVZSQ</td>\n",
       "      <td>\"Pio Pio\"</td>\n",
       "      <td>4.0</td>\n",
       "      <td>haEqV41MSa3d4KFuMia76w</td>\n",
       "      <td>4</td>\n",
       "      <td>3.956057</td>\n",
       "      <td>I was busy cooking dinner when my friend calle...</td>\n",
       "      <td>[busy, cooking, dinner, friend, called, said, ...</td>\n",
       "    </tr>\n",
       "    <tr>\n",
       "      <td>907424</td>\n",
       "      <td>4.414962</td>\n",
       "      <td>--cZ6Hhc9F7VkKXxHMVZSQ</td>\n",
       "      <td>\"Pio Pio\"</td>\n",
       "      <td>4.0</td>\n",
       "      <td>MvblGTq2F6CiWd83mccnPA</td>\n",
       "      <td>4</td>\n",
       "      <td>4.873866</td>\n",
       "      <td>Great food. Chicken, rice and beans, tacos, pl...</td>\n",
       "      <td>[great, food, chicken, rice, beans, tacos, pla...</td>\n",
       "    </tr>\n",
       "    <tr>\n",
       "      <td>1938376</td>\n",
       "      <td>3.537123</td>\n",
       "      <td>-01XupAWZEXbdNbxNg5mEg</td>\n",
       "      <td>\"18 Degrees Neighborhood Grill\"</td>\n",
       "      <td>3.0</td>\n",
       "      <td>-CVmjsibfqwcOdNRQtaRLA</td>\n",
       "      <td>3</td>\n",
       "      <td>3.537123</td>\n",
       "      <td>Went here last week with the husband for dinne...</td>\n",
       "      <td>[went, week, husband, dinner, coupon, saw, fri...</td>\n",
       "    </tr>\n",
       "    <tr>\n",
       "      <td>...</td>\n",
       "      <td>...</td>\n",
       "      <td>...</td>\n",
       "      <td>...</td>\n",
       "      <td>...</td>\n",
       "      <td>...</td>\n",
       "      <td>...</td>\n",
       "      <td>...</td>\n",
       "      <td>...</td>\n",
       "      <td>...</td>\n",
       "    </tr>\n",
       "    <tr>\n",
       "      <td>1796425</td>\n",
       "      <td>3.733265</td>\n",
       "      <td>zzwicjPC9g246MK2M1ZFBA</td>\n",
       "      <td>\"Sizzler\"</td>\n",
       "      <td>3.0</td>\n",
       "      <td>w0B7U_-vU2y7O2rpzR2nbA</td>\n",
       "      <td>3</td>\n",
       "      <td>4.097813</td>\n",
       "      <td>CHEESE TOAST *drops mic, walks away*\\n\\nI grew...</td>\n",
       "      <td>[cheese, toast, drops, mic, walks, away, grew,...</td>\n",
       "    </tr>\n",
       "    <tr>\n",
       "      <td>1796426</td>\n",
       "      <td>3.733265</td>\n",
       "      <td>zzwicjPC9g246MK2M1ZFBA</td>\n",
       "      <td>\"Sizzler\"</td>\n",
       "      <td>3.0</td>\n",
       "      <td>DK57YibC5ShBmqQl97CKog</td>\n",
       "      <td>3</td>\n",
       "      <td>2.801825</td>\n",
       "      <td>Wow, what a blast from the past!  I hadn't eat...</td>\n",
       "      <td>[wow, blast, past, hadn, eaten, sizzler, popul...</td>\n",
       "    </tr>\n",
       "    <tr>\n",
       "      <td>1796427</td>\n",
       "      <td>3.733265</td>\n",
       "      <td>zzwicjPC9g246MK2M1ZFBA</td>\n",
       "      <td>\"Sizzler\"</td>\n",
       "      <td>3.0</td>\n",
       "      <td>xnN53sx27hyIYmSzUwCwHg</td>\n",
       "      <td>4</td>\n",
       "      <td>4.399360</td>\n",
       "      <td>Great alternative to the now defunct Sweet Tom...</td>\n",
       "      <td>[great, alternative, defunct, sweet, tomatoes,...</td>\n",
       "    </tr>\n",
       "    <tr>\n",
       "      <td>1796428</td>\n",
       "      <td>3.733265</td>\n",
       "      <td>zzwicjPC9g246MK2M1ZFBA</td>\n",
       "      <td>\"Sizzler\"</td>\n",
       "      <td>3.0</td>\n",
       "      <td>YTtaAnHMsXozVB29qr3sbA</td>\n",
       "      <td>3</td>\n",
       "      <td>3.429378</td>\n",
       "      <td>I haven't been to a Sizzler in a long time. Th...</td>\n",
       "      <td>[haven, sizzler, long, time, review, salad, ba...</td>\n",
       "    </tr>\n",
       "    <tr>\n",
       "      <td>1796433</td>\n",
       "      <td>3.733265</td>\n",
       "      <td>zzwicjPC9g246MK2M1ZFBA</td>\n",
       "      <td>\"Sizzler\"</td>\n",
       "      <td>3.0</td>\n",
       "      <td>F8qKwFsbt-BwhRZHmsXwbg</td>\n",
       "      <td>4</td>\n",
       "      <td>3.891592</td>\n",
       "      <td>Got a tri-tip steak and unlimited salad bar. T...</td>\n",
       "      <td>[got, tri, tip, steak, unlimited, salad, bar, ...</td>\n",
       "    </tr>\n",
       "  </tbody>\n",
       "</table>\n",
       "<p>114253 rows × 9 columns</p>\n",
       "</div>"
      ],
      "text/plain": [
       "         adjusted_store_rating             business_id  \\\n",
       "3784439               4.535591  --FBCX-N37CMYDfs790Bnw   \n",
       "4737409               3.899200  --GM_ORV2cYS-h38DSaCLw   \n",
       "907246                4.414962  --cZ6Hhc9F7VkKXxHMVZSQ   \n",
       "907424                4.414962  --cZ6Hhc9F7VkKXxHMVZSQ   \n",
       "1938376               3.537123  -01XupAWZEXbdNbxNg5mEg   \n",
       "...                        ...                     ...   \n",
       "1796425               3.733265  zzwicjPC9g246MK2M1ZFBA   \n",
       "1796426               3.733265  zzwicjPC9g246MK2M1ZFBA   \n",
       "1796427               3.733265  zzwicjPC9g246MK2M1ZFBA   \n",
       "1796428               3.733265  zzwicjPC9g246MK2M1ZFBA   \n",
       "1796433               3.733265  zzwicjPC9g246MK2M1ZFBA   \n",
       "\n",
       "                           business_name  yelp_store_rating  \\\n",
       "3784439  \"The Bar At Bermuda & St. Rose\"                3.5   \n",
       "4737409                    \"Mm Mm Pizza\"                4.0   \n",
       "907246                         \"Pio Pio\"                4.0   \n",
       "907424                         \"Pio Pio\"                4.0   \n",
       "1938376  \"18 Degrees Neighborhood Grill\"                3.0   \n",
       "...                                  ...                ...   \n",
       "1796425                        \"Sizzler\"                3.0   \n",
       "1796426                        \"Sizzler\"                3.0   \n",
       "1796427                        \"Sizzler\"                3.0   \n",
       "1796428                        \"Sizzler\"                3.0   \n",
       "1796433                        \"Sizzler\"                3.0   \n",
       "\n",
       "                        user_id  original_yelp_user_rating  \\\n",
       "3784439  -FcEjpQyBbE7b0BU19lErQ                          5   \n",
       "4737409  ZjHDoLXzLcj023N1a7WTww                          4   \n",
       "907246   haEqV41MSa3d4KFuMia76w                          4   \n",
       "907424   MvblGTq2F6CiWd83mccnPA                          4   \n",
       "1938376  -CVmjsibfqwcOdNRQtaRLA                          3   \n",
       "...                         ...                        ...   \n",
       "1796425  w0B7U_-vU2y7O2rpzR2nbA                          3   \n",
       "1796426  DK57YibC5ShBmqQl97CKog                          3   \n",
       "1796427  xnN53sx27hyIYmSzUwCwHg                          4   \n",
       "1796428  YTtaAnHMsXozVB29qr3sbA                          3   \n",
       "1796433  F8qKwFsbt-BwhRZHmsXwbg                          4   \n",
       "\n",
       "         adjusted_sentiment_rating  \\\n",
       "3784439                   4.535591   \n",
       "4737409                   3.899200   \n",
       "907246                    3.956057   \n",
       "907424                    4.873866   \n",
       "1938376                   3.537123   \n",
       "...                            ...   \n",
       "1796425                   4.097813   \n",
       "1796426                   2.801825   \n",
       "1796427                   4.399360   \n",
       "1796428                   3.429378   \n",
       "1796433                   3.891592   \n",
       "\n",
       "                                      original_text_review  \\\n",
       "3784439  We've been coming here for years. The staff is...   \n",
       "4737409  Ordered several pizzas for a work party..chees...   \n",
       "907246   I was busy cooking dinner when my friend calle...   \n",
       "907424   Great food. Chicken, rice and beans, tacos, pl...   \n",
       "1938376  Went here last week with the husband for dinne...   \n",
       "...                                                    ...   \n",
       "1796425  CHEESE TOAST *drops mic, walks away*\\n\\nI grew...   \n",
       "1796426  Wow, what a blast from the past!  I hadn't eat...   \n",
       "1796427  Great alternative to the now defunct Sweet Tom...   \n",
       "1796428  I haven't been to a Sizzler in a long time. Th...   \n",
       "1796433  Got a tri-tip steak and unlimited salad bar. T...   \n",
       "\n",
       "                                          tokenized_review  \n",
       "3784439  [coming, years, staff, great, recently, added,...  \n",
       "4737409  [ordered, pizzas, work, party, cheeseburger, b...  \n",
       "907246   [busy, cooking, dinner, friend, called, said, ...  \n",
       "907424   [great, food, chicken, rice, beans, tacos, pla...  \n",
       "1938376  [went, week, husband, dinner, coupon, saw, fri...  \n",
       "...                                                    ...  \n",
       "1796425  [cheese, toast, drops, mic, walks, away, grew,...  \n",
       "1796426  [wow, blast, past, hadn, eaten, sizzler, popul...  \n",
       "1796427  [great, alternative, defunct, sweet, tomatoes,...  \n",
       "1796428  [haven, sizzler, long, time, review, salad, ba...  \n",
       "1796433  [got, tri, tip, steak, unlimited, salad, bar, ...  \n",
       "\n",
       "[114253 rows x 9 columns]"
      ]
     },
     "execution_count": 45,
     "metadata": {},
     "output_type": "execute_result"
    }
   ],
   "source": [
    "c"
   ]
  },
  {
   "cell_type": "code",
   "execution_count": 46,
   "metadata": {},
   "outputs": [],
   "source": [
    "tacos_df = c"
   ]
  },
  {
   "cell_type": "code",
   "execution_count": 47,
   "metadata": {},
   "outputs": [],
   "source": [
    "''' Reordering Columns to more succinct format '''\n",
    "tacos_df = tacos_df[['business_id', 'business_name', 'yelp_store_rating', \n",
    "                     'adjusted_store_rating', \n",
    "                     'user_id', 'original_yelp_user_rating', \n",
    "                     'adjusted_sentiment_rating', 'original_text_review', \n",
    "                     'tokenized_review']]"
   ]
  },
  {
   "cell_type": "code",
   "execution_count": 48,
   "metadata": {},
   "outputs": [
    {
     "data": {
      "text/html": [
       "<div>\n",
       "<style scoped>\n",
       "    .dataframe tbody tr th:only-of-type {\n",
       "        vertical-align: middle;\n",
       "    }\n",
       "\n",
       "    .dataframe tbody tr th {\n",
       "        vertical-align: top;\n",
       "    }\n",
       "\n",
       "    .dataframe thead th {\n",
       "        text-align: right;\n",
       "    }\n",
       "</style>\n",
       "<table border=\"1\" class=\"dataframe\">\n",
       "  <thead>\n",
       "    <tr style=\"text-align: right;\">\n",
       "      <th></th>\n",
       "      <th>business_id</th>\n",
       "      <th>business_name</th>\n",
       "      <th>yelp_store_rating</th>\n",
       "      <th>adjusted_store_rating</th>\n",
       "      <th>user_id</th>\n",
       "      <th>original_yelp_user_rating</th>\n",
       "      <th>adjusted_sentiment_rating</th>\n",
       "      <th>original_text_review</th>\n",
       "      <th>tokenized_review</th>\n",
       "    </tr>\n",
       "  </thead>\n",
       "  <tbody>\n",
       "    <tr>\n",
       "      <td>3784439</td>\n",
       "      <td>--FBCX-N37CMYDfs790Bnw</td>\n",
       "      <td>\"The Bar At Bermuda &amp; St. Rose\"</td>\n",
       "      <td>3.5</td>\n",
       "      <td>4.535591</td>\n",
       "      <td>-FcEjpQyBbE7b0BU19lErQ</td>\n",
       "      <td>5</td>\n",
       "      <td>4.535591</td>\n",
       "      <td>We've been coming here for years. The staff is...</td>\n",
       "      <td>[coming, years, staff, great, recently, added,...</td>\n",
       "    </tr>\n",
       "    <tr>\n",
       "      <td>4737409</td>\n",
       "      <td>--GM_ORV2cYS-h38DSaCLw</td>\n",
       "      <td>\"Mm Mm Pizza\"</td>\n",
       "      <td>4.0</td>\n",
       "      <td>3.899200</td>\n",
       "      <td>ZjHDoLXzLcj023N1a7WTww</td>\n",
       "      <td>4</td>\n",
       "      <td>3.899200</td>\n",
       "      <td>Ordered several pizzas for a work party..chees...</td>\n",
       "      <td>[ordered, pizzas, work, party, cheeseburger, b...</td>\n",
       "    </tr>\n",
       "    <tr>\n",
       "      <td>907246</td>\n",
       "      <td>--cZ6Hhc9F7VkKXxHMVZSQ</td>\n",
       "      <td>\"Pio Pio\"</td>\n",
       "      <td>4.0</td>\n",
       "      <td>4.414962</td>\n",
       "      <td>haEqV41MSa3d4KFuMia76w</td>\n",
       "      <td>4</td>\n",
       "      <td>3.956057</td>\n",
       "      <td>I was busy cooking dinner when my friend calle...</td>\n",
       "      <td>[busy, cooking, dinner, friend, called, said, ...</td>\n",
       "    </tr>\n",
       "    <tr>\n",
       "      <td>907424</td>\n",
       "      <td>--cZ6Hhc9F7VkKXxHMVZSQ</td>\n",
       "      <td>\"Pio Pio\"</td>\n",
       "      <td>4.0</td>\n",
       "      <td>4.414962</td>\n",
       "      <td>MvblGTq2F6CiWd83mccnPA</td>\n",
       "      <td>4</td>\n",
       "      <td>4.873866</td>\n",
       "      <td>Great food. Chicken, rice and beans, tacos, pl...</td>\n",
       "      <td>[great, food, chicken, rice, beans, tacos, pla...</td>\n",
       "    </tr>\n",
       "    <tr>\n",
       "      <td>1938376</td>\n",
       "      <td>-01XupAWZEXbdNbxNg5mEg</td>\n",
       "      <td>\"18 Degrees Neighborhood Grill\"</td>\n",
       "      <td>3.0</td>\n",
       "      <td>3.537123</td>\n",
       "      <td>-CVmjsibfqwcOdNRQtaRLA</td>\n",
       "      <td>3</td>\n",
       "      <td>3.537123</td>\n",
       "      <td>Went here last week with the husband for dinne...</td>\n",
       "      <td>[went, week, husband, dinner, coupon, saw, fri...</td>\n",
       "    </tr>\n",
       "    <tr>\n",
       "      <td>3830183</td>\n",
       "      <td>-092wE7j5HZOogMLAh40zA</td>\n",
       "      <td>\"Wong's Jr\"</td>\n",
       "      <td>3.5</td>\n",
       "      <td>3.163127</td>\n",
       "      <td>IC7NLIeWhS45_aEE_8aVUg</td>\n",
       "      <td>4</td>\n",
       "      <td>3.163127</td>\n",
       "      <td>This place is my favorite Chinese food place w...</td>\n",
       "      <td>[place, favorite, chinese, food, place, miles,...</td>\n",
       "    </tr>\n",
       "    <tr>\n",
       "      <td>3889700</td>\n",
       "      <td>-0t6o9LXMVQ3aV8CHhRTnA</td>\n",
       "      <td>\"AZ International Marketplace\"</td>\n",
       "      <td>3.5</td>\n",
       "      <td>4.497676</td>\n",
       "      <td>oUst55rUuv2nKEQ0FgJ5GQ</td>\n",
       "      <td>4</td>\n",
       "      <td>4.497676</td>\n",
       "      <td>Wow ... what a huge market indeed. This is the...</td>\n",
       "      <td>[wow, huge, market, sister, store, smaller, me...</td>\n",
       "    </tr>\n",
       "    <tr>\n",
       "      <td>1668176</td>\n",
       "      <td>-0tgMGl7D9B10YjSN2ujLA</td>\n",
       "      <td>\"Dubliner\"</td>\n",
       "      <td>3.5</td>\n",
       "      <td>4.221543</td>\n",
       "      <td>tfBnJCPMpI989z6N5vPPug</td>\n",
       "      <td>5</td>\n",
       "      <td>4.221543</td>\n",
       "      <td>Shepards pie and taco Tuesday are definitely j...</td>\n",
       "      <td>[shepards, pie, taco, tuesday, definitely, cou...</td>\n",
       "    </tr>\n",
       "    <tr>\n",
       "      <td>2496748</td>\n",
       "      <td>-1VaIJza42Hjev6ukacCNg</td>\n",
       "      <td>\"Rio Mirage Cafe Y Cantina\"</td>\n",
       "      <td>4.0</td>\n",
       "      <td>3.841703</td>\n",
       "      <td>SUMR4k6sqSFFrBpMKq0HWg</td>\n",
       "      <td>3</td>\n",
       "      <td>3.971430</td>\n",
       "      <td>The food is great, shrimp cocktails have an au...</td>\n",
       "      <td>[food, great, shrimp, cocktails, authentic, fl...</td>\n",
       "    </tr>\n",
       "    <tr>\n",
       "      <td>2496757</td>\n",
       "      <td>-1VaIJza42Hjev6ukacCNg</td>\n",
       "      <td>\"Rio Mirage Cafe Y Cantina\"</td>\n",
       "      <td>4.0</td>\n",
       "      <td>3.841703</td>\n",
       "      <td>vRhszJeS0GMLvMDT8eC3OQ</td>\n",
       "      <td>4</td>\n",
       "      <td>3.690165</td>\n",
       "      <td>We took a break from the Christmas shopping cr...</td>\n",
       "      <td>[took, break, christmas, shopping, craziness, ...</td>\n",
       "    </tr>\n",
       "    <tr>\n",
       "      <td>2496811</td>\n",
       "      <td>-1VaIJza42Hjev6ukacCNg</td>\n",
       "      <td>\"Rio Mirage Cafe Y Cantina\"</td>\n",
       "      <td>4.0</td>\n",
       "      <td>3.841703</td>\n",
       "      <td>nbUVwIWxtheGlDLdM8AEjA</td>\n",
       "      <td>5</td>\n",
       "      <td>3.988934</td>\n",
       "      <td>On our way to Sedona and used yelp to determin...</td>\n",
       "      <td>[way, sedona, yelp, determine, stop, easy, loc...</td>\n",
       "    </tr>\n",
       "    <tr>\n",
       "      <td>2496813</td>\n",
       "      <td>-1VaIJza42Hjev6ukacCNg</td>\n",
       "      <td>\"Rio Mirage Cafe Y Cantina\"</td>\n",
       "      <td>4.0</td>\n",
       "      <td>3.841703</td>\n",
       "      <td>JxQOKTyANMTOlVtfmiqXsQ</td>\n",
       "      <td>5</td>\n",
       "      <td>4.893775</td>\n",
       "      <td>We had the Mahi Mahi fish tacos.  They were am...</td>\n",
       "      <td>[mahi, mahi, fish, tacos, amazing, loved, sals...</td>\n",
       "    </tr>\n",
       "    <tr>\n",
       "      <td>2496828</td>\n",
       "      <td>-1VaIJza42Hjev6ukacCNg</td>\n",
       "      <td>\"Rio Mirage Cafe Y Cantina\"</td>\n",
       "      <td>4.0</td>\n",
       "      <td>3.841703</td>\n",
       "      <td>j0Un8DiHkzhf5oaOj99RzQ</td>\n",
       "      <td>4</td>\n",
       "      <td>3.608050</td>\n",
       "      <td>I ordered the Chili Relleno combination platte...</td>\n",
       "      <td>[ordered, chili, relleno, combination, platter...</td>\n",
       "    </tr>\n",
       "    <tr>\n",
       "      <td>2496839</td>\n",
       "      <td>-1VaIJza42Hjev6ukacCNg</td>\n",
       "      <td>\"Rio Mirage Cafe Y Cantina\"</td>\n",
       "      <td>4.0</td>\n",
       "      <td>3.841703</td>\n",
       "      <td>YwTA18gfITTzJ1EvfMzAmg</td>\n",
       "      <td>5</td>\n",
       "      <td>4.178485</td>\n",
       "      <td>We have eaten here once, and the experience wa...</td>\n",
       "      <td>[eaten, experience, great, definitely, hidden,...</td>\n",
       "    </tr>\n",
       "    <tr>\n",
       "      <td>2496857</td>\n",
       "      <td>-1VaIJza42Hjev6ukacCNg</td>\n",
       "      <td>\"Rio Mirage Cafe Y Cantina\"</td>\n",
       "      <td>4.0</td>\n",
       "      <td>3.841703</td>\n",
       "      <td>UmXzwFM2OkZHWJ5cJZlqkg</td>\n",
       "      <td>3</td>\n",
       "      <td>3.889293</td>\n",
       "      <td>While I don't think there is a river or a mira...</td>\n",
       "      <td>[think, river, mirage, near, place, large, pud...</td>\n",
       "    </tr>\n",
       "    <tr>\n",
       "      <td>2496874</td>\n",
       "      <td>-1VaIJza42Hjev6ukacCNg</td>\n",
       "      <td>\"Rio Mirage Cafe Y Cantina\"</td>\n",
       "      <td>4.0</td>\n",
       "      <td>3.841703</td>\n",
       "      <td>13F6gDJ40Ylm6ZBqaDjBYA</td>\n",
       "      <td>4</td>\n",
       "      <td>4.430749</td>\n",
       "      <td>Came here with my boyfriend, we have been look...</td>\n",
       "      <td>[came, boyfriend, looking, good, mexican, rest...</td>\n",
       "    </tr>\n",
       "    <tr>\n",
       "      <td>2496877</td>\n",
       "      <td>-1VaIJza42Hjev6ukacCNg</td>\n",
       "      <td>\"Rio Mirage Cafe Y Cantina\"</td>\n",
       "      <td>4.0</td>\n",
       "      <td>3.841703</td>\n",
       "      <td>nT6f_etGqvkoneKKxDnpIg</td>\n",
       "      <td>3</td>\n",
       "      <td>3.321037</td>\n",
       "      <td>We went here for dinner June 2nd to celebrate ...</td>\n",
       "      <td>[went, dinner, june, celebrate, friend, birthd...</td>\n",
       "    </tr>\n",
       "    <tr>\n",
       "      <td>2496878</td>\n",
       "      <td>-1VaIJza42Hjev6ukacCNg</td>\n",
       "      <td>\"Rio Mirage Cafe Y Cantina\"</td>\n",
       "      <td>4.0</td>\n",
       "      <td>3.841703</td>\n",
       "      <td>mhArWI_0mvu3S4FiQcZ0nw</td>\n",
       "      <td>2</td>\n",
       "      <td>1.802178</td>\n",
       "      <td>Not what it used to be.  This was the third ti...</td>\n",
       "      <td>[time, season, ate, sure, returned, encountere...</td>\n",
       "    </tr>\n",
       "    <tr>\n",
       "      <td>2496879</td>\n",
       "      <td>-1VaIJza42Hjev6ukacCNg</td>\n",
       "      <td>\"Rio Mirage Cafe Y Cantina\"</td>\n",
       "      <td>4.0</td>\n",
       "      <td>3.841703</td>\n",
       "      <td>_iMA7tOMdrHBDvzbWr-k4g</td>\n",
       "      <td>5</td>\n",
       "      <td>4.073761</td>\n",
       "      <td>Ok, Midwest guys, best ever Mexican.  Why?  Au...</td>\n",
       "      <td>[midwest, guys, best, mexican, authentic, loca...</td>\n",
       "    </tr>\n",
       "    <tr>\n",
       "      <td>2496886</td>\n",
       "      <td>-1VaIJza42Hjev6ukacCNg</td>\n",
       "      <td>\"Rio Mirage Cafe Y Cantina\"</td>\n",
       "      <td>4.0</td>\n",
       "      <td>3.841703</td>\n",
       "      <td>MGpRmnbDX07EW_aQXn2TYg</td>\n",
       "      <td>5</td>\n",
       "      <td>4.619903</td>\n",
       "      <td>Awesome.  Since I moved to AZ. from TX. I have...</td>\n",
       "      <td>[awesome, moved, searching, good, mexican, foo...</td>\n",
       "    </tr>\n",
       "    <tr>\n",
       "      <td>2496888</td>\n",
       "      <td>-1VaIJza42Hjev6ukacCNg</td>\n",
       "      <td>\"Rio Mirage Cafe Y Cantina\"</td>\n",
       "      <td>4.0</td>\n",
       "      <td>3.841703</td>\n",
       "      <td>GQuQ_x_ZUnQjjTDfOFQmUA</td>\n",
       "      <td>4</td>\n",
       "      <td>3.545183</td>\n",
       "      <td>Went in this past Sunday about 10:30. We were ...</td>\n",
       "      <td>[went, past, sunday, seated, promptly, friendl...</td>\n",
       "    </tr>\n",
       "    <tr>\n",
       "      <td>2496895</td>\n",
       "      <td>-1VaIJza42Hjev6ukacCNg</td>\n",
       "      <td>\"Rio Mirage Cafe Y Cantina\"</td>\n",
       "      <td>4.0</td>\n",
       "      <td>3.841703</td>\n",
       "      <td>DWz6gCALJMU-LiJPo8x7ng</td>\n",
       "      <td>4</td>\n",
       "      <td>3.965803</td>\n",
       "      <td>We went at the height of the dinner rush on Fr...</td>\n",
       "      <td>[went, height, dinner, rush, friday, wanted, d...</td>\n",
       "    </tr>\n",
       "    <tr>\n",
       "      <td>2496900</td>\n",
       "      <td>-1VaIJza42Hjev6ukacCNg</td>\n",
       "      <td>\"Rio Mirage Cafe Y Cantina\"</td>\n",
       "      <td>4.0</td>\n",
       "      <td>3.841703</td>\n",
       "      <td>eAJ3Ip0vh-zuk_BmcmchYA</td>\n",
       "      <td>3</td>\n",
       "      <td>3.646792</td>\n",
       "      <td>This place is a good lunch break spot if you a...</td>\n",
       "      <td>[place, good, lunch, break, spot, lunch, break...</td>\n",
       "    </tr>\n",
       "    <tr>\n",
       "      <td>4446722</td>\n",
       "      <td>-1mjIwXWiI1uzy-8nGkdkw</td>\n",
       "      <td>\"Bridal Fashion Debut\"</td>\n",
       "      <td>4.0</td>\n",
       "      <td>3.928270</td>\n",
       "      <td>nf7dY3evihisaWf1xgKKwQ</td>\n",
       "      <td>4</td>\n",
       "      <td>3.928270</td>\n",
       "      <td>hmm, hopefully I am reviewing the right thing....</td>\n",
       "      <td>[hmm, hopefully, reviewing, right, thing, sure...</td>\n",
       "    </tr>\n",
       "    <tr>\n",
       "      <td>4875759</td>\n",
       "      <td>-1uVyyy3UXNA9WoPucNniA</td>\n",
       "      <td>\"La Tapatia Market\"</td>\n",
       "      <td>5.0</td>\n",
       "      <td>4.545881</td>\n",
       "      <td>wsXtgONpRltBnNxCI8KpTQ</td>\n",
       "      <td>5</td>\n",
       "      <td>4.338726</td>\n",
       "      <td>My dad took me in for lunch. He was there 2 we...</td>\n",
       "      <td>[dad, took, lunch, weeks, ago, couldn, stop, t...</td>\n",
       "    </tr>\n",
       "    <tr>\n",
       "      <td>4875761</td>\n",
       "      <td>-1uVyyy3UXNA9WoPucNniA</td>\n",
       "      <td>\"La Tapatia Market\"</td>\n",
       "      <td>5.0</td>\n",
       "      <td>4.545881</td>\n",
       "      <td>lXlEUF5EA4PDjtLhT2Iu8w</td>\n",
       "      <td>5</td>\n",
       "      <td>4.319883</td>\n",
       "      <td>I tried the carne asada tacos and the carnitas...</td>\n",
       "      <td>[tried, carne, asada, tacos, carnitas, tacos, ...</td>\n",
       "    </tr>\n",
       "    <tr>\n",
       "      <td>4875773</td>\n",
       "      <td>-1uVyyy3UXNA9WoPucNniA</td>\n",
       "      <td>\"La Tapatia Market\"</td>\n",
       "      <td>5.0</td>\n",
       "      <td>4.545881</td>\n",
       "      <td>IXHU--FVkanfIWP82aBCBA</td>\n",
       "      <td>5</td>\n",
       "      <td>4.979033</td>\n",
       "      <td>Went in and got a taco combo and some other st...</td>\n",
       "      <td>[went, got, taco, combo, stuff, amazing, fresh...</td>\n",
       "    </tr>\n",
       "    <tr>\n",
       "      <td>4245032</td>\n",
       "      <td>-1xCh7Cocn6IwFzhELyohA</td>\n",
       "      <td>\"Jose' and Tony's Mexican Restaurant\"</td>\n",
       "      <td>2.5</td>\n",
       "      <td>2.893258</td>\n",
       "      <td>Bf3hX9Y3W00T2d0nSB_Crg</td>\n",
       "      <td>1</td>\n",
       "      <td>2.344371</td>\n",
       "      <td>This is a tale of two teachers, a married coup...</td>\n",
       "      <td>[tale, teachers, married, couple, looking, che...</td>\n",
       "    </tr>\n",
       "    <tr>\n",
       "      <td>4245033</td>\n",
       "      <td>-1xCh7Cocn6IwFzhELyohA</td>\n",
       "      <td>\"Jose' and Tony's Mexican Restaurant\"</td>\n",
       "      <td>2.5</td>\n",
       "      <td>2.893258</td>\n",
       "      <td>nbVhicAu_-rOrXKh7xV2dA</td>\n",
       "      <td>2</td>\n",
       "      <td>2.994006</td>\n",
       "      <td>I have been here a number of times, mostly bec...</td>\n",
       "      <td>[number, times, convenient, near, friends, add...</td>\n",
       "    </tr>\n",
       "    <tr>\n",
       "      <td>4245038</td>\n",
       "      <td>-1xCh7Cocn6IwFzhELyohA</td>\n",
       "      <td>\"Jose' and Tony's Mexican Restaurant\"</td>\n",
       "      <td>2.5</td>\n",
       "      <td>2.893258</td>\n",
       "      <td>WoKCLSctS7G2547xKcED-Q</td>\n",
       "      <td>3</td>\n",
       "      <td>3.551554</td>\n",
       "      <td>It hurts my heart a little to see all the one ...</td>\n",
       "      <td>[hurts, heart, little, star, reviews, jose, to...</td>\n",
       "    </tr>\n",
       "    <tr>\n",
       "      <td>4245049</td>\n",
       "      <td>-1xCh7Cocn6IwFzhELyohA</td>\n",
       "      <td>\"Jose' and Tony's Mexican Restaurant\"</td>\n",
       "      <td>2.5</td>\n",
       "      <td>2.893258</td>\n",
       "      <td>7LMYtJ7xjMEpmGHJzQGFjg</td>\n",
       "      <td>2</td>\n",
       "      <td>1.814393</td>\n",
       "      <td>So this place. Have been driving by it for 6 m...</td>\n",
       "      <td>[place, driving, months, finally, inside, plac...</td>\n",
       "    </tr>\n",
       "    <tr>\n",
       "      <td>4245053</td>\n",
       "      <td>-1xCh7Cocn6IwFzhELyohA</td>\n",
       "      <td>\"Jose' and Tony's Mexican Restaurant\"</td>\n",
       "      <td>2.5</td>\n",
       "      <td>2.893258</td>\n",
       "      <td>YopTJyzIiL6-3piLryzFrg</td>\n",
       "      <td>4</td>\n",
       "      <td>3.927350</td>\n",
       "      <td>I remember the day, years ago, when I would ex...</td>\n",
       "      <td>[remember, day, years, ago, excitedly, run, st...</td>\n",
       "    </tr>\n",
       "    <tr>\n",
       "      <td>4245056</td>\n",
       "      <td>-1xCh7Cocn6IwFzhELyohA</td>\n",
       "      <td>\"Jose' and Tony's Mexican Restaurant\"</td>\n",
       "      <td>2.5</td>\n",
       "      <td>2.893258</td>\n",
       "      <td>rCWrxuRC8_pfagpchtHp6A</td>\n",
       "      <td>2</td>\n",
       "      <td>2.980823</td>\n",
       "      <td>In business for longer than I have been on thi...</td>\n",
       "      <td>[business, longer, earthly, plane, jose, tony,...</td>\n",
       "    </tr>\n",
       "    <tr>\n",
       "      <td>4245058</td>\n",
       "      <td>-1xCh7Cocn6IwFzhELyohA</td>\n",
       "      <td>\"Jose' and Tony's Mexican Restaurant\"</td>\n",
       "      <td>2.5</td>\n",
       "      <td>2.893258</td>\n",
       "      <td>-NmL2ZMmxc7b6_Gmr0_43g</td>\n",
       "      <td>3</td>\n",
       "      <td>2.826069</td>\n",
       "      <td>I have been going past this place since I was ...</td>\n",
       "      <td>[going, past, place, kid, means, business, yea...</td>\n",
       "    </tr>\n",
       "    <tr>\n",
       "      <td>4245061</td>\n",
       "      <td>-1xCh7Cocn6IwFzhELyohA</td>\n",
       "      <td>\"Jose' and Tony's Mexican Restaurant\"</td>\n",
       "      <td>2.5</td>\n",
       "      <td>2.893258</td>\n",
       "      <td>uTBeZCW6nSsuPgqScbf-0Q</td>\n",
       "      <td>1</td>\n",
       "      <td>1.870071</td>\n",
       "      <td>Stopped in for a quick lunch and was very disa...</td>\n",
       "      <td>[stopped, quick, lunch, disappointed, bartende...</td>\n",
       "    </tr>\n",
       "    <tr>\n",
       "      <td>4245064</td>\n",
       "      <td>-1xCh7Cocn6IwFzhELyohA</td>\n",
       "      <td>\"Jose' and Tony's Mexican Restaurant\"</td>\n",
       "      <td>2.5</td>\n",
       "      <td>2.893258</td>\n",
       "      <td>iCXJ3gO2GhopYHmfmnktfw</td>\n",
       "      <td>4</td>\n",
       "      <td>3.730689</td>\n",
       "      <td>Jose and Tony's is a great spot to grab some t...</td>\n",
       "      <td>[jose, tony, great, spot, grab, tacos, beers, ...</td>\n",
       "    </tr>\n",
       "    <tr>\n",
       "      <td>3396098</td>\n",
       "      <td>-2EAyppKR_2xuLyvJZEbRQ</td>\n",
       "      <td>\"Burrito Burrito\"</td>\n",
       "      <td>2.5</td>\n",
       "      <td>3.217652</td>\n",
       "      <td>D7IO6XICsQ9D7Us8ymbyAw</td>\n",
       "      <td>4</td>\n",
       "      <td>4.253856</td>\n",
       "      <td>Very good and friendly ordering service from t...</td>\n",
       "      <td>[good, friendly, ordering, service, man, charg...</td>\n",
       "    </tr>\n",
       "    <tr>\n",
       "      <td>3396103</td>\n",
       "      <td>-2EAyppKR_2xuLyvJZEbRQ</td>\n",
       "      <td>\"Burrito Burrito\"</td>\n",
       "      <td>2.5</td>\n",
       "      <td>3.217652</td>\n",
       "      <td>VLlg4rAuHODidY143sf2Pg</td>\n",
       "      <td>2</td>\n",
       "      <td>3.547741</td>\n",
       "      <td>Had the surf and turf burrito bowl today. Alth...</td>\n",
       "      <td>[surf, turf, burrito, bowl, today, shrimp, lov...</td>\n",
       "    </tr>\n",
       "    <tr>\n",
       "      <td>3396105</td>\n",
       "      <td>-2EAyppKR_2xuLyvJZEbRQ</td>\n",
       "      <td>\"Burrito Burrito\"</td>\n",
       "      <td>2.5</td>\n",
       "      <td>3.217652</td>\n",
       "      <td>WeVkkF5L39888IPPlRhNpg</td>\n",
       "      <td>4</td>\n",
       "      <td>3.660095</td>\n",
       "      <td>I don't understand how this place doesn't have...</td>\n",
       "      <td>[understand, place, reviews, good, reviews, ma...</td>\n",
       "    </tr>\n",
       "    <tr>\n",
       "      <td>3396109</td>\n",
       "      <td>-2EAyppKR_2xuLyvJZEbRQ</td>\n",
       "      <td>\"Burrito Burrito\"</td>\n",
       "      <td>2.5</td>\n",
       "      <td>3.217652</td>\n",
       "      <td>FykmLnIuh6oPaSPJ3RLB_A</td>\n",
       "      <td>1</td>\n",
       "      <td>1.408917</td>\n",
       "      <td>Absolutely the worst soft tacos we have ever h...</td>\n",
       "      <td>[absolutely, worst, soft, tacos, taco, bell, h...</td>\n",
       "    </tr>\n",
       "    <tr>\n",
       "      <td>4433413</td>\n",
       "      <td>-2isRNVb6PDuBagELL5EBw</td>\n",
       "      <td>\"Taco Bell\"</td>\n",
       "      <td>3.0</td>\n",
       "      <td>2.982036</td>\n",
       "      <td>Tp2ueTirl1lV6EvhPcc-5Q</td>\n",
       "      <td>1</td>\n",
       "      <td>2.758293</td>\n",
       "      <td>They used to exceptional service! Now they lac...</td>\n",
       "      <td>[exceptional, service, lack, lazy, build, toda...</td>\n",
       "    </tr>\n",
       "    <tr>\n",
       "      <td>4433415</td>\n",
       "      <td>-2isRNVb6PDuBagELL5EBw</td>\n",
       "      <td>\"Taco Bell\"</td>\n",
       "      <td>3.0</td>\n",
       "      <td>2.982036</td>\n",
       "      <td>Tmw8c42MbUC968uKahphAw</td>\n",
       "      <td>5</td>\n",
       "      <td>3.495788</td>\n",
       "      <td>I only come here once in a while, but I have r...</td>\n",
       "      <td>[come, received, great, customer, service, tim...</td>\n",
       "    </tr>\n",
       "    <tr>\n",
       "      <td>4433419</td>\n",
       "      <td>-2isRNVb6PDuBagELL5EBw</td>\n",
       "      <td>\"Taco Bell\"</td>\n",
       "      <td>3.0</td>\n",
       "      <td>2.982036</td>\n",
       "      <td>Q6E66wyWs8OOC_KxDLT4MQ</td>\n",
       "      <td>3</td>\n",
       "      <td>2.692027</td>\n",
       "      <td>The \"fast\" in fast food apparently doesn't app...</td>\n",
       "      <td>[fast, fast, food, apparently, apply, way, hom...</td>\n",
       "    </tr>\n",
       "    <tr>\n",
       "      <td>5256829</td>\n",
       "      <td>-2q4dnUw0gGJniGW2aPamQ</td>\n",
       "      <td>\"Fiesta Ranchera\"</td>\n",
       "      <td>2.0</td>\n",
       "      <td>1.850283</td>\n",
       "      <td>6MDjqs8QE2A_TA0CYi8-UQ</td>\n",
       "      <td>1</td>\n",
       "      <td>1.850283</td>\n",
       "      <td>Me and my girlfriend walked into this place af...</td>\n",
       "      <td>[girlfriend, walked, place, mary, anns, diner,...</td>\n",
       "    </tr>\n",
       "    <tr>\n",
       "      <td>1372719</td>\n",
       "      <td>-3zffZUHoY8bQjGfPSoBKQ</td>\n",
       "      <td>\"Michael Mina\"</td>\n",
       "      <td>4.0</td>\n",
       "      <td>2.140460</td>\n",
       "      <td>smcntJvBuWr_J_NhlSyHeA</td>\n",
       "      <td>2</td>\n",
       "      <td>2.140460</td>\n",
       "      <td>Don't get me wrong, the quality is superb at t...</td>\n",
       "      <td>[wrong, quality, superb, restaurant, service, ...</td>\n",
       "    </tr>\n",
       "    <tr>\n",
       "      <td>5151658</td>\n",
       "      <td>-4TVAE4KcLWVSXO2rOsVEg</td>\n",
       "      <td>\"Pitaya Maya\"</td>\n",
       "      <td>2.5</td>\n",
       "      <td>3.898906</td>\n",
       "      <td>fzxwe76njDWbF0ZiJoP5Lw</td>\n",
       "      <td>4</td>\n",
       "      <td>3.898906</td>\n",
       "      <td>While almost everything was amazing, there was...</td>\n",
       "      <td>[amazing, flaw, main, meal, steak, tacos, blan...</td>\n",
       "    </tr>\n",
       "    <tr>\n",
       "      <td>1697509</td>\n",
       "      <td>-5L8zOxibac-vBrsYtxXbQ</td>\n",
       "      <td>\"Ed's Tavern\"</td>\n",
       "      <td>3.5</td>\n",
       "      <td>3.716800</td>\n",
       "      <td>E43QxgV87Ij6KxMCHcijKw</td>\n",
       "      <td>4</td>\n",
       "      <td>4.304706</td>\n",
       "      <td>Like to play games? Watch sports? Eat? Drink b...</td>\n",
       "      <td>[like, play, games, watch, sports, eat, drink,...</td>\n",
       "    </tr>\n",
       "    <tr>\n",
       "      <td>1697524</td>\n",
       "      <td>-5L8zOxibac-vBrsYtxXbQ</td>\n",
       "      <td>\"Ed's Tavern\"</td>\n",
       "      <td>3.5</td>\n",
       "      <td>3.716800</td>\n",
       "      <td>Ry1O_KXZHGRI8g5zBR3IcQ</td>\n",
       "      <td>4</td>\n",
       "      <td>3.128894</td>\n",
       "      <td>Gave trivia night another shot at Ed's... I th...</td>\n",
       "      <td>[gave, trivia, night, shot, think, time, trivi...</td>\n",
       "    </tr>\n",
       "    <tr>\n",
       "      <td>4600585</td>\n",
       "      <td>-5XuRAfrjEiMN77J4gMQZQ</td>\n",
       "      <td>\"Berrybrook Farm Natural Foods\"</td>\n",
       "      <td>4.0</td>\n",
       "      <td>3.824137</td>\n",
       "      <td>IJvtTTMvLFIDBBoiqtm6Uw</td>\n",
       "      <td>5</td>\n",
       "      <td>3.824137</td>\n",
       "      <td>This place is an absolute GEM! I constantly he...</td>\n",
       "      <td>[place, absolute, gem, constantly, hear, frien...</td>\n",
       "    </tr>\n",
       "    <tr>\n",
       "      <td>4722831</td>\n",
       "      <td>-5dd-RjojGVK9hjAMCXVZw</td>\n",
       "      <td>\"La Fiesta Mexican Restaurant\"</td>\n",
       "      <td>3.0</td>\n",
       "      <td>2.943541</td>\n",
       "      <td>ymi0YEAIyZm9DN0H-OBb5A</td>\n",
       "      <td>2</td>\n",
       "      <td>1.125818</td>\n",
       "      <td>Our waiter was friendly, but very scatter brai...</td>\n",
       "      <td>[waiter, friendly, scatter, brained, flag, sod...</td>\n",
       "    </tr>\n",
       "  </tbody>\n",
       "</table>\n",
       "</div>"
      ],
      "text/plain": [
       "                    business_id                          business_name  \\\n",
       "3784439  --FBCX-N37CMYDfs790Bnw        \"The Bar At Bermuda & St. Rose\"   \n",
       "4737409  --GM_ORV2cYS-h38DSaCLw                          \"Mm Mm Pizza\"   \n",
       "907246   --cZ6Hhc9F7VkKXxHMVZSQ                              \"Pio Pio\"   \n",
       "907424   --cZ6Hhc9F7VkKXxHMVZSQ                              \"Pio Pio\"   \n",
       "1938376  -01XupAWZEXbdNbxNg5mEg        \"18 Degrees Neighborhood Grill\"   \n",
       "3830183  -092wE7j5HZOogMLAh40zA                            \"Wong's Jr\"   \n",
       "3889700  -0t6o9LXMVQ3aV8CHhRTnA         \"AZ International Marketplace\"   \n",
       "1668176  -0tgMGl7D9B10YjSN2ujLA                             \"Dubliner\"   \n",
       "2496748  -1VaIJza42Hjev6ukacCNg            \"Rio Mirage Cafe Y Cantina\"   \n",
       "2496757  -1VaIJza42Hjev6ukacCNg            \"Rio Mirage Cafe Y Cantina\"   \n",
       "2496811  -1VaIJza42Hjev6ukacCNg            \"Rio Mirage Cafe Y Cantina\"   \n",
       "2496813  -1VaIJza42Hjev6ukacCNg            \"Rio Mirage Cafe Y Cantina\"   \n",
       "2496828  -1VaIJza42Hjev6ukacCNg            \"Rio Mirage Cafe Y Cantina\"   \n",
       "2496839  -1VaIJza42Hjev6ukacCNg            \"Rio Mirage Cafe Y Cantina\"   \n",
       "2496857  -1VaIJza42Hjev6ukacCNg            \"Rio Mirage Cafe Y Cantina\"   \n",
       "2496874  -1VaIJza42Hjev6ukacCNg            \"Rio Mirage Cafe Y Cantina\"   \n",
       "2496877  -1VaIJza42Hjev6ukacCNg            \"Rio Mirage Cafe Y Cantina\"   \n",
       "2496878  -1VaIJza42Hjev6ukacCNg            \"Rio Mirage Cafe Y Cantina\"   \n",
       "2496879  -1VaIJza42Hjev6ukacCNg            \"Rio Mirage Cafe Y Cantina\"   \n",
       "2496886  -1VaIJza42Hjev6ukacCNg            \"Rio Mirage Cafe Y Cantina\"   \n",
       "2496888  -1VaIJza42Hjev6ukacCNg            \"Rio Mirage Cafe Y Cantina\"   \n",
       "2496895  -1VaIJza42Hjev6ukacCNg            \"Rio Mirage Cafe Y Cantina\"   \n",
       "2496900  -1VaIJza42Hjev6ukacCNg            \"Rio Mirage Cafe Y Cantina\"   \n",
       "4446722  -1mjIwXWiI1uzy-8nGkdkw                 \"Bridal Fashion Debut\"   \n",
       "4875759  -1uVyyy3UXNA9WoPucNniA                    \"La Tapatia Market\"   \n",
       "4875761  -1uVyyy3UXNA9WoPucNniA                    \"La Tapatia Market\"   \n",
       "4875773  -1uVyyy3UXNA9WoPucNniA                    \"La Tapatia Market\"   \n",
       "4245032  -1xCh7Cocn6IwFzhELyohA  \"Jose' and Tony's Mexican Restaurant\"   \n",
       "4245033  -1xCh7Cocn6IwFzhELyohA  \"Jose' and Tony's Mexican Restaurant\"   \n",
       "4245038  -1xCh7Cocn6IwFzhELyohA  \"Jose' and Tony's Mexican Restaurant\"   \n",
       "4245049  -1xCh7Cocn6IwFzhELyohA  \"Jose' and Tony's Mexican Restaurant\"   \n",
       "4245053  -1xCh7Cocn6IwFzhELyohA  \"Jose' and Tony's Mexican Restaurant\"   \n",
       "4245056  -1xCh7Cocn6IwFzhELyohA  \"Jose' and Tony's Mexican Restaurant\"   \n",
       "4245058  -1xCh7Cocn6IwFzhELyohA  \"Jose' and Tony's Mexican Restaurant\"   \n",
       "4245061  -1xCh7Cocn6IwFzhELyohA  \"Jose' and Tony's Mexican Restaurant\"   \n",
       "4245064  -1xCh7Cocn6IwFzhELyohA  \"Jose' and Tony's Mexican Restaurant\"   \n",
       "3396098  -2EAyppKR_2xuLyvJZEbRQ                      \"Burrito Burrito\"   \n",
       "3396103  -2EAyppKR_2xuLyvJZEbRQ                      \"Burrito Burrito\"   \n",
       "3396105  -2EAyppKR_2xuLyvJZEbRQ                      \"Burrito Burrito\"   \n",
       "3396109  -2EAyppKR_2xuLyvJZEbRQ                      \"Burrito Burrito\"   \n",
       "4433413  -2isRNVb6PDuBagELL5EBw                            \"Taco Bell\"   \n",
       "4433415  -2isRNVb6PDuBagELL5EBw                            \"Taco Bell\"   \n",
       "4433419  -2isRNVb6PDuBagELL5EBw                            \"Taco Bell\"   \n",
       "5256829  -2q4dnUw0gGJniGW2aPamQ                      \"Fiesta Ranchera\"   \n",
       "1372719  -3zffZUHoY8bQjGfPSoBKQ                         \"Michael Mina\"   \n",
       "5151658  -4TVAE4KcLWVSXO2rOsVEg                          \"Pitaya Maya\"   \n",
       "1697509  -5L8zOxibac-vBrsYtxXbQ                          \"Ed's Tavern\"   \n",
       "1697524  -5L8zOxibac-vBrsYtxXbQ                          \"Ed's Tavern\"   \n",
       "4600585  -5XuRAfrjEiMN77J4gMQZQ        \"Berrybrook Farm Natural Foods\"   \n",
       "4722831  -5dd-RjojGVK9hjAMCXVZw         \"La Fiesta Mexican Restaurant\"   \n",
       "\n",
       "         yelp_store_rating  adjusted_store_rating                 user_id  \\\n",
       "3784439                3.5               4.535591  -FcEjpQyBbE7b0BU19lErQ   \n",
       "4737409                4.0               3.899200  ZjHDoLXzLcj023N1a7WTww   \n",
       "907246                 4.0               4.414962  haEqV41MSa3d4KFuMia76w   \n",
       "907424                 4.0               4.414962  MvblGTq2F6CiWd83mccnPA   \n",
       "1938376                3.0               3.537123  -CVmjsibfqwcOdNRQtaRLA   \n",
       "3830183                3.5               3.163127  IC7NLIeWhS45_aEE_8aVUg   \n",
       "3889700                3.5               4.497676  oUst55rUuv2nKEQ0FgJ5GQ   \n",
       "1668176                3.5               4.221543  tfBnJCPMpI989z6N5vPPug   \n",
       "2496748                4.0               3.841703  SUMR4k6sqSFFrBpMKq0HWg   \n",
       "2496757                4.0               3.841703  vRhszJeS0GMLvMDT8eC3OQ   \n",
       "2496811                4.0               3.841703  nbUVwIWxtheGlDLdM8AEjA   \n",
       "2496813                4.0               3.841703  JxQOKTyANMTOlVtfmiqXsQ   \n",
       "2496828                4.0               3.841703  j0Un8DiHkzhf5oaOj99RzQ   \n",
       "2496839                4.0               3.841703  YwTA18gfITTzJ1EvfMzAmg   \n",
       "2496857                4.0               3.841703  UmXzwFM2OkZHWJ5cJZlqkg   \n",
       "2496874                4.0               3.841703  13F6gDJ40Ylm6ZBqaDjBYA   \n",
       "2496877                4.0               3.841703  nT6f_etGqvkoneKKxDnpIg   \n",
       "2496878                4.0               3.841703  mhArWI_0mvu3S4FiQcZ0nw   \n",
       "2496879                4.0               3.841703  _iMA7tOMdrHBDvzbWr-k4g   \n",
       "2496886                4.0               3.841703  MGpRmnbDX07EW_aQXn2TYg   \n",
       "2496888                4.0               3.841703  GQuQ_x_ZUnQjjTDfOFQmUA   \n",
       "2496895                4.0               3.841703  DWz6gCALJMU-LiJPo8x7ng   \n",
       "2496900                4.0               3.841703  eAJ3Ip0vh-zuk_BmcmchYA   \n",
       "4446722                4.0               3.928270  nf7dY3evihisaWf1xgKKwQ   \n",
       "4875759                5.0               4.545881  wsXtgONpRltBnNxCI8KpTQ   \n",
       "4875761                5.0               4.545881  lXlEUF5EA4PDjtLhT2Iu8w   \n",
       "4875773                5.0               4.545881  IXHU--FVkanfIWP82aBCBA   \n",
       "4245032                2.5               2.893258  Bf3hX9Y3W00T2d0nSB_Crg   \n",
       "4245033                2.5               2.893258  nbVhicAu_-rOrXKh7xV2dA   \n",
       "4245038                2.5               2.893258  WoKCLSctS7G2547xKcED-Q   \n",
       "4245049                2.5               2.893258  7LMYtJ7xjMEpmGHJzQGFjg   \n",
       "4245053                2.5               2.893258  YopTJyzIiL6-3piLryzFrg   \n",
       "4245056                2.5               2.893258  rCWrxuRC8_pfagpchtHp6A   \n",
       "4245058                2.5               2.893258  -NmL2ZMmxc7b6_Gmr0_43g   \n",
       "4245061                2.5               2.893258  uTBeZCW6nSsuPgqScbf-0Q   \n",
       "4245064                2.5               2.893258  iCXJ3gO2GhopYHmfmnktfw   \n",
       "3396098                2.5               3.217652  D7IO6XICsQ9D7Us8ymbyAw   \n",
       "3396103                2.5               3.217652  VLlg4rAuHODidY143sf2Pg   \n",
       "3396105                2.5               3.217652  WeVkkF5L39888IPPlRhNpg   \n",
       "3396109                2.5               3.217652  FykmLnIuh6oPaSPJ3RLB_A   \n",
       "4433413                3.0               2.982036  Tp2ueTirl1lV6EvhPcc-5Q   \n",
       "4433415                3.0               2.982036  Tmw8c42MbUC968uKahphAw   \n",
       "4433419                3.0               2.982036  Q6E66wyWs8OOC_KxDLT4MQ   \n",
       "5256829                2.0               1.850283  6MDjqs8QE2A_TA0CYi8-UQ   \n",
       "1372719                4.0               2.140460  smcntJvBuWr_J_NhlSyHeA   \n",
       "5151658                2.5               3.898906  fzxwe76njDWbF0ZiJoP5Lw   \n",
       "1697509                3.5               3.716800  E43QxgV87Ij6KxMCHcijKw   \n",
       "1697524                3.5               3.716800  Ry1O_KXZHGRI8g5zBR3IcQ   \n",
       "4600585                4.0               3.824137  IJvtTTMvLFIDBBoiqtm6Uw   \n",
       "4722831                3.0               2.943541  ymi0YEAIyZm9DN0H-OBb5A   \n",
       "\n",
       "         original_yelp_user_rating  adjusted_sentiment_rating  \\\n",
       "3784439                          5                   4.535591   \n",
       "4737409                          4                   3.899200   \n",
       "907246                           4                   3.956057   \n",
       "907424                           4                   4.873866   \n",
       "1938376                          3                   3.537123   \n",
       "3830183                          4                   3.163127   \n",
       "3889700                          4                   4.497676   \n",
       "1668176                          5                   4.221543   \n",
       "2496748                          3                   3.971430   \n",
       "2496757                          4                   3.690165   \n",
       "2496811                          5                   3.988934   \n",
       "2496813                          5                   4.893775   \n",
       "2496828                          4                   3.608050   \n",
       "2496839                          5                   4.178485   \n",
       "2496857                          3                   3.889293   \n",
       "2496874                          4                   4.430749   \n",
       "2496877                          3                   3.321037   \n",
       "2496878                          2                   1.802178   \n",
       "2496879                          5                   4.073761   \n",
       "2496886                          5                   4.619903   \n",
       "2496888                          4                   3.545183   \n",
       "2496895                          4                   3.965803   \n",
       "2496900                          3                   3.646792   \n",
       "4446722                          4                   3.928270   \n",
       "4875759                          5                   4.338726   \n",
       "4875761                          5                   4.319883   \n",
       "4875773                          5                   4.979033   \n",
       "4245032                          1                   2.344371   \n",
       "4245033                          2                   2.994006   \n",
       "4245038                          3                   3.551554   \n",
       "4245049                          2                   1.814393   \n",
       "4245053                          4                   3.927350   \n",
       "4245056                          2                   2.980823   \n",
       "4245058                          3                   2.826069   \n",
       "4245061                          1                   1.870071   \n",
       "4245064                          4                   3.730689   \n",
       "3396098                          4                   4.253856   \n",
       "3396103                          2                   3.547741   \n",
       "3396105                          4                   3.660095   \n",
       "3396109                          1                   1.408917   \n",
       "4433413                          1                   2.758293   \n",
       "4433415                          5                   3.495788   \n",
       "4433419                          3                   2.692027   \n",
       "5256829                          1                   1.850283   \n",
       "1372719                          2                   2.140460   \n",
       "5151658                          4                   3.898906   \n",
       "1697509                          4                   4.304706   \n",
       "1697524                          4                   3.128894   \n",
       "4600585                          5                   3.824137   \n",
       "4722831                          2                   1.125818   \n",
       "\n",
       "                                      original_text_review  \\\n",
       "3784439  We've been coming here for years. The staff is...   \n",
       "4737409  Ordered several pizzas for a work party..chees...   \n",
       "907246   I was busy cooking dinner when my friend calle...   \n",
       "907424   Great food. Chicken, rice and beans, tacos, pl...   \n",
       "1938376  Went here last week with the husband for dinne...   \n",
       "3830183  This place is my favorite Chinese food place w...   \n",
       "3889700  Wow ... what a huge market indeed. This is the...   \n",
       "1668176  Shepards pie and taco Tuesday are definitely j...   \n",
       "2496748  The food is great, shrimp cocktails have an au...   \n",
       "2496757  We took a break from the Christmas shopping cr...   \n",
       "2496811  On our way to Sedona and used yelp to determin...   \n",
       "2496813  We had the Mahi Mahi fish tacos.  They were am...   \n",
       "2496828  I ordered the Chili Relleno combination platte...   \n",
       "2496839  We have eaten here once, and the experience wa...   \n",
       "2496857  While I don't think there is a river or a mira...   \n",
       "2496874  Came here with my boyfriend, we have been look...   \n",
       "2496877  We went here for dinner June 2nd to celebrate ...   \n",
       "2496878  Not what it used to be.  This was the third ti...   \n",
       "2496879  Ok, Midwest guys, best ever Mexican.  Why?  Au...   \n",
       "2496886  Awesome.  Since I moved to AZ. from TX. I have...   \n",
       "2496888  Went in this past Sunday about 10:30. We were ...   \n",
       "2496895  We went at the height of the dinner rush on Fr...   \n",
       "2496900  This place is a good lunch break spot if you a...   \n",
       "4446722  hmm, hopefully I am reviewing the right thing....   \n",
       "4875759  My dad took me in for lunch. He was there 2 we...   \n",
       "4875761  I tried the carne asada tacos and the carnitas...   \n",
       "4875773  Went in and got a taco combo and some other st...   \n",
       "4245032  This is a tale of two teachers, a married coup...   \n",
       "4245033  I have been here a number of times, mostly bec...   \n",
       "4245038  It hurts my heart a little to see all the one ...   \n",
       "4245049  So this place. Have been driving by it for 6 m...   \n",
       "4245053  I remember the day, years ago, when I would ex...   \n",
       "4245056  In business for longer than I have been on thi...   \n",
       "4245058  I have been going past this place since I was ...   \n",
       "4245061  Stopped in for a quick lunch and was very disa...   \n",
       "4245064  Jose and Tony's is a great spot to grab some t...   \n",
       "3396098  Very good and friendly ordering service from t...   \n",
       "3396103  Had the surf and turf burrito bowl today. Alth...   \n",
       "3396105  I don't understand how this place doesn't have...   \n",
       "3396109  Absolutely the worst soft tacos we have ever h...   \n",
       "4433413  They used to exceptional service! Now they lac...   \n",
       "4433415  I only come here once in a while, but I have r...   \n",
       "4433419  The \"fast\" in fast food apparently doesn't app...   \n",
       "5256829  Me and my girlfriend walked into this place af...   \n",
       "1372719  Don't get me wrong, the quality is superb at t...   \n",
       "5151658  While almost everything was amazing, there was...   \n",
       "1697509  Like to play games? Watch sports? Eat? Drink b...   \n",
       "1697524  Gave trivia night another shot at Ed's... I th...   \n",
       "4600585  This place is an absolute GEM! I constantly he...   \n",
       "4722831  Our waiter was friendly, but very scatter brai...   \n",
       "\n",
       "                                          tokenized_review  \n",
       "3784439  [coming, years, staff, great, recently, added,...  \n",
       "4737409  [ordered, pizzas, work, party, cheeseburger, b...  \n",
       "907246   [busy, cooking, dinner, friend, called, said, ...  \n",
       "907424   [great, food, chicken, rice, beans, tacos, pla...  \n",
       "1938376  [went, week, husband, dinner, coupon, saw, fri...  \n",
       "3830183  [place, favorite, chinese, food, place, miles,...  \n",
       "3889700  [wow, huge, market, sister, store, smaller, me...  \n",
       "1668176  [shepards, pie, taco, tuesday, definitely, cou...  \n",
       "2496748  [food, great, shrimp, cocktails, authentic, fl...  \n",
       "2496757  [took, break, christmas, shopping, craziness, ...  \n",
       "2496811  [way, sedona, yelp, determine, stop, easy, loc...  \n",
       "2496813  [mahi, mahi, fish, tacos, amazing, loved, sals...  \n",
       "2496828  [ordered, chili, relleno, combination, platter...  \n",
       "2496839  [eaten, experience, great, definitely, hidden,...  \n",
       "2496857  [think, river, mirage, near, place, large, pud...  \n",
       "2496874  [came, boyfriend, looking, good, mexican, rest...  \n",
       "2496877  [went, dinner, june, celebrate, friend, birthd...  \n",
       "2496878  [time, season, ate, sure, returned, encountere...  \n",
       "2496879  [midwest, guys, best, mexican, authentic, loca...  \n",
       "2496886  [awesome, moved, searching, good, mexican, foo...  \n",
       "2496888  [went, past, sunday, seated, promptly, friendl...  \n",
       "2496895  [went, height, dinner, rush, friday, wanted, d...  \n",
       "2496900  [place, good, lunch, break, spot, lunch, break...  \n",
       "4446722  [hmm, hopefully, reviewing, right, thing, sure...  \n",
       "4875759  [dad, took, lunch, weeks, ago, couldn, stop, t...  \n",
       "4875761  [tried, carne, asada, tacos, carnitas, tacos, ...  \n",
       "4875773  [went, got, taco, combo, stuff, amazing, fresh...  \n",
       "4245032  [tale, teachers, married, couple, looking, che...  \n",
       "4245033  [number, times, convenient, near, friends, add...  \n",
       "4245038  [hurts, heart, little, star, reviews, jose, to...  \n",
       "4245049  [place, driving, months, finally, inside, plac...  \n",
       "4245053  [remember, day, years, ago, excitedly, run, st...  \n",
       "4245056  [business, longer, earthly, plane, jose, tony,...  \n",
       "4245058  [going, past, place, kid, means, business, yea...  \n",
       "4245061  [stopped, quick, lunch, disappointed, bartende...  \n",
       "4245064  [jose, tony, great, spot, grab, tacos, beers, ...  \n",
       "3396098  [good, friendly, ordering, service, man, charg...  \n",
       "3396103  [surf, turf, burrito, bowl, today, shrimp, lov...  \n",
       "3396105  [understand, place, reviews, good, reviews, ma...  \n",
       "3396109  [absolutely, worst, soft, tacos, taco, bell, h...  \n",
       "4433413  [exceptional, service, lack, lazy, build, toda...  \n",
       "4433415  [come, received, great, customer, service, tim...  \n",
       "4433419  [fast, fast, food, apparently, apply, way, hom...  \n",
       "5256829  [girlfriend, walked, place, mary, anns, diner,...  \n",
       "1372719  [wrong, quality, superb, restaurant, service, ...  \n",
       "5151658  [amazing, flaw, main, meal, steak, tacos, blan...  \n",
       "1697509  [like, play, games, watch, sports, eat, drink,...  \n",
       "1697524  [gave, trivia, night, shot, think, time, trivi...  \n",
       "4600585  [place, absolute, gem, constantly, hear, frien...  \n",
       "4722831  [waiter, friendly, scatter, brained, flag, sod...  "
      ]
     },
     "execution_count": 48,
     "metadata": {},
     "output_type": "execute_result"
    }
   ],
   "source": [
    "tacos_df.head(50)"
   ]
  },
  {
   "cell_type": "code",
   "execution_count": 49,
   "metadata": {},
   "outputs": [
    {
     "data": {
      "text/plain": [
       "business_id                                             -6tvduBzjLI1ISfs3F_qTg\n",
       "business_name                                             \"Joyride Taco House\"\n",
       "yelp_store_rating                                                            4\n",
       "adjusted_store_rating                                                  3.80471\n",
       "user_id                                                 yJaqAq9oVLHrzY_ZHUZyYw\n",
       "original_yelp_user_rating                                                    4\n",
       "adjusted_sentiment_rating                                              4.45047\n",
       "original_text_review         Love that Gilbert AZ is coming up in the world...\n",
       "tokenized_review             [love, gilbert, coming, world, moved, chandler...\n",
       "Name: 673532, dtype: object"
      ]
     },
     "execution_count": 49,
     "metadata": {},
     "output_type": "execute_result"
    }
   ],
   "source": [
    "tacos_df.iloc[420]"
   ]
  },
  {
   "cell_type": "code",
   "execution_count": null,
   "metadata": {},
   "outputs": [],
   "source": []
  },
  {
   "cell_type": "code",
   "execution_count": 50,
   "metadata": {},
   "outputs": [
    {
     "data": {
      "text/plain": [
       "' Create a local JSON file that we can send to Backend '"
      ]
     },
     "execution_count": 50,
     "metadata": {},
     "output_type": "execute_result"
    }
   ],
   "source": [
    "''' Create a local JSON file that we can send to Backend '''\n",
    "#tacos_df.to_json('adjusted_reviews.json', orient='records', lines=True)"
   ]
  },
  {
   "cell_type": "code",
   "execution_count": 51,
   "metadata": {},
   "outputs": [
    {
     "data": {
      "text/plain": [
       "0.008528909341936064"
      ]
     },
     "execution_count": 51,
     "metadata": {},
     "output_type": "execute_result"
    }
   ],
   "source": [
    "min(tacos_df['adjusted_sentiment_rating'])"
   ]
  },
  {
   "cell_type": "code",
   "execution_count": 52,
   "metadata": {},
   "outputs": [
    {
     "data": {
      "text/plain": [
       "4.999826596171201"
      ]
     },
     "execution_count": 52,
     "metadata": {},
     "output_type": "execute_result"
    }
   ],
   "source": [
    "max(tacos_df['adjusted_sentiment_rating'])"
   ]
  },
  {
   "cell_type": "code",
   "execution_count": 53,
   "metadata": {},
   "outputs": [
    {
     "data": {
      "text/plain": [
       "<matplotlib.axes._subplots.AxesSubplot at 0x1ad06e3ed0>"
      ]
     },
     "execution_count": 53,
     "metadata": {},
     "output_type": "execute_result"
    },
    {
     "data": {
      "image/png": "[encoded data removed]",
      "text/plain": [
       "<Figure size 936x936 with 1 Axes>"
      ]
     },
     "metadata": {
      "needs_background": "light"
     },
     "output_type": "display_data"
    }
   ],
   "source": [
    "''' The distribution of the adjusted sentiment ratings w/ outliers removed '''\n",
    "sns.distplot(tacos_df['adjusted_sentiment_rating'])"
   ]
  },
  {
   "cell_type": "code",
   "execution_count": 54,
   "metadata": {},
   "outputs": [
    {
     "data": {
      "text/plain": [
       "array([4.52335091, 4.43520618, 4.73948655, ..., 3.98861992, 2.20334671,\n",
       "       3.47796396])"
      ]
     },
     "execution_count": 54,
     "metadata": {},
     "output_type": "execute_result"
    }
   ],
   "source": [
    "y_pred"
   ]
  },
  {
   "cell_type": "code",
   "execution_count": 55,
   "metadata": {},
   "outputs": [
    {
     "data": {
      "text/plain": [
       "array([4.55734712])"
      ]
     },
     "execution_count": 55,
     "metadata": {},
     "output_type": "execute_result"
    }
   ],
   "source": [
    "grid_search.predict(fake_ass_review)"
   ]
  },
  {
   "cell_type": "code",
   "execution_count": 56,
   "metadata": {},
   "outputs": [
    {
     "data": {
      "text/plain": [
       "array([1.03043175])"
      ]
     },
     "execution_count": 56,
     "metadata": {},
     "output_type": "execute_result"
    }
   ],
   "source": [
    "grid_search.predict(['''\n",
    "Fuck this place. Awful. Horrible. Beautiful.\n",
    "'''])"
   ]
  },
  {
   "cell_type": "code",
   "execution_count": 57,
   "metadata": {},
   "outputs": [
    {
     "data": {
      "text/plain": [
       "' \\nFrom here, make a new dataframe that includes the old AND new stars, and then can run \\nan XGB regressor on all the extra data(the text data and sentiment is summed up with the\\nmodified sentiemtn rating) Then the final regressor rating will be... THE THING \\n'"
      ]
     },
     "execution_count": 57,
     "metadata": {},
     "output_type": "execute_result"
    }
   ],
   "source": [
    "''' \n",
    "From here, make a new dataframe that includes the old AND new stars, and then can run \n",
    "an XGB regressor on all the extra data(the text data and sentiment is summed up with the\n",
    "modified sentiemtn rating) Then the final regressor rating will be... THE THING \n",
    "'''"
   ]
  },
  {
   "cell_type": "code",
   "execution_count": null,
   "metadata": {},
   "outputs": [],
   "source": []
  },
  {
   "cell_type": "code",
   "execution_count": 58,
   "metadata": {},
   "outputs": [],
   "source": [
    "X_train = reviews_df['tokens']\n",
    "y_train = np.array(reviews_df['stars'])\n",
    "x_test = X_test"
   ]
  },
  {
   "cell_type": "code",
   "execution_count": 59,
   "metadata": {},
   "outputs": [
    {
     "data": {
      "text/plain": [
       "array([5, 3, 2, ..., 4, 5, 4])"
      ]
     },
     "execution_count": 59,
     "metadata": {},
     "output_type": "execute_result"
    }
   ],
   "source": [
    "y_train"
   ]
  },
  {
   "cell_type": "code",
   "execution_count": 60,
   "metadata": {},
   "outputs": [
    {
     "data": {
      "text/plain": [
       "(112220,)"
      ]
     },
     "execution_count": 60,
     "metadata": {},
     "output_type": "execute_result"
    }
   ],
   "source": [
    "reviews_df['tokens'].shape"
   ]
  },
  {
   "cell_type": "code",
   "execution_count": 61,
   "metadata": {},
   "outputs": [],
   "source": [
    "tokenizer = Tokenizer(num_words = 20000)\n",
    "tokenizer.fit_on_texts(reviews_df['tokens'])\n",
    "\n",
    "sequences = tokenizer.texts_to_sequences(reviews_df['tokens'])\n",
    "data = pad_sequences(sequences, maxlen=100)"
   ]
  },
  {
   "cell_type": "code",
   "execution_count": 62,
   "metadata": {},
   "outputs": [],
   "source": [
    "tokenizer = Tokenizer(num_words = 20000)\n",
    "tokenizer.fit_on_texts(x_test['tokens'])\n",
    "\n",
    "sequences = tokenizer.texts_to_sequences(x_test['tokens'])\n",
    "x_test = pad_sequences(sequences, maxlen=100)"
   ]
  },
  {
   "cell_type": "code",
   "execution_count": 63,
   "metadata": {},
   "outputs": [
    {
     "name": "stdout",
     "output_type": "stream",
     "text": [
      "(112220, 100)\n"
     ]
    }
   ],
   "source": [
    "print(data.shape)"
   ]
  },
  {
   "cell_type": "code",
   "execution_count": 64,
   "metadata": {},
   "outputs": [
    {
     "data": {
      "text/plain": [
       "(9759, 100)"
      ]
     },
     "execution_count": 64,
     "metadata": {},
     "output_type": "execute_result"
    }
   ],
   "source": [
    "x_test.shape"
   ]
  },
  {
   "cell_type": "code",
   "execution_count": 65,
   "metadata": {},
   "outputs": [
    {
     "data": {
      "text/plain": [
       "array([[    0,     0,     0, ...,     7,    18,    29],\n",
       "       [    0,     0,     0, ...,     4,   240,   623],\n",
       "       [    0,     0,  1642, ...,     4,    61,    78],\n",
       "       ...,\n",
       "       [    0,     0,     0, ..., 10520,  1832,  2375],\n",
       "       [    0,     0,     0, ...,  5817,     6,   570],\n",
       "       [    0,     0,     0, ...,     7,   488,   431]], dtype=int32)"
      ]
     },
     "execution_count": 65,
     "metadata": {},
     "output_type": "execute_result"
    }
   ],
   "source": [
    "data"
   ]
  },
  {
   "cell_type": "code",
   "execution_count": 66,
   "metadata": {},
   "outputs": [
    {
     "name": "stdout",
     "output_type": "stream",
     "text": [
      "(112220,)\n"
     ]
    },
    {
     "data": {
      "text/plain": [
       "array([5, 3, 2, ..., 4, 5, 4])"
      ]
     },
     "execution_count": 66,
     "metadata": {},
     "output_type": "execute_result"
    }
   ],
   "source": [
    "print(y_train.T.shape)\n",
    "y_train.T "
   ]
  },
  {
   "cell_type": "code",
   "execution_count": 67,
   "metadata": {},
   "outputs": [
    {
     "data": {
      "text/plain": [
       "array([5, 3, 2, ..., 4, 5, 4])"
      ]
     },
     "execution_count": 67,
     "metadata": {},
     "output_type": "execute_result"
    }
   ],
   "source": [
    "y_train"
   ]
  },
  {
   "cell_type": "code",
   "execution_count": 68,
   "metadata": {},
   "outputs": [],
   "source": [
    "def encode(data):\n",
    "    print('Shape of data (BEFORE encode): %s' % str(data.shape))\n",
    "    encoded = to_categorical(data)\n",
    "    print('Shape of data (AFTER  encode): %s\\n' % str(encoded.shape))\n",
    "    return encoded"
   ]
  },
  {
   "cell_type": "code",
   "execution_count": 69,
   "metadata": {},
   "outputs": [
    {
     "name": "stdout",
     "output_type": "stream",
     "text": [
      "Shape of data (BEFORE encode): (112220,)\n",
      "Shape of data (AFTER  encode): (112220, 6)\n",
      "\n"
     ]
    }
   ],
   "source": [
    "y_train = encode(y_train)"
   ]
  },
  {
   "cell_type": "code",
   "execution_count": 70,
   "metadata": {},
   "outputs": [
    {
     "data": {
      "text/plain": [
       "array([[0., 0., 0., 0., 0., 1.],\n",
       "       [0., 0., 0., 1., 0., 0.],\n",
       "       [0., 0., 1., 0., 0., 0.],\n",
       "       ...,\n",
       "       [0., 0., 0., 0., 1., 0.],\n",
       "       [0., 0., 0., 0., 0., 1.],\n",
       "       [0., 0., 0., 0., 1., 0.]], dtype=float32)"
      ]
     },
     "execution_count": 70,
     "metadata": {},
     "output_type": "execute_result"
    }
   ],
   "source": [
    "y_train"
   ]
  },
  {
   "cell_type": "code",
   "execution_count": 71,
   "metadata": {},
   "outputs": [
    {
     "name": "stdout",
     "output_type": "stream",
     "text": [
      "Model: \"sequential\"\n",
      "_________________________________________________________________\n",
      "Layer (type)                 Output Shape              Param #   \n",
      "=================================================================\n",
      "embedding (Embedding)        (None, None, 100)         2000000   \n",
      "_________________________________________________________________\n",
      "lstm (LSTM)                  (None, 100)               80400     \n",
      "_________________________________________________________________\n",
      "dense (Dense)                (None, 6)                 606       \n",
      "=================================================================\n",
      "Total params: 2,081,006\n",
      "Trainable params: 2,081,006\n",
      "Non-trainable params: 0\n",
      "_________________________________________________________________\n"
     ]
    }
   ],
   "source": [
    "model = Sequential()\n",
    "model.add(Embedding(20000, 100))\n",
    "model.add(LSTM(100, dropout=.2, recurrent_dropout=.2))\n",
    "model.add(Dense(6, activation='softmax'))\n",
    "model.summary()"
   ]
  },
  {
   "cell_type": "code",
   "execution_count": 72,
   "metadata": {},
   "outputs": [
    {
     "data": {
      "text/plain": [
       "array([[0.16888948, 0.16481489, 0.16881853, 0.16362381, 0.1688071 ,\n",
       "        0.16504619],\n",
       "       [0.16886649, 0.16435526, 0.1632299 , 0.16709252, 0.17048118,\n",
       "        0.16597469],\n",
       "       [0.16652665, 0.16938056, 0.16510127, 0.16529417, 0.16734068,\n",
       "        0.16635662],\n",
       "       ...,\n",
       "       [0.16794325, 0.1635451 , 0.1667635 , 0.16767468, 0.1683858 ,\n",
       "        0.16568775],\n",
       "       [0.16654298, 0.16803387, 0.16519336, 0.16804181, 0.1669511 ,\n",
       "        0.16523688],\n",
       "       [0.16704193, 0.16889085, 0.1663398 , 0.16385254, 0.16667663,\n",
       "        0.1671983 ]], dtype=float32)"
      ]
     },
     "execution_count": 72,
     "metadata": {},
     "output_type": "execute_result"
    }
   ],
   "source": [
    "model.predict(x_test)"
   ]
  },
  {
   "cell_type": "code",
   "execution_count": 73,
   "metadata": {},
   "outputs": [
    {
     "data": {
      "text/plain": [
       "user_id                                   g4ptSwb0C1b7PYDo8lHDpQ\n",
       "business_id                               bMSiHjs2fbKbBNPyuTwhHA\n",
       "stars                                                          4\n",
       "text           I'm gonna say four stars because the current o...\n",
       "name                                              \"Coastal Taco\"\n",
       "rating                                                       2.5\n",
       "tokens         [gonna, stars, current, overall, warranted, pr...\n",
       "Name: 2390802, dtype: object"
      ]
     },
     "execution_count": 73,
     "metadata": {},
     "output_type": "execute_result"
    }
   ],
   "source": [
    "X_test.iloc[0]"
   ]
  },
  {
   "cell_type": "code",
   "execution_count": null,
   "metadata": {},
   "outputs": [],
   "source": []
  },
  {
   "cell_type": "code",
   "execution_count": 74,
   "metadata": {},
   "outputs": [],
   "source": [
    "model_conv = Sequential()\n",
    "model_conv.add(Embedding(20000, 200))\n",
    "model_conv.add(Dropout(0.2)) \n",
    "model_conv.add(Conv1D(128, 6, activation='relu'))\n",
    "model_conv.add(MaxPooling1D(pool_size=4))\n",
    "model_conv.add(LSTM(200))\n",
    "model_conv.add(Dense(6, activation='softmax'))\n",
    "model_conv.compile(loss='categorical_crossentropy', optimizer='adam', metrics=['accuracy'])"
   ]
  },
  {
   "cell_type": "code",
   "execution_count": 75,
   "metadata": {},
   "outputs": [
    {
     "name": "stdout",
     "output_type": "stream",
     "text": [
      "Train on 102681 samples, validate on 9539 samples\n",
      "Epoch 1/10\n",
      "102681/102681 [==============================] - 130s 1ms/sample - loss: 1.3028 - accuracy: 0.4339 - val_loss: 0.9864 - val_accuracy: 0.5618\n",
      "Epoch 2/10\n",
      "102681/102681 [==============================] - 125s 1ms/sample - loss: 0.9045 - accuracy: 0.5983 - val_loss: 0.9030 - val_accuracy: 0.6015\n",
      "Epoch 3/10\n",
      "102681/102681 [==============================] - 124s 1ms/sample - loss: 0.8280 - accuracy: 0.6372 - val_loss: 0.9293 - val_accuracy: 0.5865\n",
      "Epoch 4/10\n",
      "102681/102681 [==============================] - 127s 1ms/sample - loss: 0.7912 - accuracy: 0.6551 - val_loss: 0.9140 - val_accuracy: 0.5945\n",
      "Epoch 5/10\n",
      "102681/102681 [==============================] - 128s 1ms/sample - loss: 0.7603 - accuracy: 0.6714 - val_loss: 0.9312 - val_accuracy: 0.5984\n",
      "Epoch 6/10\n",
      "102681/102681 [==============================] - 128s 1ms/sample - loss: 0.7254 - accuracy: 0.6911 - val_loss: 0.9694 - val_accuracy: 0.5917\n",
      "Epoch 7/10\n",
      "102681/102681 [==============================] - 132s 1ms/sample - loss: 0.6894 - accuracy: 0.7102 - val_loss: 0.9802 - val_accuracy: 0.5839\n",
      "Epoch 8/10\n",
      "102681/102681 [==============================] - 122s 1ms/sample - loss: 0.6443 - accuracy: 0.7340 - val_loss: 1.0150 - val_accuracy: 0.5830\n",
      "Epoch 9/10\n",
      "102681/102681 [==============================] - 125s 1ms/sample - loss: 0.5836 - accuracy: 0.7655 - val_loss: 1.1412 - val_accuracy: 0.5601\n",
      "Epoch 10/10\n",
      "102681/102681 [==============================] - 132s 1ms/sample - loss: 0.5226 - accuracy: 0.7943 - val_loss: 1.1795 - val_accuracy: 0.5538\n"
     ]
    },
    {
     "data": {
      "text/plain": [
       "<tensorflow.python.keras.callbacks.History at 0x1a55bd9910>"
      ]
     },
     "execution_count": 75,
     "metadata": {},
     "output_type": "execute_result"
    }
   ],
   "source": [
    "model_conv.fit(data, y_train,  validation_split=.085, epochs=10, batch_size=2048)"
   ]
  },
  {
   "cell_type": "code",
   "execution_count": 76,
   "metadata": {},
   "outputs": [],
   "source": [
    "a = model_conv.predict(x_test)"
   ]
  },
  {
   "cell_type": "code",
   "execution_count": 77,
   "metadata": {},
   "outputs": [
    {
     "data": {
      "text/plain": [
       "array([0.00242021, 0.01453706, 0.03021179, 0.11634187, 0.28991994,\n",
       "       0.5465691 ], dtype=float32)"
      ]
     },
     "execution_count": 77,
     "metadata": {},
     "output_type": "execute_result"
    }
   ],
   "source": [
    "a[9758]"
   ]
  },
  {
   "cell_type": "code",
   "execution_count": 78,
   "metadata": {},
   "outputs": [
    {
     "data": {
      "text/plain": [
       "(9759, 100)"
      ]
     },
     "execution_count": 78,
     "metadata": {},
     "output_type": "execute_result"
    }
   ],
   "source": [
    "x_test.shape"
   ]
  },
  {
   "cell_type": "code",
   "execution_count": null,
   "metadata": {},
   "outputs": [],
   "source": []
  },
  {
   "cell_type": "code",
   "execution_count": 79,
   "metadata": {},
   "outputs": [
    {
     "data": {
      "text/plain": [
       "['pipeline.joblib']"
      ]
     },
     "execution_count": 79,
     "metadata": {},
     "output_type": "execute_result"
    }
   ],
   "source": [
    "from joblib import dump\n",
    "dump(pipe, 'pipeline.joblib')"
   ]
  },
  {
   "cell_type": "code",
   "execution_count": null,
   "metadata": {},
   "outputs": [],
   "source": []
  }
 ],
 "metadata": {
  "kernelspec": {
   "display_name": "Python 3",
   "language": "python",
   "name": "python3"
  },
  "language_info": {
   "codemirror_mode": {
    "name": "ipython",
    "version": 3
   },
   "file_extension": ".py",
   "mimetype": "text/x-python",
   "name": "python",
   "nbconvert_exporter": "python",
   "pygments_lexer": "ipython3",
   "version": "3.7.4"
  }
 },
 "nbformat": 4,
 "nbformat_minor": 2
}
